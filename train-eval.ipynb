{
 "cells": [
  {
   "cell_type": "code",
   "execution_count": 1,
   "metadata": {
    "colab": {
     "base_uri": "https://localhost:8080/",
     "height": 353
    },
    "colab_type": "code",
    "id": "x4X-aiMDxtFP",
    "outputId": "1677bbae-557d-44e7-88bc-ee5c1e349976"
   },
   "outputs": [
    {
     "name": "stdout",
     "output_type": "stream",
     "text": [
      "Fri Aug 28 10:32:15 2020       \n",
      "+-----------------------------------------------------------------------------+\n",
      "| NVIDIA-SMI 450.57       Driver Version: 418.67       CUDA Version: 10.1     |\n",
      "|-------------------------------+----------------------+----------------------+\n",
      "| GPU  Name        Persistence-M| Bus-Id        Disp.A | Volatile Uncorr. ECC |\n",
      "| Fan  Temp  Perf  Pwr:Usage/Cap|         Memory-Usage | GPU-Util  Compute M. |\n",
      "|                               |                      |               MIG M. |\n",
      "|===============================+======================+======================|\n",
      "|   0  Tesla T4            Off  | 00000000:00:04.0 Off |                    0 |\n",
      "| N/A   43C    P8    10W /  70W |      0MiB / 15079MiB |      0%      Default |\n",
      "|                               |                      |                 ERR! |\n",
      "+-------------------------------+----------------------+----------------------+\n",
      "                                                                               \n",
      "+-----------------------------------------------------------------------------+\n",
      "| Processes:                                                                  |\n",
      "|  GPU   GI   CI        PID   Type   Process name                  GPU Memory |\n",
      "|        ID   ID                                                   Usage      |\n",
      "|=============================================================================|\n",
      "|  No running processes found                                                 |\n",
      "+-----------------------------------------------------------------------------+\n"
     ]
    }
   ],
   "source": [
    "!nvidia-smi"
   ]
  },
  {
   "cell_type": "code",
   "execution_count": null,
   "metadata": {
    "colab": {},
    "colab_type": "code",
    "id": "U6jgOOIcxvlX"
   },
   "outputs": [],
   "source": [
    "#!git clone https://github.com/NVIDIA/apex /apex\n",
    "#!pip install -v --no-cache-dir --global-option=\"--cpp_ext\" --global-option=\"--cuda_ext\" /apex/."
   ]
  },
  {
   "cell_type": "code",
   "execution_count": 2,
   "metadata": {
    "colab": {
     "base_uri": "https://localhost:8080/",
     "height": 171
    },
    "colab_type": "code",
    "id": "g7BbW21dxw32",
    "outputId": "fa462b25-0e67-42a8-833c-7ae729a8d77a"
   },
   "outputs": [
    {
     "name": "stdout",
     "output_type": "stream",
     "text": [
      "Go to this URL in a browser: https://accounts.google.com/o/oauth2/auth?client_id=947318989803-6bn6qk8qdgf4n4g3pfee6491hc0brc4i.apps.googleusercontent.com&redirect_uri=urn%3aietf%3awg%3aoauth%3a2.0%3aoob&scope=email%20https%3a%2f%2fwww.googleapis.com%2fauth%2fdocs.test%20https%3a%2f%2fwww.googleapis.com%2fauth%2fdrive%20https%3a%2f%2fwww.googleapis.com%2fauth%2fdrive.photos.readonly%20https%3a%2f%2fwww.googleapis.com%2fauth%2fpeopleapi.readonly&response_type=code\n",
      "\n",
      "Enter your authorization code:\n",
      "··········\n",
      "Mounted at /content/gdrive\n",
      "models\t\t    train-eval-sddEff.ipynb\ttrainval.zip\n",
      "train-eval-2.ipynb  train-eval-sddLite.ipynb\n",
      "train-eval.ipynb    train_eval_sddLiteV2.ipynb\n"
     ]
    }
   ],
   "source": [
    "from google.colab import drive\n",
    "drive.mount('/content/gdrive')\n",
    "!ls \"/content/gdrive/My Drive/lab/SSD/\"\n",
    "gdrive_dir = \"/content/gdrive/My Drive/lab/SSD/\""
   ]
  },
  {
   "cell_type": "code",
   "execution_count": 3,
   "metadata": {
    "colab": {
     "base_uri": "https://localhost:8080/",
     "height": 185
    },
    "colab_type": "code",
    "id": "I0_DA3T4DxdK",
    "outputId": "33bddcae-5e1a-4557-ec01-a69fe086b105"
   },
   "outputs": [
    {
     "name": "stdout",
     "output_type": "stream",
     "text": [
      "Cloning into 'single-shot-detection-pytorch'...\n",
      "remote: Enumerating objects: 325, done.\u001b[K\n",
      "remote: Counting objects: 100% (325/325), done.\u001b[K\n",
      "remote: Compressing objects: 100% (261/261), done.\u001b[K\n",
      "remote: Total 325 (delta 133), reused 246 (delta 62), pack-reused 0\u001b[K\n",
      "Receiving objects: 100% (325/325), 8.58 MiB | 10.36 MiB/s, done.\n",
      "Resolving deltas: 100% (133/133), done.\n",
      "\u001b[K     |████████████████████████████████| 122kB 9.0MB/s \n",
      "\u001b[K     |████████████████████████████████| 952kB 13.3MB/s \n",
      "\u001b[?25h  Building wheel for albumentations (setup.py) ... \u001b[?25l\u001b[?25hdone\n"
     ]
    }
   ],
   "source": [
    "!unzip -q \"/content/gdrive/My Drive/lab/SSD/trainval.zip\" -d /content\n",
    "!git clone https://github.com/ncthuan/single-shot-detection-pytorch\n",
    "!cp -r single-shot-detection-pytorch/. .\n",
    "!pip install albumentations==0.4.6 -q"
   ]
  },
  {
   "cell_type": "code",
   "execution_count": 4,
   "metadata": {
    "colab": {
     "base_uri": "https://localhost:8080/",
     "height": 70
    },
    "colab_type": "code",
    "id": "FM286mawDxdQ",
    "outputId": "93f7d999-c53b-46ea-d06d-cb6aa4a356b5"
   },
   "outputs": [
    {
     "name": "stderr",
     "output_type": "stream",
     "text": [
      "/usr/local/lib/python3.6/dist-packages/statsmodels/tools/_testing.py:19: FutureWarning: pandas.util.testing is deprecated. Use the functions in the public API at pandas.testing instead.\n",
      "  import pandas.util.testing as tm\n"
     ]
    }
   ],
   "source": [
    "import os\n",
    "import time\n",
    "import torch\n",
    "import torch.cuda as cuda\n",
    "import seaborn as sns\n",
    "import numpy as np\n",
    "from torch.utils.data import DataLoader\n",
    "from dataset import VOCDataset, collate_fn\n",
    "from ssd300 import SSD300\n",
    "from loss import MultiBoxLoss\n",
    "from utils import create_data_lists, clip_gradient, save_checkpoint\n",
    "from eval_detection_voc import eval_detection_voc\n",
    "device = torch.device(\"cuda\" if cuda.is_available() else \"cpu\") "
   ]
  },
  {
   "cell_type": "markdown",
   "metadata": {
    "colab_type": "text",
    "id": "KqWYYcDRDxdb"
   },
   "source": [
    "## Load dataset"
   ]
  },
  {
   "cell_type": "code",
   "execution_count": null,
   "metadata": {
    "colab": {},
    "colab_type": "code",
    "id": "IvpCjiaTSB-b"
   },
   "outputs": [],
   "source": [
    "from utils import create_data_lists\n",
    "voc07_path = os.path.join('datasets/', 'VOC2007/')\n",
    "voc12_path = os.path.join('datasets/', 'VOC2012/')\n",
    "create_data_lists(voc07_path, voc12_path, output_folder='datasets/')"
   ]
  },
  {
   "cell_type": "code",
   "execution_count": null,
   "metadata": {
    "colab": {
     "base_uri": "https://localhost:8080/",
     "height": 50
    },
    "colab_type": "code",
    "id": "TrfITEcmSB-h",
    "outputId": "2647cb4e-8132-469c-e0d4-5e20f9cf7ffd"
   },
   "outputs": [
    {
     "name": "stdout",
     "output_type": "stream",
     "text": [
      "label_map.json\t   TRAIN_objects.json  VAL_objects.json  VOC2012\n",
      "TRAIN_images.json  VAL_images.json     VOC2007\n"
     ]
    }
   ],
   "source": [
    "!ls datasets/"
   ]
  },
  {
   "cell_type": "code",
   "execution_count": 5,
   "metadata": {
    "colab": {},
    "colab_type": "code",
    "id": "LMId7L0MSB-n"
   },
   "outputs": [],
   "source": [
    "torch.manual_seed(42)\n",
    "trainset = VOCDataset(data_folder='datasets/', json_files=('TRAIN_images.json', 'TRAIN_objects.json'), augment=True, img_size=300)\n",
    "valset = VOCDataset(data_folder='datasets/', json_files=('VAL_images.json', 'VAL_objects.json'), img_size=300)\n",
    "\n",
    "dataloaders = dict(\n",
    "    train = DataLoader(trainset, batch_size=32, collate_fn=collate_fn, shuffle=True, num_workers=2),\n",
    "    val = DataLoader(valset, batch_size=32, collate_fn=collate_fn, shuffle=False, num_workers=2),\n",
    ")"
   ]
  },
  {
   "cell_type": "markdown",
   "metadata": {
    "colab_type": "text",
    "id": "Dy-WByyqSB-t"
   },
   "source": [
    "## EDA"
   ]
  },
  {
   "cell_type": "code",
   "execution_count": null,
   "metadata": {
    "colab": {},
    "colab_type": "code",
    "id": "wzIXbWBoSB-u"
   },
   "outputs": [],
   "source": [
    "def visualize_objects_stat(dataset):\n",
    "    targets = dataset.targets\n",
    "    objects = list()\n",
    "    for target in targets:\n",
    "        objects.extend(target['labels'])\n",
    "    print('Total number of annotated objects:', len(objects))\n",
    "    sns.countplot(objects)"
   ]
  },
  {
   "cell_type": "code",
   "execution_count": null,
   "metadata": {
    "colab": {},
    "colab_type": "code",
    "id": "r-Fy3-_hSB-z",
    "outputId": "d3779fd0-3ff8-4030-b8d9-e8fd951e9a89"
   },
   "outputs": [
    {
     "data": {
      "text/plain": [
       "{'aeroplane': 1,\n",
       " 'bicycle': 2,\n",
       " 'bird': 3,\n",
       " 'boat': 4,\n",
       " 'bottle': 5,\n",
       " 'bus': 6,\n",
       " 'car': 7,\n",
       " 'cat': 8,\n",
       " 'chair': 9,\n",
       " 'cow': 10,\n",
       " 'diningtable': 11,\n",
       " 'dog': 12,\n",
       " 'horse': 13,\n",
       " 'motorbike': 14,\n",
       " 'person': 15,\n",
       " 'pottedplant': 16,\n",
       " 'sheep': 17,\n",
       " 'sofa': 18,\n",
       " 'train': 19,\n",
       " 'tvmonitor': 20,\n",
       " 'background': 0}"
      ]
     },
     "execution_count": 4,
     "metadata": {
      "tags": []
     },
     "output_type": "execute_result"
    }
   ],
   "source": [
    "label_map"
   ]
  },
  {
   "cell_type": "code",
   "execution_count": null,
   "metadata": {
    "colab": {},
    "colab_type": "code",
    "id": "57SLJUUaSB-6",
    "outputId": "d9945b82-8190-4798-b637-cfd9f862e302"
   },
   "outputs": [
    {
     "name": "stdout",
     "output_type": "stream",
     "text": [
      "Total number of annotated objects: 49949\n"
     ]
    },
    {
     "data": {
      "image/png": "[encoded data removed]",
      "text/plain": [
       "<Figure size 432x288 with 1 Axes>"
      ]
     },
     "metadata": {
      "needs_background": "light",
      "tags": []
     },
     "output_type": "display_data"
    }
   ],
   "source": [
    "visualize_objects_stat(trainset)"
   ]
  },
  {
   "cell_type": "code",
   "execution_count": null,
   "metadata": {
    "colab": {},
    "colab_type": "code",
    "id": "_Y4pAM55SB-_",
    "outputId": "5851fdaa-4da6-48af-a9bc-20ed444d2dd2"
   },
   "outputs": [
    {
     "name": "stdout",
     "output_type": "stream",
     "text": [
      "Total number of annotated objects: 12250\n"
     ]
    },
    {
     "data": {
      "image/png": "[encoded data removed]",
      "text/plain": [
       "<Figure size 432x288 with 1 Axes>"
      ]
     },
     "metadata": {
      "needs_background": "light",
      "tags": []
     },
     "output_type": "display_data"
    }
   ],
   "source": [
    "visualize_objects_stat(valset)"
   ]
  },
  {
   "cell_type": "markdown",
   "metadata": {
    "colab_type": "text",
    "id": "8WUVt5FvDxdo"
   },
   "source": [
    "## Train model"
   ]
  },
  {
   "cell_type": "code",
   "execution_count": null,
   "metadata": {
    "colab": {},
    "colab_type": "code",
    "id": "KN3NMw9zxmKk"
   },
   "outputs": [],
   "source": [
    "# Load the model with pretrained weights\n",
    "checkpoint_path = gdrive_dir+'models/checkpoint_ssd.pt'\n",
    "checkpoint = torch.load(checkpoint_path)\n",
    "ssd300 = checkpoint['model'].to(device)\n",
    "ssd300.priors_cxcy = ssd.priors_cxcy.to(device)\n",
    "\n",
    "ssd300.requires_grad_(False)\n",
    "ssd300.det_conv4_3.requires_grad_(True)\n",
    "ssd300.det_conv7.requires_grad_(True)\n",
    "ssd300.det_conv8_2.requires_grad_(True)\n",
    "ssd300.det_conv9_2.requires_grad_(True)\n",
    "ssd300.det_conv10_2.requires_grad_(True)\n",
    "ssd300.det_conv11_2.requires_grad_(True)\n",
    "\n",
    "optimizer = torch.optim.SGD(ssd300.parameters(), lr=2e-3, momentum=0.9, weight_decay=5e-4)\n",
    "loss_func = MultiBoxLoss(priors_cxcy=ssd300.get_prior_boxes(), threshold=0.5, alpha=1., neg_pos_ratio=3, focal_loss=False)"
   ]
  },
  {
   "cell_type": "code",
   "execution_count": null,
   "metadata": {
    "colab": {},
    "colab_type": "code",
    "id": "W6wmuEoODxdq"
   },
   "outputs": [],
   "source": [
    "# load the checkpoint from previous training time to continue training\n",
    "checkpoint_path = gdrive_dir+'models/checkpoint_ssd.pt'\n",
    "checkpoint = torch.load(checkpoint_path)\n",
    "\n",
    "ssd = checkpoint['model']\n",
    "optimizer = checkpoint['optimizer']\n",
    "\n",
    "loss_func = MultiBoxLoss(priors_cxcy=ssd300.get_prior_boxes(), threshold=0.5, alpha=1., neg_pos_ratio=3, focal_loss=False)"
   ]
  },
  {
   "cell_type": "code",
   "execution_count": 12,
   "metadata": {
    "colab": {},
    "colab_type": "code",
    "id": "3SGP1PteDxdv"
   },
   "outputs": [],
   "source": [
    "def train_epoch(model, trainset_loader, loss_func, optimizer, epoch_id):\n",
    "    model.train()\n",
    "    train_loss = 0\n",
    "    for step, (imgs, boxes, labels) in enumerate(trainset_loader):\n",
    "        # move input data to GPU\n",
    "        imgs = imgs.to(device)\n",
    "        boxes = [b.to(device) for b in boxes]\n",
    "        labels = [l.to(device) for l in labels]\n",
    "        \n",
    "        # forward\n",
    "        predicted_offsets, predicted_scores = model(imgs)\n",
    "        loss = loss_func(predicted_offsets, predicted_scores, boxes, labels)\n",
    "        \n",
    "        # backward & optimize\n",
    "        optimizer.zero_grad()\n",
    "        loss.backward()\n",
    "        optimizer.step()\n",
    "\n",
    "        if epoch_id == 1 and step % 50 == 0:\n",
    "            print(f'Epoch 1 - step {step}: train_loss: {loss.item():.4f}')\n",
    "        \n",
    "        train_loss += loss.item()\n",
    "        \n",
    "    return round(train_loss/len(trainset_loader), 4)\n",
    "\n",
    "def eval_epoch(model, valset_loader, loss_func):\n",
    "    model.eval()\n",
    "    val_loss = 0\n",
    "    with torch.no_grad():\n",
    "        for step, (imgs, boxes, labels) in enumerate(valset_loader):\n",
    "            imgs = imgs.to(device)\n",
    "            boxes = [b.to(device) for b in boxes]\n",
    "            labels = [l.to(device) for l in labels]\n",
    "            \n",
    "            predicted_offsets, predicted_scores = model(imgs)\n",
    "            loss = loss_func(predicted_offsets, predicted_scores, boxes, labels)\n",
    "            val_loss += loss.item()\n",
    "\n",
    "    return round(val_loss/len(valset_loader), 4)\n",
    "\n",
    "\n",
    "def train_model(model, dataloaders, optimizer, loss_func, lr_scheduler=None, n_epoch=1, checkpoint=None):\n",
    "    last_epoch = 0\n",
    "    if checkpoint:\n",
    "        last_epoch = checkpoint['epoch']\n",
    "\n",
    "    train_loss_hist, val_loss_hist = [], []\n",
    "    for epoch_id in range(last_epoch+1, last_epoch+n_epoch+1):\n",
    "        start_time = time.time()\n",
    "        train_loss = train_epoch(model, dataloaders['train'], loss_func, optimizer, epoch_id)\n",
    "        training_time = round(time.time() - start_time)\n",
    "        if lr_scheduler: lr_scheduler.step()\n",
    "        \n",
    "        save_checkpoint(epoch_id, model, optimizer, checkpoint_path)\n",
    "        \n",
    "        # eval val_loss every epoch\n",
    "        start_time = time.time()\n",
    "        val_loss = eval_epoch(model, dataloaders['val'], loss_func) # if epoch_id % 5 == 0 else 'N/A'\n",
    "        val_time = round(time.time() - start_time)\n",
    "        \n",
    "        train_loss_hist.append(train_loss)\n",
    "        val_loss_hist.append(val_loss)\n",
    "        \n",
    "        print(f'Epoch {epoch_id} - train/val_time: {training_time}s | {val_time}s - train_loss: {train_loss} - val_loss: {val_loss}')\n",
    "        \n",
    "    return train_loss_hist, val_loss_hist\n",
    "\n",
    "def adjust_learning_rate(optimizer, lr):\n",
    "    for param_group in optimizer.param_groups:\n",
    "        param_group['lr'] = lr"
   ]
  },
  {
   "cell_type": "code",
   "execution_count": 19,
   "metadata": {
    "colab": {
     "base_uri": "https://localhost:8080/",
     "height": 252
    },
    "colab_type": "code",
    "id": "2vY_0FEADxd0",
    "outputId": "5bd7c065-81aa-49c6-c919-083f64a2dbc5"
   },
   "outputs": [
    {
     "name": "stdout",
     "output_type": "stream",
     "text": [
      "Epoch 1 - step 0: train_loss: 3.2854\n",
      "Epoch 1 - step 50: train_loss: 3.2600\n",
      "Epoch 1 - step 100: train_loss: 2.5960\n",
      "Epoch 1 - step 150: train_loss: 2.4145\n",
      "Epoch 1 - step 200: train_loss: 2.6016\n",
      "Epoch 1 - step 250: train_loss: 2.3064\n",
      "Epoch 1 - step 300: train_loss: 2.5987\n",
      "Epoch 1 - step 350: train_loss: 2.2840\n",
      "Epoch 1 - step 400: train_loss: 2.5457\n",
      "Epoch 1 - step 450: train_loss: 2.5958\n",
      "Epoch 1 - step 500: train_loss: 2.5335\n",
      "Epoch 1 - train/val_time: 385s | 68s - train_loss: 2.6958 - val_loss: 2.8556\n",
      "Epoch 2 - train/val_time: 388s | 67s - train_loss: 2.5308 - val_loss: 2.7458\n",
      "Epoch 3 - train/val_time: 392s | 68s - train_loss: 2.4179 - val_loss: 2.6764\n"
     ]
    }
   ],
   "source": [
    "train_hist, val_hist = train_model(ssd300, dataloaders, optimizer, loss_func, n_epoch=3)"
   ]
  },
  {
   "cell_type": "code",
   "execution_count": 22,
   "metadata": {
    "colab": {
     "base_uri": "https://localhost:8080/",
     "height": 67
    },
    "colab_type": "code",
    "id": "L3sKGfG7MYtV",
    "outputId": "216829c3-e1f6-4f84-f405-eb9ac0af60f8"
   },
   "outputs": [
    {
     "name": "stdout",
     "output_type": "stream",
     "text": [
      "Epoch 4 - train/val_time: 395s | 68s - train_loss: 2.3362 - val_loss: 2.6411\n",
      "Epoch 5 - train/val_time: 395s | 68s - train_loss: 2.3033 - val_loss: 2.6207\n",
      "Epoch 6 - train/val_time: 395s | 68s - train_loss: 2.2588 - val_loss: 2.5918\n"
     ]
    }
   ],
   "source": [
    "# Unfreeze extra conv blocks\n",
    "ssd300.conv8_1.requires_grad_(True)\n",
    "ssd300.conv8_2.requires_grad_(True)\n",
    "ssd300.conv9_1.requires_grad_(True)\n",
    "ssd300.conv9_2.requires_grad_(True)\n",
    "ssd300.conv10_1.requires_grad_(True)\n",
    "ssd300.conv10_2.requires_grad_(True)\n",
    "ssd300.conv11_1.requires_grad_(True)\n",
    "ssd300.conv11_2.requires_grad_(True)\n",
    "\n",
    "adjust_learning_rate(optimizer, lr=1e-3)\n",
    "train_hist, val_hist = train_model(ssd300, dataloaders, optimizer, loss_func, n_epoch=3, checkpoint=checkpoint)"
   ]
  },
  {
   "cell_type": "code",
   "execution_count": 25,
   "metadata": {
    "colab": {
     "base_uri": "https://localhost:8080/",
     "height": 101
    },
    "colab_type": "code",
    "id": "3nlzqKWw_gGa",
    "outputId": "e0cb50ca-3450-4242-a9fb-a90af463bcb4"
   },
   "outputs": [
    {
     "name": "stdout",
     "output_type": "stream",
     "text": [
      "Epoch 7 - train/val_time: 393s | 68s - train_loss: 2.238 - val_loss: 2.5783\n",
      "Epoch 8 - train/val_time: 392s | 68s - train_loss: 2.2125 - val_loss: 2.567\n",
      "Epoch 9 - train/val_time: 392s | 68s - train_loss: 2.1883 - val_loss: 2.5437\n",
      "Epoch 10 - train/val_time: 392s | 68s - train_loss: 2.1759 - val_loss: 2.5352\n",
      "Epoch 11 - train/val_time: 393s | 68s - train_loss: 2.1582 - val_loss: 2.5235\n"
     ]
    }
   ],
   "source": [
    "train_hist, val_hist = train_model(ssd300, dataloaders, optimizer, loss_func, n_epoch=5, checkpoint=checkpoint)"
   ]
  },
  {
   "cell_type": "code",
   "execution_count": 28,
   "metadata": {
    "colab": {
     "base_uri": "https://localhost:8080/",
     "height": 67
    },
    "colab_type": "code",
    "id": "2NUY7IOImJXe",
    "outputId": "372e943b-833b-413a-ae87-54a02eee5d6e"
   },
   "outputs": [
    {
     "name": "stdout",
     "output_type": "stream",
     "text": [
      "Epoch 12 - train/val_time: 557s | 68s - train_loss: 2.0917 - val_loss: 2.4852\n",
      "Epoch 13 - train/val_time: 563s | 70s - train_loss: 2.0384 - val_loss: 2.4636\n",
      "Epoch 14 - train/val_time: 567s | 69s - train_loss: 2.0081 - val_loss: 2.4539\n"
     ]
    }
   ],
   "source": [
    "# Unfreeze the whole net for final fine-tuning\n",
    "ssd300.backbone.requires_grad_(True)\n",
    "\n",
    "adjust_learning_rate(optimizer, lr=0.3e-3)\n",
    "train_hist, val_hist = train_model(ssd300, dataloaders, optimizer, loss_func, n_epoch=3, checkpoint=checkpoint)"
   ]
  },
  {
   "cell_type": "code",
   "execution_count": 31,
   "metadata": {
    "colab": {
     "base_uri": "https://localhost:8080/",
     "height": 101
    },
    "colab_type": "code",
    "id": "mfbVpjizWyNk",
    "outputId": "0ca67ad8-57a8-4eb8-fbe4-8d8ddd0e17d5"
   },
   "outputs": [
    {
     "name": "stdout",
     "output_type": "stream",
     "text": [
      "Epoch 15 - train/val_time: 560s | 68s - train_loss: 1.9855 - val_loss: 2.4485\n",
      "Epoch 16 - train/val_time: 564s | 69s - train_loss: 1.9747 - val_loss: 2.4471\n",
      "Epoch 17 - train/val_time: 563s | 69s - train_loss: 1.9618 - val_loss: 2.4398\n",
      "Epoch 18 - train/val_time: 565s | 69s - train_loss: 1.9506 - val_loss: 2.4375\n",
      "Epoch 19 - train/val_time: 564s | 69s - train_loss: 1.9394 - val_loss: 2.4268\n"
     ]
    }
   ],
   "source": [
    "train_hist, val_hist = train_model(ssd300, dataloaders, optimizer, loss_func, n_epoch=5, checkpoint=checkpoint)"
   ]
  },
  {
   "cell_type": "code",
   "execution_count": 34,
   "metadata": {
    "colab": {
     "base_uri": "https://localhost:8080/",
     "height": 101
    },
    "colab_type": "code",
    "id": "yCzLySifYDK0",
    "outputId": "b1cc4cfe-1454-498a-b2b3-46aee44b9114"
   },
   "outputs": [
    {
     "name": "stdout",
     "output_type": "stream",
     "text": [
      "Epoch 20 - train/val_time: 559s | 69s - train_loss: 1.9277 - val_loss: 2.4219\n",
      "Epoch 21 - train/val_time: 565s | 69s - train_loss: 1.9182 - val_loss: 2.4161\n",
      "Epoch 22 - train/val_time: 564s | 69s - train_loss: 1.911 - val_loss: 2.4192\n",
      "Epoch 23 - train/val_time: 564s | 68s - train_loss: 1.904 - val_loss: 2.4202\n",
      "Epoch 24 - train/val_time: 563s | 69s - train_loss: 1.9014 - val_loss: 2.4197\n"
     ]
    }
   ],
   "source": [
    "adjust_learning_rate(optimizer, lr=0.1e-3)\n",
    "train_hist, val_hist = train_model(ssd300, dataloaders, optimizer, loss_func, n_epoch=5, checkpoint=checkpoint)"
   ]
  },
  {
   "cell_type": "code",
   "execution_count": 37,
   "metadata": {
    "colab": {
     "base_uri": "https://localhost:8080/",
     "height": 67
    },
    "colab_type": "code",
    "id": "MviBMQ3JYPcZ",
    "outputId": "7fc142f5-44ff-4b9b-d14a-9c274a24528b"
   },
   "outputs": [
    {
     "name": "stdout",
     "output_type": "stream",
     "text": [
      "Epoch 25 - train/val_time: 562s | 69s - train_loss: 1.8966 - val_loss: 2.4182\n",
      "Epoch 26 - train/val_time: 565s | 69s - train_loss: 1.8987 - val_loss: 2.4149\n",
      "Epoch 27 - train/val_time: 564s | 69s - train_loss: 1.8948 - val_loss: 2.416\n"
     ]
    }
   ],
   "source": [
    "adjust_learning_rate(optimizer, lr=0.05e-3)\n",
    "train_hist, val_hist = train_model(ssd300, dataloaders, optimizer, loss_func, n_epoch=3, checkpoint=checkpoint)"
   ]
  },
  {
   "cell_type": "code",
   "execution_count": 40,
   "metadata": {
    "colab": {
     "base_uri": "https://localhost:8080/",
     "height": 67
    },
    "colab_type": "code",
    "id": "zXsbqw2mryaz",
    "outputId": "b4048e1b-853f-45d5-fe61-670bdf47a1d5"
   },
   "outputs": [
    {
     "name": "stdout",
     "output_type": "stream",
     "text": [
      "Epoch 28 - train/val_time: 562s | 69s - train_loss: 1.888 - val_loss: 2.4157\n",
      "Epoch 29 - train/val_time: 565s | 69s - train_loss: 1.89 - val_loss: 2.4163\n",
      "Epoch 30 - train/val_time: 566s | 69s - train_loss: 1.8989 - val_loss: 2.4159\n"
     ]
    }
   ],
   "source": [
    "adjust_learning_rate(optimizer, lr=0.03e-3)\n",
    "train_hist, val_hist = train_model(ssd300, dataloaders, optimizer, loss_func, n_epoch=3, checkpoint=checkpoint)"
   ]
  },
  {
   "cell_type": "code",
   "execution_count": null,
   "metadata": {
    "colab": {},
    "colab_type": "code",
    "id": "JtQGccSzl2lt"
   },
   "outputs": [],
   "source": []
  },
  {
   "cell_type": "markdown",
   "metadata": {
    "colab_type": "text",
    "id": "dlM-PjMJSB_v"
   },
   "source": [
    "## Evaluate"
   ]
  },
  {
   "cell_type": "code",
   "execution_count": 14,
   "metadata": {
    "colab": {},
    "colab_type": "code",
    "id": "ONP-WEc6SB_w"
   },
   "outputs": [],
   "source": [
    "def eval_APs_mAP(model, valset_loader):\n",
    "    '''\n",
    "    '''\n",
    "    model.eval()\n",
    "    detected_boxes = list()\n",
    "    detected_labels = list()\n",
    "    detected_scores = list()\n",
    "    true_boxes = list()\n",
    "    true_labels = list()\n",
    "    \n",
    "    with torch.no_grad():\n",
    "        for step, (imgs, boxes, labels) in enumerate(valset_loader):\n",
    "            # move input data to GPU\n",
    "            imgs = imgs.to(device)\n",
    "            boxes = [b.to(device) for b in boxes]\n",
    "            labels = [l.to(device) for l in labels]\n",
    "\n",
    "            # detect objects\n",
    "            predicted_offsets, predicted_scores = model(imgs)\n",
    "            batch_det_boxes, batch_det_labels, batch_det_scores = model.post_process_top_k(predicted_offsets, predicted_scores,\n",
    "                                                                                      score_threshold=0.02, iou_threshold=0.45, top_k=200)\n",
    "            detected_boxes.extend(batch_det_boxes)\n",
    "            detected_labels.extend(batch_det_labels)\n",
    "            detected_scores.extend(batch_det_scores)\n",
    "            true_boxes.extend(boxes)\n",
    "            true_labels.extend(labels)\n",
    "\n",
    "        # calculate metrics value\n",
    "        detected_boxes_np = [i.cpu().numpy() for i in detected_boxes]\n",
    "        detected_labels_np = [i.cpu().numpy() for i in detected_labels]\n",
    "        detected_scores_np = [i.cpu().numpy() for i in detected_scores]\n",
    "        true_boxes_np = [i.cpu().numpy() for i in true_boxes]\n",
    "        true_labels_np = [i.cpu().numpy() for i in true_labels]\n",
    "        result = eval_detection_voc(detected_boxes_np, detected_labels_np, detected_scores_np, true_boxes_np, true_labels_np)\n",
    "    \n",
    "    return result['ap'], result['map']"
   ]
  },
  {
   "cell_type": "code",
   "execution_count": 43,
   "metadata": {
    "colab": {
     "base_uri": "https://localhost:8080/",
     "height": 67
    },
    "colab_type": "code",
    "id": "o89xNs_k_YuI",
    "outputId": "08e9b78b-f4aa-48f1-b3d9-b96e84e93523"
   },
   "outputs": [
    {
     "name": "stdout",
     "output_type": "stream",
     "text": [
      "[  nan 0.816 0.834 0.741 0.675 0.452 0.824 0.842 0.925 0.603 0.76  0.705\n",
      " 0.88  0.862 0.857 0.849 0.611 0.753 0.767 0.927 0.761]\n",
      "0.7722\n"
     ]
    }
   ],
   "source": [
    "APs, mAP = eval_APs_mAP(ssd300, dataloaders['val'])\n",
    "print(np.around(APs, decimals=3))\n",
    "print(np.around(mAP, decimals=4))"
   ]
  },
  {
   "cell_type": "code",
   "execution_count": null,
   "metadata": {
    "colab": {},
    "colab_type": "code",
    "id": "0XpzZkux3P13"
   },
   "outputs": [],
   "source": []
  }
 ],
 "metadata": {
  "accelerator": "GPU",
  "colab": {
   "name": "train-eval-2.ipynb",
   "provenance": [],
   "toc_visible": true
  },
  "kernelspec": {
   "display_name": "Python 3",
   "language": "python",
   "name": "python3"
  },
  "language_info": {
   "codemirror_mode": {
    "name": "ipython",
    "version": 3
   },
   "file_extension": ".py",
   "mimetype": "text/x-python",
   "name": "python",
   "nbconvert_exporter": "python",
   "pygments_lexer": "ipython3",
   "version": "3.7.6"
  }
 },
 "nbformat": 4,
 "nbformat_minor": 4
}
