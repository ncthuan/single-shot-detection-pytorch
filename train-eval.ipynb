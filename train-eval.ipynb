{
 "cells": [
  {
   "cell_type": "code",
   "execution_count": null,
   "metadata": {},
   "outputs": [],
   "source": [
    "# run this for working with colab\n",
    "import torch.cuda as cuda\n",
    "cuda.get_device_name()\n",
    "\n",
    "from google.colab import drive\n",
    "drive.mount('/content/gdrive')\n",
    "!ls \"/content/gdrive/My Drive/lab/SSD/\"\n",
    "dir = \"/content/gdrive/My Drive/lab/SSD/\"\n"
   ]
  },
  {
   "cell_type": "code",
   "execution_count": 1,
   "metadata": {},
   "outputs": [],
   "source": [
    "import os\n",
    "import torch\n",
    "import torch.nn as nn\n",
    "import torch.cuda as cuda\n",
    "from torch.utils.data import DataLoader, random_split\n",
    "from dataset import VOCDataset\n",
    "#from dataset_h5 import VOCDataset\n",
    "from model import SSD300\n",
    "from utils import *\n",
    "\n",
    "device = torch.device(\"cuda:0\" if cuda.is_available() else \"cpu\") "
   ]
  },
  {
   "cell_type": "markdown",
   "metadata": {},
   "source": [
    "## Load dataset"
   ]
  },
  {
   "cell_type": "code",
   "execution_count": 1,
   "metadata": {},
   "outputs": [
    {
     "name": "stdout",
     "output_type": "stream",
     "text": [
      "\n",
      "There are 21503 training images containing a total of 62199 objects. Files have been saved to D:\\C-dir\\SSD\\VOCdevkit.\n",
      "\n",
      "There are 5138 test images containing a total of 7330 objects. Files have been saved to D:\\C-dir\\SSD\\VOCdevkit.\n"
     ]
    }
   ],
   "source": [
    "#from utils import create_data_lists\n",
    "voc07_path = 'D:/C-dir/SSD/VOCdevkit/VOC2007/'\n",
    "voc12_path = 'D:/C-dir/SSD/VOCdevkit/VOC2012/'\n",
    "create_data_lists(voc07_path, voc12_path, 'D:/C-dir/SSD/VOCdevkit/')"
   ]
  },
  {
   "cell_type": "code",
   "execution_count": 49,
   "metadata": {},
   "outputs": [],
   "source": [
    "from utils import *"
   ]
  },
  {
   "cell_type": "code",
   "execution_count": 2,
   "metadata": {},
   "outputs": [],
   "source": [
    "torch.manual_seed(42)\n",
    "trainset = VOCDataset(data_folder='datasets/', is_trainset=True, transform=True)\n",
    "train_size = int(0.9 * len(trainset))\n",
    "val_size = len(trainset) - train_size\n",
    "trainset, valset = random_split(trainset, [train_size, val_size])\n",
    "testset = VOCDataset(data_folder='datasets/', is_trainset=False, transform=False)\n",
    "\n",
    "dataloaders = dict(\n",
    "    train = DataLoader(trainset, batch_size=16, shuffle=True, num_workers=0),\n",
    "    val = DataLoader(valset, batch_size=64, shuffle=False, num_workers=0),\n",
    "    test = DataLoader(testset, batch_size=64, shuffle=False, num_workers=0)\n",
    ")"
   ]
  },
  {
   "cell_type": "markdown",
   "metadata": {},
   "source": [
    "## Define model"
   ]
  },
  {
   "cell_type": "code",
   "execution_count": 3,
   "metadata": {},
   "outputs": [],
   "source": [
    "#vgg16_url = \"https://download.pytorch.org/models/vgg16-397923af.pth\"\n",
    "#vgg16 = torch.hub.load_state_dict_from_url(vgg16_url, model_dir='models/')"
   ]
  },
  {
   "cell_type": "code",
   "execution_count": null,
   "metadata": {},
   "outputs": [],
   "source": [
    "MySSD300 = SSD300(n_classes = 21, )"
   ]
  },
  {
   "cell_type": "code",
   "execution_count": null,
   "metadata": {},
   "outputs": [],
   "source": []
  },
  {
   "cell_type": "markdown",
   "metadata": {},
   "source": [
    "## Train model"
   ]
  },
  {
   "cell_type": "code",
   "execution_count": null,
   "metadata": {},
   "outputs": [],
   "source": [
    "# Pre define training params\n",
    "\n",
    "checkpoint =\n",
    "lr = None\n",
    "weight_decay = 5e-4\n",
    "loss_func = MultiBoxLoss(priors_cxcy = MySSD300.get_prior_boxes(), threshold=0.5, neg_pos_ratio=3, alpha=1.)\n",
    "optimizer = torch.optim.Adam(MySSD300.parameters())\n",
    "grad_clip = None\n",
    "\n",
    "\n",
    "def train_epoch(model, dataloaders):\n",
    "    model.train()\n",
    "    epoch_loss = 0\n",
    "    for step, (imgs, boxes, labels,_) in enumerate(dataloaders['train']):\n",
    "        imgs, boxes, labels = imgs.to(device), boxes.to(device), labels.to(device)\n",
    "        offsets, class_scores = model(imgs)\n",
    "        loss = loss_func(offsets, class_scores, boxes, labels)\n",
    "        optimizer.zero_grad()\n",
    "        loss.backward()\n",
    "        optimizer.step()\n",
    "        epoch_loss += loss.item()\n",
    "        print('Step:', step, '- Done - loss:', loss.item())\n",
    "    return epoch_loss/len(dataloaders['train'])\n",
    "\n",
    "def eval(model, dataloaders):\n",
    "    model.eval()\n",
    "    epoch_loss = 0\n",
    "    for x, y in dataloaders['val']:\n",
    "        x, y = x.to(device), y.to(device)\n",
    "        pred = model(x)\n",
    "        loss = loss_func(pred, y)\n",
    "        epoch_loss += loss.item()\n",
    "        \n",
    "        #calculate accuracy\n",
    "        \n",
    "        \n",
    "    loss = total_loss/len(dataloaders['val'])\n",
    "    \n",
    "    \n",
    "    return loss, accuracy\n",
    "\n",
    "\n",
    "def train_model(model, dataloaders, epoch=1, ):\n",
    "    \n",
    "    if checkpoint is None:\n",
    "    \n",
    "    save_checkpoint(epoch, model, optimizer)"
   ]
  },
  {
   "cell_type": "code",
   "execution_count": null,
   "metadata": {},
   "outputs": [],
   "source": [
    "#Try\n",
    "train_epoch(MySSD300, dataloaders)\n",
    "eval_epoch(MySSD300, dataloaders)\n"
   ]
  },
  {
   "cell_type": "code",
   "execution_count": null,
   "metadata": {},
   "outputs": [],
   "source": []
  },
  {
   "cell_type": "code",
   "execution_count": null,
   "metadata": {},
   "outputs": [],
   "source": []
  }
 ],
 "metadata": {
  "kernelspec": {
   "display_name": "Python 3",
   "language": "python",
   "name": "python3"
  },
  "language_info": {
   "codemirror_mode": {
    "name": "ipython",
    "version": 3
   },
   "file_extension": ".py",
   "mimetype": "text/x-python",
   "name": "python",
   "nbconvert_exporter": "python",
   "pygments_lexer": "ipython3",
   "version": "3.7.6"
  }
 },
 "nbformat": 4,
 "nbformat_minor": 4
}
