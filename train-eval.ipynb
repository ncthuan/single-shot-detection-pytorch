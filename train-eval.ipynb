{
 "cells": [
  {
   "cell_type": "code",
   "execution_count": null,
   "metadata": {
    "colab": {
     "base_uri": "https://localhost:8080/",
     "height": 353
    },
    "colab_type": "code",
    "id": "fgUBlclwDxc2",
    "outputId": "423b9502-c622-4eb1-cf69-9b94d52f88ec"
   },
   "outputs": [
    {
     "name": "stdout",
     "output_type": "stream",
     "text": [
      "Mon Aug 10 17:17:48 2020       \n",
      "+-----------------------------------------------------------------------------+\n",
      "| NVIDIA-SMI 450.57       Driver Version: 418.67       CUDA Version: 10.1     |\n",
      "|-------------------------------+----------------------+----------------------+\n",
      "| GPU  Name        Persistence-M| Bus-Id        Disp.A | Volatile Uncorr. ECC |\n",
      "| Fan  Temp  Perf  Pwr:Usage/Cap|         Memory-Usage | GPU-Util  Compute M. |\n",
      "|                               |                      |               MIG M. |\n",
      "|===============================+======================+======================|\n",
      "|   0  Tesla T4            Off  | 00000000:00:04.0 Off |                    0 |\n",
      "| N/A   72C    P8    12W /  70W |      0MiB / 15079MiB |      0%      Default |\n",
      "|                               |                      |                 ERR! |\n",
      "+-------------------------------+----------------------+----------------------+\n",
      "                                                                               \n",
      "+-----------------------------------------------------------------------------+\n",
      "| Processes:                                                                  |\n",
      "|  GPU   GI   CI        PID   Type   Process name                  GPU Memory |\n",
      "|        ID   ID                                                   Usage      |\n",
      "|=============================================================================|\n",
      "|  No running processes found                                                 |\n",
      "+-----------------------------------------------------------------------------+\n"
     ]
    }
   ],
   "source": [
    "!nvidia-smi"
   ]
  },
  {
   "cell_type": "code",
   "execution_count": null,
   "metadata": {
    "colab": {},
    "colab_type": "code",
    "id": "PRWNJyRtDxc9"
   },
   "outputs": [],
   "source": [
    "!git clone https://github.com/NVIDIA/apex /apex\n",
    "!pip install -v --no-cache-dir --global-option=\"--cpp_ext\" --global-option=\"--cuda_ext\" /apex/."
   ]
  },
  {
   "cell_type": "code",
   "execution_count": 2,
   "metadata": {
    "colab": {
     "base_uri": "https://localhost:8080/",
     "height": 138
    },
    "colab_type": "code",
    "id": "AbYDWNHqDxdD",
    "outputId": "cab9a42c-4662-47d9-dccb-c78e61f8e8fa"
   },
   "outputs": [
    {
     "name": "stdout",
     "output_type": "stream",
     "text": [
      "Go to this URL in a browser: https://accounts.google.com/o/oauth2/auth?client_id=947318989803-6bn6qk8qdgf4n4g3pfee6491hc0brc4i.apps.googleusercontent.com&redirect_uri=urn%3aietf%3awg%3aoauth%3a2.0%3aoob&scope=email%20https%3a%2f%2fwww.googleapis.com%2fauth%2fdocs.test%20https%3a%2f%2fwww.googleapis.com%2fauth%2fdrive%20https%3a%2f%2fwww.googleapis.com%2fauth%2fdrive.photos.readonly%20https%3a%2f%2fwww.googleapis.com%2fauth%2fpeopleapi.readonly&response_type=code\n",
      "\n",
      "Enter your authorization code:\n",
      "··········\n",
      "Mounted at /content/gdrive\n",
      "datasets  models  test.zip  train-eval.ipynb  trainval.zip\n"
     ]
    }
   ],
   "source": [
    "from google.colab import drive\n",
    "drive.mount('/content/gdrive')\n",
    "!ls \"/content/gdrive/My Drive/lab/SSD/\"\n",
    "gdrive_dir = \"/content/gdrive/My Drive/lab/SSD/\""
   ]
  },
  {
   "cell_type": "code",
   "execution_count": 3,
   "metadata": {
    "colab": {
     "base_uri": "https://localhost:8080/",
     "height": 168
    },
    "colab_type": "code",
    "id": "I0_DA3T4DxdK",
    "outputId": "9c2cdee6-4de0-4421-f002-fe73251c6be6"
   },
   "outputs": [
    {
     "name": "stdout",
     "output_type": "stream",
     "text": [
      "Cloning into 'single-shot-detection-pytorch'...\n",
      "remote: Enumerating objects: 89, done.\u001b[K\n",
      "remote: Counting objects: 100% (89/89), done.\u001b[K\n",
      "remote: Compressing objects: 100% (62/62), done.\u001b[K\n",
      "remote: Total 89 (delta 52), reused 60 (delta 25), pack-reused 0\u001b[K\n",
      "Unpacking objects: 100% (89/89), done.\n",
      "\u001b[K     |████████████████████████████████| 122kB 8.3MB/s \n",
      "\u001b[K     |████████████████████████████████| 952kB 14.6MB/s \n",
      "\u001b[?25h  Building wheel for albumentations (setup.py) ... \u001b[?25l\u001b[?25hdone\n"
     ]
    }
   ],
   "source": [
    "!unzip -q \"/content/gdrive/My Drive/lab/SSD/trainval.zip\" -d \"/content\"\n",
    "!git clone https://github.com/ncthuan/single-shot-detection-pytorch\n",
    "!cp single-shot-detection-pytorch/*.py .\n",
    "!pip install albumentations==0.4.6 -q"
   ]
  },
  {
   "cell_type": "code",
   "execution_count": null,
   "metadata": {
    "colab": {},
    "colab_type": "code",
    "id": "FM286mawDxdQ"
   },
   "outputs": [],
   "source": [
    "import os\n",
    "import time\n",
    "import torch\n",
    "import torch.nn as nn\n",
    "import torch.cuda as cuda\n",
    "import seaborn as sns\n",
    "from torch.utils.data import DataLoader, random_split\n",
    "from dataset import VOCDataset, collate_fn\n",
    "from model import SSD300, MultiBoxLoss\n",
    "from utils import create_data_lists, clip_gradient, save_checkpoint, calculate_mAP"
   ]
  },
  {
   "cell_type": "code",
   "execution_count": null,
   "metadata": {
    "colab": {},
    "colab_type": "code",
    "id": "q-ZAhMWoDxdV"
   },
   "outputs": [],
   "source": [
    "#from apex import amp"
   ]
  },
  {
   "cell_type": "markdown",
   "metadata": {
    "colab_type": "text",
    "id": "KqWYYcDRDxdb"
   },
   "source": [
    "## Load dataset"
   ]
  },
  {
   "cell_type": "code",
   "execution_count": null,
   "metadata": {
    "colab": {},
    "colab_type": "code",
    "id": "IvpCjiaTSB-b",
    "outputId": "c0f89da7-5326-43a9-a2d9-d274888e4b81"
   },
   "outputs": [
    {
     "name": "stdout",
     "output_type": "stream",
     "text": [
      "\n",
      "There are 17202 training images. Files have been saved to output_folder: datasets/.\n",
      "\n",
      "There are 4301 validation images. Files have been saved to output_folder: datasets/.\n"
     ]
    }
   ],
   "source": [
    "from utils import create_data_lists\n",
    "voc07_path = os.path.join('datasets/', 'VOC2007/')\n",
    "voc12_path = os.path.join('datasets/', 'VOC2012/')\n",
    "create_data_lists(voc07_path, voc12_path, output_folder='datasets/')"
   ]
  },
  {
   "cell_type": "code",
   "execution_count": null,
   "metadata": {
    "colab": {},
    "colab_type": "code",
    "id": "TrfITEcmSB-h"
   },
   "outputs": [],
   "source": [
    "!ls datasets/"
   ]
  },
  {
   "cell_type": "code",
   "execution_count": null,
   "metadata": {
    "colab": {},
    "colab_type": "code",
    "id": "LMId7L0MSB-n"
   },
   "outputs": [],
   "source": [
    "torch.manual_seed(42)\n",
    "trainset = VOCDataset(data_folder='datasets/', json_files=('TRAIN_images.json', 'TRAIN_objects.json'), augment=True)\n",
    "valset = VOCDataset(data_folder='datasets/', json_files=('VAL_images.json', 'VAL_objects.json'))\n",
    "\n",
    "dataloaders = dict(\n",
    "    train = DataLoader(trainset, batch_size=16, collate_fn=collate_fn, shuffle=True, num_workers=2),\n",
    "    val = DataLoader(valset, batch_size=64, collate_fn=collate_fn, shuffle=False, num_workers=4),\n",
    ")"
   ]
  },
  {
   "cell_type": "markdown",
   "metadata": {
    "colab_type": "text",
    "id": "Dy-WByyqSB-t"
   },
   "source": [
    "### EDA"
   ]
  },
  {
   "cell_type": "code",
   "execution_count": null,
   "metadata": {
    "colab": {},
    "colab_type": "code",
    "id": "wzIXbWBoSB-u"
   },
   "outputs": [],
   "source": [
    "def visualize_objects_stat(dataset):\n",
    "    targets = dataset.targets\n",
    "    objects = list()\n",
    "    for target in targets:\n",
    "        objects.extend(target['labels'])\n",
    "    print('Total number of annotated objects:', len(objects))\n",
    "    sns.countplot(objects)"
   ]
  },
  {
   "cell_type": "code",
   "execution_count": null,
   "metadata": {
    "colab": {},
    "colab_type": "code",
    "id": "r-Fy3-_hSB-z",
    "outputId": "d3779fd0-3ff8-4030-b8d9-e8fd951e9a89"
   },
   "outputs": [
    {
     "data": {
      "text/plain": [
       "{'aeroplane': 1,\n",
       " 'bicycle': 2,\n",
       " 'bird': 3,\n",
       " 'boat': 4,\n",
       " 'bottle': 5,\n",
       " 'bus': 6,\n",
       " 'car': 7,\n",
       " 'cat': 8,\n",
       " 'chair': 9,\n",
       " 'cow': 10,\n",
       " 'diningtable': 11,\n",
       " 'dog': 12,\n",
       " 'horse': 13,\n",
       " 'motorbike': 14,\n",
       " 'person': 15,\n",
       " 'pottedplant': 16,\n",
       " 'sheep': 17,\n",
       " 'sofa': 18,\n",
       " 'train': 19,\n",
       " 'tvmonitor': 20,\n",
       " 'background': 0}"
      ]
     },
     "execution_count": 4,
     "metadata": {
      "tags": []
     },
     "output_type": "execute_result"
    }
   ],
   "source": [
    "label_map"
   ]
  },
  {
   "cell_type": "code",
   "execution_count": null,
   "metadata": {
    "colab": {},
    "colab_type": "code",
    "id": "57SLJUUaSB-6",
    "outputId": "d9945b82-8190-4798-b637-cfd9f862e302"
   },
   "outputs": [
    {
     "name": "stdout",
     "output_type": "stream",
     "text": [
      "Total number of annotated objects: 49949\n"
     ]
    },
    {
     "data": {
      "image/png": "[encoded data removed]",
      "text/plain": [
       "<Figure size 432x288 with 1 Axes>"
      ]
     },
     "metadata": {
      "needs_background": "light",
      "tags": []
     },
     "output_type": "display_data"
    }
   ],
   "source": [
    "visualize_objects_stat(trainset)"
   ]
  },
  {
   "cell_type": "code",
   "execution_count": null,
   "metadata": {
    "colab": {},
    "colab_type": "code",
    "id": "_Y4pAM55SB-_",
    "outputId": "5851fdaa-4da6-48af-a9bc-20ed444d2dd2"
   },
   "outputs": [
    {
     "name": "stdout",
     "output_type": "stream",
     "text": [
      "Total number of annotated objects: 12250\n"
     ]
    },
    {
     "data": {
      "image/png": "[encoded data removed]",
      "text/plain": [
       "<Figure size 432x288 with 1 Axes>"
      ]
     },
     "metadata": {
      "needs_background": "light",
      "tags": []
     },
     "output_type": "display_data"
    }
   ],
   "source": [
    "visualize_objects_stat(valset)"
   ]
  },
  {
   "cell_type": "markdown",
   "metadata": {
    "colab_type": "text",
    "id": "8WUVt5FvDxdo"
   },
   "source": [
    "## Train model"
   ]
  },
  {
   "cell_type": "code",
   "execution_count": null,
   "metadata": {
    "colab": {},
    "colab_type": "code",
    "id": "W6wmuEoODxdq"
   },
   "outputs": [],
   "source": [
    "device = torch.device(\"cuda\" if cuda.is_available() else \"cpu\") \n",
    "\n",
    "checkpoint_path = gdrive_dir+'models/checkpoint_ssd300.pt'\n",
    "checkpoint = torch.load(checkpoint_path)\n",
    "vgg16_dir = 'models/'\n",
    "\n",
    "MySSD300 = SSD300(n_classes=21, vgg16_dir=vgg16_dir, checkpoint=checkpoint).to(device)\n",
    "\n",
    "loss_func = MultiBoxLoss(priors_cxcy=MySSD300.get_prior_boxes(), threshold=0.5, neg_pos_ratio=3, alpha=1.)\n",
    "\n",
    "optimizer = torch.optim.Adam(MySSD300.parameters(), lr=1e-3, weight_decay=5e-4)\n",
    "\n",
    "exp_lr_scheduler = torch.optim.lr_scheduler.ExponentialLR(optimizer, gamma=0.987, last_epoch=-1)\n",
    "\n",
    "grad_clip = None\n",
    "\n",
    "# Mixed precision\n",
    "#MySSD300, optimizer = amp.initialize(MySSD300, optimizer, opt_level='O1')\n",
    "#if checkpoint: amp.load_state_dict(checkpoint['amp'])"
   ]
  },
  {
   "cell_type": "code",
   "execution_count": null,
   "metadata": {
    "colab": {},
    "colab_type": "code",
    "id": "3SGP1PteDxdv"
   },
   "outputs": [],
   "source": [
    "def train_epoch(model, trainset_loader, loss_func, optimizer, epoch_id):\n",
    "    model.train()\n",
    "    train_loss = 0\n",
    "    for step, (imgs, boxes, labels,_) in enumerate(trainset_loader):\n",
    "        # move input data to GPU\n",
    "        imgs = imgs.to(device)\n",
    "        boxes = [b.to(device) for b in boxes]\n",
    "        labels = [l.to(device) for l in labels]\n",
    "        \n",
    "        # forward\n",
    "        predicted_offsets, predicted_scores = model(imgs)\n",
    "        loss = loss_func(predicted_offsets, predicted_scores, boxes, labels)\n",
    "        \n",
    "        # backward & optimize\n",
    "        optimizer.zero_grad()\n",
    "        loss.backward()\n",
    "        #with amp.scale_loss(loss, optimizer) as scaled_loss:\n",
    "        #    scaled_loss.backward()\n",
    "        optimizer.step()\n",
    "\n",
    "        if epoch_id == 1 and step % 100 == 0:\n",
    "            print(f'Epoch 1 - step {step}: train_loss: {loss.item()/trainset_loader.batch_size:.4f}')\n",
    "        \n",
    "        train_loss += loss.item()\n",
    "        \n",
    "    return train_loss/len(trainset)\n",
    "\n",
    "def eval_epoch(model, valset_loader, loss_func):\n",
    "    '''\n",
    "    '''\n",
    "    model.eval()\n",
    "    val_loss = 0\n",
    "    with torch.no_grad():\n",
    "        for step, (imgs, boxes, labels,_) in enumerate(valset_loader):\n",
    "            imgs = imgs.to(device)\n",
    "            boxes = [b.to(device) for b in boxes]\n",
    "            labels = [l.to(device) for l in labels]\n",
    "            \n",
    "            predicted_offsets, predicted_scores = model(imgs)\n",
    "            loss = loss_func(predicted_offsets, predicted_scores, boxes, labels)\n",
    "            val_loss += loss.item()\n",
    "\n",
    "    return val_loss/len(valset)\n",
    "\n",
    "\n",
    "def train_model(model, dataloaders, optimizer, exp_lr_scheduler, loss_func, n_epoch=1, checkpoint=None):\n",
    "    last_epoch = 0\n",
    "    if checkpoint:\n",
    "        last_epoch = checkpoint['epoch']\n",
    "        optimizer.load_state_dict(checkpoint['optimizer'])\n",
    "        exp_lr_scheduler = torch.optim.lr_scheduler.ExponentialLR(optimizer, gamma=0.987, last_epoch=last_epoch)\n",
    "\n",
    "    train_loss_hist, val_loss_hist = [], []\n",
    "    for i in range(last_epoch+1, last_epoch+n_epoch+1):\n",
    "        start_time = time.time()\n",
    "        train_loss = train_epoch(model, dataloaders['train'], loss_func, optimizer, i)\n",
    "        exp_lr_scheduler.step()\n",
    "        training_time = round(time.time() - start_time)\n",
    "        \n",
    "        save_checkpoint(epoch, model, optimizer, checkpoint_path)\n",
    "        \n",
    "        start_time = time.time()\n",
    "        val_loss = eval_epoch(model, dataloaders['val'], loss_func)\n",
    "        val_time = round(time.time() - start_time)\n",
    "        \n",
    "        train_loss_hist.append(train_loss)\n",
    "        val_loss_hist.append(val_loss)\n",
    "        \n",
    "        print(f'Epoch {i} - train/val_time: {training_time}s | {val_time}s - train_loss: {train_loss:.4f} - val_loss: {val_loss:.4f}')\n",
    "        \n",
    "    return train_loss_hist, val_loss_hist"
   ]
  },
  {
   "cell_type": "code",
   "execution_count": null,
   "metadata": {
    "colab": {
     "base_uri": "https://localhost:8080/",
     "height": 706
    },
    "colab_type": "code",
    "id": "2vY_0FEADxd0",
    "outputId": "6ef383d5-d330-483a-bd1b-adfcd7bbe513"
   },
   "outputs": [
    {
     "name": "stdout",
     "output_type": "stream",
     "text": [
      "Epoch 1 - step 0: train_loss: 2.8963\n",
      "Epoch 1 - step 100: train_loss: 0.3581\n",
      "Epoch 1 - step 200: train_loss: 0.3429\n",
      "Epoch 1 - step 300: train_loss: 0.3395\n",
      "Epoch 1 - step 400: train_loss: 0.3645\n",
      "Epoch 1 - step 500: train_loss: 0.3173\n",
      "Epoch 1 - step 600: train_loss: 0.3783\n",
      "Epoch 1 - step 700: train_loss: 0.3241\n",
      "Epoch 1 - step 800: train_loss: 0.3415\n",
      "Epoch 1 - step 900: train_loss: 0.3448\n",
      "Epoch 1 - step 1000: train_loss: 0.3452\n",
      "Epoch 1 - train/val_time: 661s | 60s - train_loss: 0.3622 - val_loss: 0.0883\n",
      "Epoch 2 - train/val_time: 662s | 61s - train_loss: 0.3346 - val_loss: 0.0827\n",
      "Epoch 3 - train/val_time: 661s | 61s - train_loss: 0.3203 - val_loss: 0.0792\n",
      "Epoch 4 - train/val_time: 666s | 61s - train_loss: 0.3089 - val_loss: 0.0776\n",
      "Epoch 5 - train/val_time: 660s | 61s - train_loss: 0.2981 - val_loss: 0.0762\n",
      "Epoch 6 - train/val_time: 662s | 60s - train_loss: 0.2891 - val_loss: 0.0714\n",
      "Epoch 7 - train/val_time: 660s | 61s - train_loss: 0.2819 - val_loss: 0.0692\n",
      "Epoch 8 - train/val_time: 658s | 61s - train_loss: 0.2765 - val_loss: 0.0701\n",
      "Epoch 9 - train/val_time: 663s | 60s - train_loss: 0.2717 - val_loss: 0.0677\n",
      "Epoch 10 - train/val_time: 678s | 63s - train_loss: 0.2672 - val_loss: 0.0656\n",
      "Epoch 11 - train/val_time: 712s | 62s - train_loss: 0.2633 - val_loss: 0.0659\n",
      "Epoch 12 - train/val_time: 699s | 61s - train_loss: 0.2599 - val_loss: 0.0650\n",
      "Epoch 13 - train/val_time: 690s | 62s - train_loss: 0.2572 - val_loss: 0.0646\n",
      "Epoch 14 - train/val_time: 692s | 61s - train_loss: 0.2542 - val_loss: 0.0629\n",
      "Epoch 15 - train/val_time: 692s | 62s - train_loss: 0.2524 - val_loss: 0.0621\n",
      "Epoch 16 - train/val_time: 685s | 61s - train_loss: 0.2499 - val_loss: 0.0628\n",
      "Epoch 17 - train/val_time: 680s | 61s - train_loss: 0.2490 - val_loss: 0.0744\n",
      "Epoch 18 - train/val_time: 698s | 61s - train_loss: 0.2490 - val_loss: 0.0625\n",
      "Epoch 19 - train/val_time: 685s | 62s - train_loss: 0.2451 - val_loss: 0.0618\n",
      "Epoch 20 - train/val_time: 693s | 61s - train_loss: 0.2435 - val_loss: 0.0627\n",
      "Epoch 21 - train/val_time: 692s | 61s - train_loss: 0.2424 - val_loss: 0.0613\n",
      "Epoch 22 - train/val_time: 698s | 62s - train_loss: 0.2418 - val_loss: 0.0592\n",
      "Epoch 23 - train/val_time: 690s | 61s - train_loss: 0.2395 - val_loss: 0.0610\n",
      "Epoch 24 - train/val_time: 689s | 61s - train_loss: 0.2385 - val_loss: 0.0593\n",
      "Epoch 25 - train/val_time: 691s | 61s - train_loss: 0.2373 - val_loss: 0.0591\n",
      "Epoch 26 - train/val_time: 690s | 61s - train_loss: 0.2359 - val_loss: 0.0594\n",
      "Epoch 27 - train/val_time: 682s | 60s - train_loss: 0.2346 - val_loss: 0.0603\n",
      "Epoch 28 - train/val_time: 689s | 61s - train_loss: 0.2341 - val_loss: 0.0589\n",
      "Epoch 29 - train/val_time: 687s | 61s - train_loss: 0.2326 - val_loss: 0.0585\n",
      "Epoch 30 - train/val_time: 687s | 62s - train_loss: 0.2316 - val_loss: 0.0583\n"
     ]
    }
   ],
   "source": [
    "train_hist, val_hist = train_model(MySSD300, dataloaders, optimizer, exp_lr_scheduler, loss_func, n_epoch=30)"
   ]
  },
  {
   "cell_type": "code",
   "execution_count": null,
   "metadata": {
    "colab": {},
    "colab_type": "code",
    "id": "T6_OV2liYjEw"
   },
   "outputs": [],
   "source": [
    "train_hist, val_hist = train_model(MySSD300, dataloaders, optimizer, exp_lr_scheduler, loss_func, n_epoch=30, checkpoint=checkpoint)"
   ]
  },
  {
   "cell_type": "code",
   "execution_count": null,
   "metadata": {
    "colab": {},
    "colab_type": "code",
    "id": "WacTGe3LSB_i"
   },
   "outputs": [],
   "source": []
  },
  {
   "cell_type": "code",
   "execution_count": null,
   "metadata": {
    "colab": {},
    "colab_type": "code",
    "id": "RnBxhDy6SB_m"
   },
   "outputs": [],
   "source": []
  },
  {
   "cell_type": "code",
   "execution_count": null,
   "metadata": {
    "colab": {},
    "colab_type": "code",
    "id": "9bCpjqlASB_r"
   },
   "outputs": [],
   "source": []
  },
  {
   "cell_type": "markdown",
   "metadata": {
    "colab_type": "text",
    "id": "dlM-PjMJSB_v"
   },
   "source": [
    "## Evaluate"
   ]
  },
  {
   "cell_type": "code",
   "execution_count": null,
   "metadata": {
    "colab": {},
    "colab_type": "code",
    "id": "ONP-WEc6SB_w"
   },
   "outputs": [],
   "source": [
    "def eval_APs_mAP(model, valset_loader):\n",
    "    '''\n",
    "    '''\n",
    "    model.eval()\n",
    "    detected_boxes = list()\n",
    "    detected_labels = list()\n",
    "    detected_scores = list()\n",
    "    true_boxes = list()\n",
    "    true_labels = list()\n",
    "    #true_diffs = list()\n",
    "    \n",
    "    start_time = time.time()\n",
    "    with torch.no_grad():\n",
    "        for step, (imgs, boxes, labels, diffs) in enumerate(valset_loader):\n",
    "            # move input data to GPU\n",
    "            #imgs = imgs.to(device)\n",
    "            #boxes = [b.to(device) for b in boxes]\n",
    "            #labels = [l.to(device) for l in labels]\n",
    "            #diffs = [d.to(device) for d in diffs]\n",
    "\n",
    "            # detect objects\n",
    "            predicted_offsets, predicted_scores = model(imgs)\n",
    "            batch_det_boxes, batch_det_labels, batch_det_scores = model.detect_objects(predicted_offsets, predicted_scores,\n",
    "                                                                                       score_threshold=0.01, iou_threshold=0.5)\n",
    "            detected_boxes.extend(batch_det_boxes)\n",
    "            detected_labels.extend(batch_det_labels)\n",
    "            detected_scores.extend(batch_det_scores)\n",
    "            true_boxes.extend(boxes)\n",
    "            true_labels.extend(labels)\n",
    "            #true_diffs.extend(diffs)\n",
    "            \n",
    "            if step == 4: \n",
    "                print(f'Evaluating on 64*5 = 320 images - Done in {time.time()-start_time}s')\n",
    "                break\n",
    "\n",
    "        # calculate metrics value\n",
    "        APs, mAP = calculate_mAP(detected_boxes, detected_labels, detected_scores, true_boxes, true_labels)\n",
    "    \n",
    "    return APs, mAP"
   ]
  },
  {
   "cell_type": "code",
   "execution_count": null,
   "metadata": {
    "colab": {},
    "colab_type": "code",
    "id": "QnyQYLm9SB_0"
   },
   "outputs": [],
   "source": [
    "APs, mAP = eval_APs_mAP(MySSD300, dataloaders['val'])"
   ]
  },
  {
   "cell_type": "code",
   "execution_count": null,
   "metadata": {
    "colab": {},
    "colab_type": "code",
    "id": "0-ZqzsXzSB_6"
   },
   "outputs": [],
   "source": []
  },
  {
   "cell_type": "code",
   "execution_count": null,
   "metadata": {
    "colab": {},
    "colab_type": "code",
    "id": "sP88VYN0SB__"
   },
   "outputs": [],
   "source": []
  },
  {
   "cell_type": "code",
   "execution_count": null,
   "metadata": {
    "colab": {},
    "colab_type": "code",
    "id": "QztRYRUiSCAE"
   },
   "outputs": [],
   "source": []
  }
 ],
 "metadata": {
  "accelerator": "GPU",
  "colab": {
   "name": "train-eval.ipynb",
   "provenance": [],
   "toc_visible": true
  },
  "kernelspec": {
   "display_name": "Python 3",
   "language": "python",
   "name": "python3"
  },
  "language_info": {
   "codemirror_mode": {
    "name": "ipython",
    "version": 3
   },
   "file_extension": ".py",
   "mimetype": "text/x-python",
   "name": "python",
   "nbconvert_exporter": "python",
   "pygments_lexer": "ipython3",
   "version": "3.7.6"
  }
 },
 "nbformat": 4,
 "nbformat_minor": 4
}
