{
 "cells": [
  {
   "cell_type": "code",
   "execution_count": 1,
   "metadata": {
    "colab": {
     "base_uri": "https://localhost:8080/",
     "height": 353
    },
    "colab_type": "code",
    "id": "fgUBlclwDxc2",
    "outputId": "1c4ae556-690b-4277-faba-ee1135286400"
   },
   "outputs": [
    {
     "name": "stdout",
     "output_type": "stream",
     "text": [
      "Thu Aug  6 15:34:21 2020       \n",
      "+-----------------------------------------------------------------------------+\n",
      "| NVIDIA-SMI 450.57       Driver Version: 418.67       CUDA Version: 10.1     |\n",
      "|-------------------------------+----------------------+----------------------+\n",
      "| GPU  Name        Persistence-M| Bus-Id        Disp.A | Volatile Uncorr. ECC |\n",
      "| Fan  Temp  Perf  Pwr:Usage/Cap|         Memory-Usage | GPU-Util  Compute M. |\n",
      "|                               |                      |               MIG M. |\n",
      "|===============================+======================+======================|\n",
      "|   0  Tesla T4            Off  | 00000000:00:04.0 Off |                    0 |\n",
      "| N/A   45C    P8    10W /  70W |      0MiB / 15079MiB |      0%      Default |\n",
      "|                               |                      |                 ERR! |\n",
      "+-------------------------------+----------------------+----------------------+\n",
      "                                                                               \n",
      "+-----------------------------------------------------------------------------+\n",
      "| Processes:                                                                  |\n",
      "|  GPU   GI   CI        PID   Type   Process name                  GPU Memory |\n",
      "|        ID   ID                                                   Usage      |\n",
      "|=============================================================================|\n",
      "|  No running processes found                                                 |\n",
      "+-----------------------------------------------------------------------------+\n"
     ]
    }
   ],
   "source": [
    "!nvidia-smi"
   ]
  },
  {
   "cell_type": "code",
   "execution_count": null,
   "metadata": {
    "colab": {},
    "colab_type": "code",
    "id": "PRWNJyRtDxc9"
   },
   "outputs": [],
   "source": [
    "!git clone https://github.com/NVIDIA/apex /apex\n",
    "!pip install -v --no-cache-dir --global-option=\"--cpp_ext\" --global-option=\"--cuda_ext\" /apex/."
   ]
  },
  {
   "cell_type": "code",
   "execution_count": 2,
   "metadata": {
    "colab": {
     "base_uri": "https://localhost:8080/",
     "height": 50
    },
    "colab_type": "code",
    "id": "AbYDWNHqDxdD",
    "outputId": "13a549f9-fdaf-4023-8996-7b765336fe19"
   },
   "outputs": [
    {
     "name": "stdout",
     "output_type": "stream",
     "text": [
      "Drive already mounted at /content/gdrive; to attempt to forcibly remount, call drive.mount(\"/content/gdrive\", force_remount=True).\n",
      "datasets  datasets.zip\tmodels\ttrain-eval.ipynb\n"
     ]
    }
   ],
   "source": [
    "from google.colab import drive\n",
    "drive.mount('/content/gdrive')\n",
    "!ls \"/content/gdrive/My Drive/lab/SSD/\"\n",
    "gdrive_dir = \"/content/gdrive/My Drive/lab/SSD/\""
   ]
  },
  {
   "cell_type": "code",
   "execution_count": 5,
   "metadata": {
    "colab": {
     "base_uri": "https://localhost:8080/",
     "height": 118
    },
    "colab_type": "code",
    "id": "I0_DA3T4DxdK",
    "outputId": "96d6e93f-e894-45bc-817c-e7bc71dc9c81"
   },
   "outputs": [
    {
     "name": "stdout",
     "output_type": "stream",
     "text": [
      "Cloning into 'single-shot-detection-pytorch'...\n",
      "remote: Enumerating objects: 40, done.\u001b[K\n",
      "remote: Counting objects: 100% (40/40), done.\u001b[K\n",
      "remote: Compressing objects: 100% (27/27), done.\u001b[K\n",
      "remote: Total 40 (delta 21), reused 28 (delta 11), pack-reused 0\u001b[K\n",
      "Unpacking objects: 100% (40/40), done.\n"
     ]
    }
   ],
   "source": [
    "!unzip -q \"/content/gdrive/My Drive/lab/SSD/trainval.zip\" -d \"/content\"\n",
    "!git clone https://github.com/ncthuan/single-shot-detection-pytorch\n",
    "!cp single-shot-detection-pytorch/*.py ."
   ]
  },
  {
   "cell_type": "code",
   "execution_count": 1,
   "metadata": {
    "colab": {},
    "colab_type": "code",
    "id": "FM286mawDxdQ"
   },
   "outputs": [],
   "source": [
    "import os\n",
    "import time\n",
    "import torch\n",
    "import torch.nn as nn\n",
    "import torch.cuda as cuda\n",
    "import seaborn as sns\n",
    "from torch.utils.data import DataLoader, random_split\n",
    "from dataset import VOCDataset, collate_fn\n",
    "from model import SSD300, MultiBoxLoss\n",
    "from utils import *"
   ]
  },
  {
   "cell_type": "code",
   "execution_count": null,
   "metadata": {
    "colab": {},
    "colab_type": "code",
    "id": "q-ZAhMWoDxdV"
   },
   "outputs": [],
   "source": [
    "#from apex import amp"
   ]
  },
  {
   "cell_type": "markdown",
   "metadata": {
    "colab_type": "text",
    "id": "KqWYYcDRDxdb"
   },
   "source": [
    "## Load dataset"
   ]
  },
  {
   "cell_type": "code",
   "execution_count": 8,
   "metadata": {},
   "outputs": [
    {
     "name": "stdout",
     "output_type": "stream",
     "text": [
      "\n",
      "There are 17202 training images. Files have been saved to output_folder: datasets/.\n",
      "\n",
      "There are 4301 validation images. Files have been saved to output_folder: datasets/.\n"
     ]
    }
   ],
   "source": [
    "from utils import create_data_lists\n",
    "voc07_path = os.path.join('datasets/', 'VOC2007/')\n",
    "voc12_path = os.path.join('datasets/', 'VOC2012/')\n",
    "create_data_lists(voc07_path, voc12_path, output_folder='datasets/')"
   ]
  },
  {
   "cell_type": "code",
   "execution_count": null,
   "metadata": {},
   "outputs": [],
   "source": [
    "!ls datasets/"
   ]
  },
  {
   "cell_type": "code",
   "execution_count": 2,
   "metadata": {},
   "outputs": [],
   "source": [
    "torch.manual_seed(42)\n",
    "trainset = VOCDataset(data_folder='datasets/', json_files=('TRAIN_images.json', 'TRAIN_objects.json'), augment=True)\n",
    "valset = VOCDataset(data_folder='datasets/', json_files=('VAL_images.json', 'VAL_objects.json'))\n",
    "\n",
    "dataloaders = dict(\n",
    "    train = DataLoader(trainset, batch_size=8, collate_fn=collate_fn, shuffle=True, num_workers=2),\n",
    "    val = DataLoader(valset, batch_size=64, collate_fn=collate_fn, shuffle=False, num_workers=4),\n",
    ")"
   ]
  },
  {
   "cell_type": "markdown",
   "metadata": {},
   "source": [
    "### EDA"
   ]
  },
  {
   "cell_type": "code",
   "execution_count": 3,
   "metadata": {},
   "outputs": [],
   "source": [
    "def visualize_objects_stat(dataset):\n",
    "    targets = dataset.targets\n",
    "    objects = list()\n",
    "    for target in targets:\n",
    "        objects.extend(target['labels'])\n",
    "    print('Total number of annotated objects:', len(objects))\n",
    "    sns.countplot(objects)"
   ]
  },
  {
   "cell_type": "code",
   "execution_count": 4,
   "metadata": {},
   "outputs": [
    {
     "data": {
      "text/plain": [
       "{'aeroplane': 1,\n",
       " 'bicycle': 2,\n",
       " 'bird': 3,\n",
       " 'boat': 4,\n",
       " 'bottle': 5,\n",
       " 'bus': 6,\n",
       " 'car': 7,\n",
       " 'cat': 8,\n",
       " 'chair': 9,\n",
       " 'cow': 10,\n",
       " 'diningtable': 11,\n",
       " 'dog': 12,\n",
       " 'horse': 13,\n",
       " 'motorbike': 14,\n",
       " 'person': 15,\n",
       " 'pottedplant': 16,\n",
       " 'sheep': 17,\n",
       " 'sofa': 18,\n",
       " 'train': 19,\n",
       " 'tvmonitor': 20,\n",
       " 'background': 0}"
      ]
     },
     "execution_count": 4,
     "metadata": {},
     "output_type": "execute_result"
    }
   ],
   "source": [
    "label_map"
   ]
  },
  {
   "cell_type": "code",
   "execution_count": 5,
   "metadata": {},
   "outputs": [
    {
     "name": "stdout",
     "output_type": "stream",
     "text": [
      "Total number of annotated objects: 49949\n"
     ]
    },
    {
     "data": {
      "image/png": "[encoded data removed]",
      "text/plain": [
       "<Figure size 432x288 with 1 Axes>"
      ]
     },
     "metadata": {
      "needs_background": "light"
     },
     "output_type": "display_data"
    }
   ],
   "source": [
    "visualize_objects_stat(trainset)"
   ]
  },
  {
   "cell_type": "code",
   "execution_count": 6,
   "metadata": {},
   "outputs": [
    {
     "name": "stdout",
     "output_type": "stream",
     "text": [
      "Total number of annotated objects: 12250\n"
     ]
    },
    {
     "data": {
      "image/png": "[encoded data removed]",
      "text/plain": [
       "<Figure size 432x288 with 1 Axes>"
      ]
     },
     "metadata": {
      "needs_background": "light"
     },
     "output_type": "display_data"
    }
   ],
   "source": [
    "visualize_objects_stat(valset)"
   ]
  },
  {
   "cell_type": "markdown",
   "metadata": {
    "colab_type": "text",
    "id": "8WUVt5FvDxdo"
   },
   "source": [
    "## Train model"
   ]
  },
  {
   "cell_type": "code",
   "execution_count": 3,
   "metadata": {
    "colab": {},
    "colab_type": "code",
    "id": "W6wmuEoODxdq"
   },
   "outputs": [],
   "source": [
    "device = torch.device(\"cuda\" if cuda.is_available() else \"cpu\") \n",
    "\n",
    "#checkpoint_path = gdrive_dir+'models/checkpoint_ssd300.pt'\n",
    "checkpoint = None #torch.load('checkpoint_path')\n",
    "vgg16_dir = 'models/'\n",
    "\n",
    "# Initiate model instance\n",
    "MySSD300 = SSD300(n_classes=21, vgg16_dir=vgg16_dir, checkpoint=checkpoint).to(device)\n",
    "\n",
    "loss_func = MultiBoxLoss(priors_cxcy=MySSD300.get_prior_boxes(), threshold=0.5, neg_pos_ratio=3, alpha=1.)\n",
    "\n",
    "optimizer = torch.optim.Adam(MySSD300.parameters(), lr=1e-3, weight_decay=5e-4)\n",
    "\n",
    "grad_clip = None\n",
    "\n",
    "# Mixed precision\n",
    "#MySSD300, optimizer = amp.initialize(MySSD300, optimizer, opt_level='O1')\n",
    "\n",
    "if checkpoint:\n",
    "    optimizer.load_state_dict(checkpoint['optimizer'])\n",
    "#    amp.load_state_dict(checkpoint['amp'])"
   ]
  },
  {
   "cell_type": "code",
   "execution_count": 4,
   "metadata": {
    "colab": {},
    "colab_type": "code",
    "id": "3SGP1PteDxdv"
   },
   "outputs": [],
   "source": [
    "def train_epoch(model, trainset_loader, loss_func, optimizer, epoch_id):\n",
    "    model.train()\n",
    "    train_loss = 0\n",
    "    for step, (imgs, boxes, labels,_) in enumerate(trainset_loader):\n",
    "        # move input data to GPU\n",
    "        imgs = imgs.to(device)\n",
    "        boxes = [b.to(device) for b in boxes]\n",
    "        labels = [l.to(device) for l in labels]\n",
    "        \n",
    "        # forward\n",
    "        predicted_offsets, predicted_scores = model(imgs)\n",
    "        loss = loss_func(predicted_offsets, predicted_scores, boxes, labels)\n",
    "        \n",
    "        # backward & optimize\n",
    "        optimizer.zero_grad()\n",
    "        loss.backward()\n",
    "        #with amp.scale_loss(loss, optimizer) as scaled_loss:\n",
    "        #    scaled_loss.backward()\n",
    "        optimizer.step()\n",
    "\n",
    "        #if epoch_id == 1 and step % 200 == 0:\n",
    "        print(f'Epoch 1 - step {step}: train_loss: {loss.item():.4f}')\n",
    "        \n",
    "        train_loss += loss.item()\n",
    "        \n",
    "    return train_loss/len(trainset)\n",
    "\n",
    "def eval_epoch(model, valset_loader, loss_func):\n",
    "    '''\n",
    "    '''\n",
    "    model.eval()\n",
    "    val_loss = 0\n",
    "    with torch.no_grad():\n",
    "        for step, (imgs, boxes, labels,_) in enumerate(valset_loader):\n",
    "            # move input data to GPU\n",
    "            imgs = imgs.to(device)\n",
    "            boxes = [b.to(device) for b in boxes]\n",
    "            labels = [l.to(device) for l in labels]\n",
    "            \n",
    "            predicted_offsets, predicted_scores = model(imgs)\n",
    "            loss = loss_func(predicted_offsets, predicted_scores, boxes, labels)\n",
    "            val_loss += loss.item()\n",
    "\n",
    "    return val_loss/len(valset)\n",
    "\n",
    "\n",
    "def train_model(model, dataloaders, optimizer, loss_func, epoch=1):\n",
    "    train_loss_hist, val_loss_hist = [], []\n",
    "    for i in range(1,epoch+1):\n",
    "        start_time = time.time()\n",
    "        train_loss = train_epoch(model, dataloaders['train'], loss_func, optimizer, i)\n",
    "        training_time = round(time.time() - start_time)\n",
    "        \n",
    "        # save_checkpoint(epoch, model, optimizer) #every 3 epoch\n",
    "        if i % 3 == 0:\n",
    "            torch.save({'epoch': i, \n",
    "                        'model': model.state_dict(), \n",
    "                        'optimizer': optimizer.state_dict(), \n",
    "                        #'amp': amp.state_dict()\n",
    "                       }, checkpoint_path)\n",
    "            print(f'Epoch {i} - Model saved at checkpoint_path | Time consumed: {round(time.time()-training_time)}s')\n",
    "        \n",
    "        start_time = time.time()\n",
    "        val_loss = eval_epoch(model, dataloaders['val'], loss_func)\n",
    "        val_time = round(time.time() - start_time)\n",
    "        \n",
    "        train_loss_hist.append(train_loss)\n",
    "        val_loss_hist.append(val_loss)\n",
    "        \n",
    "        print(f'Epoch {i} - train/val_time: {training_time}s | {val_time}s - train_loss: {train_loss:.4f} - val_loss: {val_loss:.4f}')\n",
    "        \n",
    "    return train_loss_hist, val_loss_hist"
   ]
  },
  {
   "cell_type": "code",
   "execution_count": 5,
   "metadata": {
    "colab": {
     "base_uri": "https://localhost:8080/",
     "height": 421
    },
    "colab_type": "code",
    "id": "2vY_0FEADxd0",
    "outputId": "b519865a-63e2-4638-d660-94043b1c5470"
   },
   "outputs": [
    {
     "name": "stdout",
     "output_type": "stream",
     "text": [
      "Epoch 1 - step 0: train_loss: 33.4896\n",
      "Epoch 1 - step 1: train_loss: 13.6597\n",
      "Epoch 1 - step 2: train_loss: 13.4090\n",
      "Epoch 1 - step 3: train_loss: 13.4923\n",
      "Epoch 1 - step 4: train_loss: 13.7203\n",
      "Epoch 1 - step 5: train_loss: 13.7206\n",
      "Epoch 1 - step 6: train_loss: 13.3404\n",
      "Epoch 1 - step 7: train_loss: 13.2686\n",
      "Epoch 1 - step 8: train_loss: 13.2957\n",
      "Epoch 1 - step 9: train_loss: 13.3048\n",
      "Epoch 1 - step 10: train_loss: 13.4261\n",
      "Epoch 1 - step 11: train_loss: 13.3851\n",
      "Epoch 1 - step 12: train_loss: 13.4661\n",
      "Epoch 1 - step 13: train_loss: 13.3052\n",
      "Epoch 1 - step 14: train_loss: 14.6179\n",
      "Epoch 1 - step 15: train_loss: 13.3202\n",
      "Epoch 1 - step 16: train_loss: 13.2782\n",
      "Epoch 1 - step 17: train_loss: 13.3751\n",
      "Epoch 1 - step 18: train_loss: 13.4024\n",
      "Epoch 1 - step 19: train_loss: 13.2425\n",
      "Epoch 1 - step 20: train_loss: 13.3706\n",
      "Epoch 1 - step 21: train_loss: 13.2639\n",
      "Epoch 1 - step 22: train_loss: 13.3075\n",
      "Epoch 1 - step 23: train_loss: 13.2949\n",
      "Epoch 1 - step 24: train_loss: 13.3153\n",
      "Epoch 1 - step 25: train_loss: 13.3801\n",
      "Epoch 1 - step 26: train_loss: 13.2898\n",
      "Epoch 1 - step 27: train_loss: 13.3546\n",
      "Epoch 1 - step 28: train_loss: 13.3777\n",
      "Epoch 1 - step 29: train_loss: 13.3433\n",
      "Epoch 1 - step 30: train_loss: 13.2662\n",
      "Epoch 1 - step 31: train_loss: 13.2484\n",
      "Epoch 1 - step 32: train_loss: 13.2948\n",
      "Epoch 1 - step 33: train_loss: 13.1880\n",
      "Epoch 1 - step 34: train_loss: 13.3221\n",
      "Epoch 1 - step 35: train_loss: 13.2658\n",
      "Epoch 1 - step 36: train_loss: 13.1985\n",
      "Epoch 1 - step 37: train_loss: 13.2588\n",
      "Epoch 1 - step 38: train_loss: 13.2919\n",
      "Epoch 1 - step 39: train_loss: 13.3148\n",
      "Epoch 1 - step 40: train_loss: 13.2598\n",
      "Epoch 1 - step 41: train_loss: 13.3512\n",
      "Epoch 1 - step 42: train_loss: 13.2851\n",
      "Epoch 1 - step 43: train_loss: 13.2527\n",
      "Epoch 1 - step 44: train_loss: 12.9871\n",
      "Epoch 1 - step 45: train_loss: 13.2548\n",
      "Epoch 1 - step 46: train_loss: 13.2236\n",
      "Epoch 1 - step 47: train_loss: 13.2638\n",
      "Epoch 1 - step 48: train_loss: 13.3685\n",
      "Epoch 1 - step 49: train_loss: 13.1895\n",
      "Epoch 1 - step 50: train_loss: 13.3439\n",
      "Epoch 1 - step 51: train_loss: 13.2876\n",
      "Epoch 1 - step 52: train_loss: 13.2528\n",
      "Epoch 1 - step 53: train_loss: 13.3297\n",
      "Epoch 1 - step 54: train_loss: 13.3368\n",
      "Epoch 1 - step 55: train_loss: 13.2696\n",
      "Epoch 1 - step 56: train_loss: 13.3190\n",
      "Epoch 1 - step 57: train_loss: 13.2930\n",
      "Epoch 1 - step 58: train_loss: 13.2395\n",
      "Epoch 1 - step 59: train_loss: 13.2657\n",
      "Epoch 1 - step 60: train_loss: 13.2578\n",
      "Epoch 1 - step 61: train_loss: 13.2469\n",
      "Epoch 1 - step 62: train_loss: 13.2875\n"
     ]
    },
    {
     "ename": "KeyboardInterrupt",
     "evalue": "",
     "output_type": "error",
     "traceback": [
      "\u001b[1;31m---------------------------------------------------------------------------\u001b[0m",
      "\u001b[1;31mKeyboardInterrupt\u001b[0m                         Traceback (most recent call last)",
      "\u001b[1;32m<ipython-input-5-89b698fd4ee7>\u001b[0m in \u001b[0;36m<module>\u001b[1;34m\u001b[0m\n\u001b[1;32m----> 1\u001b[1;33m \u001b[0mtrain_loss_hist\u001b[0m\u001b[1;33m,\u001b[0m \u001b[0mval_loss_hist\u001b[0m \u001b[1;33m=\u001b[0m \u001b[0mtrain_model\u001b[0m\u001b[1;33m(\u001b[0m\u001b[0mMySSD300\u001b[0m\u001b[1;33m,\u001b[0m \u001b[0mdataloaders\u001b[0m\u001b[1;33m,\u001b[0m \u001b[0moptimizer\u001b[0m\u001b[1;33m,\u001b[0m \u001b[0mloss_func\u001b[0m\u001b[1;33m,\u001b[0m \u001b[0mepoch\u001b[0m\u001b[1;33m=\u001b[0m\u001b[1;36m1\u001b[0m\u001b[1;33m)\u001b[0m\u001b[1;33m\u001b[0m\u001b[1;33m\u001b[0m\u001b[0m\n\u001b[0m",
      "\u001b[1;32m<ipython-input-4-6183e317cd7a>\u001b[0m in \u001b[0;36mtrain_model\u001b[1;34m(model, dataloaders, optimizer, loss_func, epoch)\u001b[0m\n\u001b[0;32m     49\u001b[0m     \u001b[1;32mfor\u001b[0m \u001b[0mi\u001b[0m \u001b[1;32min\u001b[0m \u001b[0mrange\u001b[0m\u001b[1;33m(\u001b[0m\u001b[1;36m1\u001b[0m\u001b[1;33m,\u001b[0m\u001b[0mepoch\u001b[0m\u001b[1;33m+\u001b[0m\u001b[1;36m1\u001b[0m\u001b[1;33m)\u001b[0m\u001b[1;33m:\u001b[0m\u001b[1;33m\u001b[0m\u001b[1;33m\u001b[0m\u001b[0m\n\u001b[0;32m     50\u001b[0m         \u001b[0mstart_time\u001b[0m \u001b[1;33m=\u001b[0m \u001b[0mtime\u001b[0m\u001b[1;33m.\u001b[0m\u001b[0mtime\u001b[0m\u001b[1;33m(\u001b[0m\u001b[1;33m)\u001b[0m\u001b[1;33m\u001b[0m\u001b[1;33m\u001b[0m\u001b[0m\n\u001b[1;32m---> 51\u001b[1;33m         \u001b[0mtrain_loss\u001b[0m \u001b[1;33m=\u001b[0m \u001b[0mtrain_epoch\u001b[0m\u001b[1;33m(\u001b[0m\u001b[0mmodel\u001b[0m\u001b[1;33m,\u001b[0m \u001b[0mdataloaders\u001b[0m\u001b[1;33m[\u001b[0m\u001b[1;34m'train'\u001b[0m\u001b[1;33m]\u001b[0m\u001b[1;33m,\u001b[0m \u001b[0mloss_func\u001b[0m\u001b[1;33m,\u001b[0m \u001b[0moptimizer\u001b[0m\u001b[1;33m,\u001b[0m \u001b[0mi\u001b[0m\u001b[1;33m)\u001b[0m\u001b[1;33m\u001b[0m\u001b[1;33m\u001b[0m\u001b[0m\n\u001b[0m\u001b[0;32m     52\u001b[0m         \u001b[0mtraining_time\u001b[0m \u001b[1;33m=\u001b[0m \u001b[0mround\u001b[0m\u001b[1;33m(\u001b[0m\u001b[0mtime\u001b[0m\u001b[1;33m.\u001b[0m\u001b[0mtime\u001b[0m\u001b[1;33m(\u001b[0m\u001b[1;33m)\u001b[0m \u001b[1;33m-\u001b[0m \u001b[0mstart_time\u001b[0m\u001b[1;33m)\u001b[0m\u001b[1;33m\u001b[0m\u001b[1;33m\u001b[0m\u001b[0m\n\u001b[0;32m     53\u001b[0m \u001b[1;33m\u001b[0m\u001b[0m\n",
      "\u001b[1;32m<ipython-input-4-6183e317cd7a>\u001b[0m in \u001b[0;36mtrain_epoch\u001b[1;34m(model, trainset_loader, loss_func, optimizer, epoch_id)\u001b[0m\n\u001b[0;32m     14\u001b[0m         \u001b[1;31m# backward & optimize\u001b[0m\u001b[1;33m\u001b[0m\u001b[1;33m\u001b[0m\u001b[1;33m\u001b[0m\u001b[0m\n\u001b[0;32m     15\u001b[0m         \u001b[0moptimizer\u001b[0m\u001b[1;33m.\u001b[0m\u001b[0mzero_grad\u001b[0m\u001b[1;33m(\u001b[0m\u001b[1;33m)\u001b[0m\u001b[1;33m\u001b[0m\u001b[1;33m\u001b[0m\u001b[0m\n\u001b[1;32m---> 16\u001b[1;33m         \u001b[0mloss\u001b[0m\u001b[1;33m.\u001b[0m\u001b[0mbackward\u001b[0m\u001b[1;33m(\u001b[0m\u001b[1;33m)\u001b[0m\u001b[1;33m\u001b[0m\u001b[1;33m\u001b[0m\u001b[0m\n\u001b[0m\u001b[0;32m     17\u001b[0m         \u001b[1;31m#with amp.scale_loss(loss, optimizer) as scaled_loss:\u001b[0m\u001b[1;33m\u001b[0m\u001b[1;33m\u001b[0m\u001b[1;33m\u001b[0m\u001b[0m\n\u001b[0;32m     18\u001b[0m         \u001b[1;31m#    scaled_loss.backward()\u001b[0m\u001b[1;33m\u001b[0m\u001b[1;33m\u001b[0m\u001b[1;33m\u001b[0m\u001b[0m\n",
      "\u001b[1;32m~\\Anaconda3\\envs\\tfe\\lib\\site-packages\\torch\\tensor.py\u001b[0m in \u001b[0;36mbackward\u001b[1;34m(self, gradient, retain_graph, create_graph)\u001b[0m\n\u001b[0;32m    196\u001b[0m                 \u001b[0mproducts\u001b[0m\u001b[1;33m.\u001b[0m \u001b[0mDefaults\u001b[0m \u001b[0mto\u001b[0m\u001b[0;31m \u001b[0m\u001b[0;31m`\u001b[0m\u001b[0;31m`\u001b[0m\u001b[1;32mFalse\u001b[0m\u001b[0;31m`\u001b[0m\u001b[0;31m`\u001b[0m\u001b[1;33m.\u001b[0m\u001b[1;33m\u001b[0m\u001b[1;33m\u001b[0m\u001b[0m\n\u001b[0;32m    197\u001b[0m         \"\"\"\n\u001b[1;32m--> 198\u001b[1;33m         \u001b[0mtorch\u001b[0m\u001b[1;33m.\u001b[0m\u001b[0mautograd\u001b[0m\u001b[1;33m.\u001b[0m\u001b[0mbackward\u001b[0m\u001b[1;33m(\u001b[0m\u001b[0mself\u001b[0m\u001b[1;33m,\u001b[0m \u001b[0mgradient\u001b[0m\u001b[1;33m,\u001b[0m \u001b[0mretain_graph\u001b[0m\u001b[1;33m,\u001b[0m \u001b[0mcreate_graph\u001b[0m\u001b[1;33m)\u001b[0m\u001b[1;33m\u001b[0m\u001b[1;33m\u001b[0m\u001b[0m\n\u001b[0m\u001b[0;32m    199\u001b[0m \u001b[1;33m\u001b[0m\u001b[0m\n\u001b[0;32m    200\u001b[0m     \u001b[1;32mdef\u001b[0m \u001b[0mregister_hook\u001b[0m\u001b[1;33m(\u001b[0m\u001b[0mself\u001b[0m\u001b[1;33m,\u001b[0m \u001b[0mhook\u001b[0m\u001b[1;33m)\u001b[0m\u001b[1;33m:\u001b[0m\u001b[1;33m\u001b[0m\u001b[1;33m\u001b[0m\u001b[0m\n",
      "\u001b[1;32m~\\Anaconda3\\envs\\tfe\\lib\\site-packages\\torch\\autograd\\__init__.py\u001b[0m in \u001b[0;36mbackward\u001b[1;34m(tensors, grad_tensors, retain_graph, create_graph, grad_variables)\u001b[0m\n\u001b[0;32m     98\u001b[0m     Variable._execution_engine.run_backward(\n\u001b[0;32m     99\u001b[0m         \u001b[0mtensors\u001b[0m\u001b[1;33m,\u001b[0m \u001b[0mgrad_tensors\u001b[0m\u001b[1;33m,\u001b[0m \u001b[0mretain_graph\u001b[0m\u001b[1;33m,\u001b[0m \u001b[0mcreate_graph\u001b[0m\u001b[1;33m,\u001b[0m\u001b[1;33m\u001b[0m\u001b[1;33m\u001b[0m\u001b[0m\n\u001b[1;32m--> 100\u001b[1;33m         allow_unreachable=True)  # allow_unreachable flag\n\u001b[0m\u001b[0;32m    101\u001b[0m \u001b[1;33m\u001b[0m\u001b[0m\n\u001b[0;32m    102\u001b[0m \u001b[1;33m\u001b[0m\u001b[0m\n",
      "\u001b[1;31mKeyboardInterrupt\u001b[0m: "
     ]
    }
   ],
   "source": [
    "train_loss_hist, val_loss_hist = train_model(MySSD300, dataloaders, optimizer, loss_func, epoch=1)"
   ]
  },
  {
   "cell_type": "code",
   "execution_count": null,
   "metadata": {
    "colab": {},
    "colab_type": "code",
    "id": "T6_OV2liYjEw"
   },
   "outputs": [],
   "source": []
  },
  {
   "cell_type": "code",
   "execution_count": null,
   "metadata": {},
   "outputs": [],
   "source": []
  },
  {
   "cell_type": "code",
   "execution_count": null,
   "metadata": {},
   "outputs": [],
   "source": []
  },
  {
   "cell_type": "code",
   "execution_count": null,
   "metadata": {},
   "outputs": [],
   "source": []
  },
  {
   "cell_type": "markdown",
   "metadata": {},
   "source": [
    "## Evaluate"
   ]
  },
  {
   "cell_type": "code",
   "execution_count": null,
   "metadata": {},
   "outputs": [],
   "source": [
    "def eval_epoch(model, valset_loader, loss_func):\n",
    "    '''\n",
    "    '''\n",
    "    model.eval()\n",
    "    val_loss = 0\n",
    "    \n",
    "    detected_boxes = list()\n",
    "    detected_labels = list()\n",
    "    detected_scores = list()\n",
    "    true_boxes = list()\n",
    "    true_labels = list()\n",
    "    true_diffs = list()\n",
    "    \n",
    "    with torch.no_grad():\n",
    "        for step, (imgs, boxes, labels, diffs) in enumerate(valset_loader):\n",
    "            # move input data to GPU\n",
    "            imgs = imgs.to(device)\n",
    "            boxes = [b.to(device) for b in boxes]\n",
    "            labels = [l.to(device) for l in labels]\n",
    "            diffs = [d.to(device) for d in diffs]\n",
    "\n",
    "            # detect objects\n",
    "            predicted_offsets, predicted_scores = model(imgs)\n",
    "            batch_det_boxes, batch_det_labels, batch_det_scores = model.detect_objects(predicted_offsets, predicted_scores,\n",
    "                                                                                       score_threshold=0.01, iou_threshold=0.5)\n",
    "            # calculate val loss\n",
    "            loss = loss_func(predicted_offsets, predicted_scores, boxes, labels)\n",
    "            val_loss += loss.item()\n",
    "\n",
    "            detected_boxes.extend(batch_det_boxes)\n",
    "            detected_labels.extend(batch_det_labels)\n",
    "            detected_scores.extend(batch_det_scores)\n",
    "            true_boxes.extend(boxes)\n",
    "            true_labels.extend(labels)\n",
    "            true_diffs.extend(diffs)\n",
    "\n",
    "        # calculate metrics value\n",
    "        APs, mAP = calculate_mAP(detected_boxes, detected_labels, detected_scores, true_boxes, true_labels, true_diffs)\n",
    "        val_loss = val_loss/len(valset)\n",
    "    \n",
    "    return val_loss, APs, mAP"
   ]
  },
  {
   "cell_type": "code",
   "execution_count": null,
   "metadata": {},
   "outputs": [],
   "source": []
  },
  {
   "cell_type": "code",
   "execution_count": null,
   "metadata": {},
   "outputs": [],
   "source": []
  }
 ],
 "metadata": {
  "accelerator": "GPU",
  "colab": {
   "name": "train-eval.ipynb",
   "provenance": [],
   "toc_visible": true
  },
  "kernelspec": {
   "display_name": "Python 3",
   "language": "python",
   "name": "python3"
  },
  "language_info": {
   "codemirror_mode": {
    "name": "ipython",
    "version": 3
   },
   "file_extension": ".py",
   "mimetype": "text/x-python",
   "name": "python",
   "nbconvert_exporter": "python",
   "pygments_lexer": "ipython3",
   "version": "3.7.6"
  }
 },
 "nbformat": 4,
 "nbformat_minor": 4
}
