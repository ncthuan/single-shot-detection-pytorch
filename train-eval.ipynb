{
  "nbformat": 4,
  "nbformat_minor": 0,
  "metadata": {
    "accelerator": "GPU",
    "colab": {
      "name": "train-eval.ipynb",
      "provenance": [],
      "toc_visible": true
    },
    "kernelspec": {
      "display_name": "Python 3",
      "language": "python",
      "name": "python3"
    },
    "language_info": {
      "codemirror_mode": {
        "name": "ipython",
        "version": 3
      },
      "file_extension": ".py",
      "mimetype": "text/x-python",
      "name": "python",
      "nbconvert_exporter": "python",
      "pygments_lexer": "ipython3",
      "version": "3.7.6"
    }
  },
  "cells": [
    {
      "cell_type": "code",
      "metadata": {
        "colab_type": "code",
        "id": "fgUBlclwDxc2",
        "colab": {
          "base_uri": "https://localhost:8080/",
          "height": 353
        },
        "outputId": "b504802e-8ac7-4cb8-c130-b7048df104a4"
      },
      "source": [
        "!nvidia-smi"
      ],
      "execution_count": null,
      "outputs": [
        {
          "output_type": "stream",
          "text": [
            "Mon Aug 10 04:04:11 2020       \n",
            "+-----------------------------------------------------------------------------+\n",
            "| NVIDIA-SMI 450.57       Driver Version: 418.67       CUDA Version: 10.1     |\n",
            "|-------------------------------+----------------------+----------------------+\n",
            "| GPU  Name        Persistence-M| Bus-Id        Disp.A | Volatile Uncorr. ECC |\n",
            "| Fan  Temp  Perf  Pwr:Usage/Cap|         Memory-Usage | GPU-Util  Compute M. |\n",
            "|                               |                      |               MIG M. |\n",
            "|===============================+======================+======================|\n",
            "|   0  Tesla T4            Off  | 00000000:00:04.0 Off |                    0 |\n",
            "| N/A   60C    P8    11W /  70W |      0MiB / 15079MiB |      0%      Default |\n",
            "|                               |                      |                 ERR! |\n",
            "+-------------------------------+----------------------+----------------------+\n",
            "                                                                               \n",
            "+-----------------------------------------------------------------------------+\n",
            "| Processes:                                                                  |\n",
            "|  GPU   GI   CI        PID   Type   Process name                  GPU Memory |\n",
            "|        ID   ID                                                   Usage      |\n",
            "|=============================================================================|\n",
            "|  No running processes found                                                 |\n",
            "+-----------------------------------------------------------------------------+\n"
          ],
          "name": "stdout"
        }
      ]
    },
    {
      "cell_type": "code",
      "metadata": {
        "colab_type": "code",
        "id": "PRWNJyRtDxc9",
        "colab": {}
      },
      "source": [
        "!git clone https://github.com/NVIDIA/apex /apex\n",
        "!pip install --no-cache-dir --global-option=\"--cpp_ext\" --global-option=\"--cuda_ext\" /apex/."
      ],
      "execution_count": null,
      "outputs": []
    },
    {
      "cell_type": "code",
      "metadata": {
        "colab_type": "code",
        "id": "AbYDWNHqDxdD",
        "colab": {
          "base_uri": "https://localhost:8080/",
          "height": 138
        },
        "outputId": "fe32911c-bbb1-4d9b-cdac-ad9c021b81b8"
      },
      "source": [
        "from google.colab import drive\n",
        "drive.mount('/content/gdrive')\n",
        "!ls \"/content/gdrive/My Drive/lab/SSD/\"\n",
        "gdrive_dir = \"/content/gdrive/My Drive/lab/SSD/\""
      ],
      "execution_count": null,
      "outputs": [
        {
          "output_type": "stream",
          "text": [
            "Go to this URL in a browser: https://accounts.google.com/o/oauth2/auth?client_id=947318989803-6bn6qk8qdgf4n4g3pfee6491hc0brc4i.apps.googleusercontent.com&redirect_uri=urn%3aietf%3awg%3aoauth%3a2.0%3aoob&response_type=code&scope=email%20https%3a%2f%2fwww.googleapis.com%2fauth%2fdocs.test%20https%3a%2f%2fwww.googleapis.com%2fauth%2fdrive%20https%3a%2f%2fwww.googleapis.com%2fauth%2fdrive.photos.readonly%20https%3a%2f%2fwww.googleapis.com%2fauth%2fpeopleapi.readonly\n",
            "\n",
            "Enter your authorization code:\n",
            "··········\n",
            "Mounted at /content/gdrive\n",
            "datasets  models  test.zip  train-eval.ipynb  trainval.zip\n"
          ],
          "name": "stdout"
        }
      ]
    },
    {
      "cell_type": "code",
      "metadata": {
        "colab_type": "code",
        "id": "I0_DA3T4DxdK",
        "colab": {
          "base_uri": "https://localhost:8080/",
          "height": 168
        },
        "outputId": "1b1f3781-2393-4ea9-be45-4d28754abe0c"
      },
      "source": [
        "!unzip -q \"/content/gdrive/My Drive/lab/SSD/trainval.zip\" -d \"/content\"\n",
        "!git clone https://github.com/ncthuan/single-shot-detection-pytorch\n",
        "!cp single-shot-detection-pytorch/*.py .\n",
        "!pip install albumentations==0.4.6 -q"
      ],
      "execution_count": null,
      "outputs": [
        {
          "output_type": "stream",
          "text": [
            "Cloning into 'single-shot-detection-pytorch'...\n",
            "remote: Enumerating objects: 71, done.\u001b[K\n",
            "remote: Counting objects: 100% (71/71), done.\u001b[K\n",
            "remote: Compressing objects: 100% (50/50), done.\u001b[K\n",
            "remote: Total 71 (delta 41), reused 47 (delta 19), pack-reused 0\u001b[K\n",
            "Unpacking objects: 100% (71/71), done.\n",
            "\u001b[K     |████████████████████████████████| 122kB 9.5MB/s \n",
            "\u001b[K     |████████████████████████████████| 952kB 18.0MB/s \n",
            "\u001b[?25h  Building wheel for albumentations (setup.py) ... \u001b[?25l\u001b[?25hdone\n"
          ],
          "name": "stdout"
        }
      ]
    },
    {
      "cell_type": "code",
      "metadata": {
        "colab_type": "code",
        "id": "FM286mawDxdQ",
        "colab": {
          "base_uri": "https://localhost:8080/",
          "height": 70
        },
        "outputId": "4d0c52fb-18e3-42d8-ff9f-07249995ec3c"
      },
      "source": [
        "import os\n",
        "import time\n",
        "import torch\n",
        "import torch.nn as nn\n",
        "import torch.cuda as cuda\n",
        "import seaborn as sns\n",
        "from torch.utils.data import DataLoader, random_split\n",
        "from dataset import VOCDataset, collate_fn\n",
        "from model import SSD300, MultiBoxLoss\n",
        "from utils import create_data_lists, clip_gradient, save_checkpoint, calculate_mAP"
      ],
      "execution_count": null,
      "outputs": [
        {
          "output_type": "stream",
          "text": [
            "/usr/local/lib/python3.6/dist-packages/statsmodels/tools/_testing.py:19: FutureWarning: pandas.util.testing is deprecated. Use the functions in the public API at pandas.testing instead.\n",
            "  import pandas.util.testing as tm\n"
          ],
          "name": "stderr"
        }
      ]
    },
    {
      "cell_type": "code",
      "metadata": {
        "colab_type": "code",
        "id": "q-ZAhMWoDxdV",
        "colab": {}
      },
      "source": [
        "from apex import amp"
      ],
      "execution_count": null,
      "outputs": []
    },
    {
      "cell_type": "markdown",
      "metadata": {
        "colab_type": "text",
        "id": "KqWYYcDRDxdb"
      },
      "source": [
        "## Load dataset"
      ]
    },
    {
      "cell_type": "code",
      "metadata": {
        "id": "hDai5wh2MSYc",
        "colab_type": "code",
        "colab": {},
        "outputId": "5ce870eb-31bd-470a-f6dd-3bf64191e669"
      },
      "source": [
        "from utils import create_data_lists\n",
        "voc07_path = os.path.join('datasets/', 'VOC2007/')\n",
        "voc12_path = os.path.join('datasets/', 'VOC2012/')\n",
        "create_data_lists(voc07_path, voc12_path, output_folder='datasets/')"
      ],
      "execution_count": null,
      "outputs": [
        {
          "output_type": "stream",
          "text": [
            "\n",
            "There are 17202 training images. Files have been saved to output_folder: datasets/.\n",
            "\n",
            "There are 4301 validation images. Files have been saved to output_folder: datasets/.\n"
          ],
          "name": "stdout"
        }
      ]
    },
    {
      "cell_type": "code",
      "metadata": {
        "id": "73xuVqdoMSYj",
        "colab_type": "code",
        "colab": {
          "base_uri": "https://localhost:8080/",
          "height": 50
        },
        "outputId": "943f81c3-9241-4e3b-d66a-694d38e1377e"
      },
      "source": [
        "!ls datasets/"
      ],
      "execution_count": null,
      "outputs": [
        {
          "output_type": "stream",
          "text": [
            "label_map.json\t   TRAIN_objects.json  VAL_objects.json  VOC2012\n",
            "TRAIN_images.json  VAL_images.json     VOC2007\n"
          ],
          "name": "stdout"
        }
      ]
    },
    {
      "cell_type": "code",
      "metadata": {
        "id": "Bdh5PCNcMSYo",
        "colab_type": "code",
        "colab": {}
      },
      "source": [
        "torch.manual_seed(42)\n",
        "trainset = VOCDataset(data_folder='datasets/', json_files=('TRAIN_images.json', 'TRAIN_objects.json'), augment=True)\n",
        "valset = VOCDataset(data_folder='datasets/', json_files=('VAL_images.json', 'VAL_objects.json'))\n",
        "\n",
        "dataloaders = dict(\n",
        "    train = DataLoader(trainset, batch_size=16, collate_fn=collate_fn, shuffle=True, num_workers=2),\n",
        "    val = DataLoader(valset, batch_size=64, collate_fn=collate_fn, shuffle=False, num_workers=4),\n",
        ")"
      ],
      "execution_count": null,
      "outputs": []
    },
    {
      "cell_type": "markdown",
      "metadata": {
        "id": "7XXqI4BFMSYs",
        "colab_type": "text"
      },
      "source": [
        "### EDA"
      ]
    },
    {
      "cell_type": "code",
      "metadata": {
        "id": "OTigT1YdMSYt",
        "colab_type": "code",
        "colab": {}
      },
      "source": [
        "def visualize_objects_stat(dataset):\n",
        "    targets = dataset.targets\n",
        "    objects = list()\n",
        "    for target in targets:\n",
        "        objects.extend(target['labels'])\n",
        "    print('Total number of annotated objects:', len(objects))\n",
        "    sns.countplot(objects)"
      ],
      "execution_count": null,
      "outputs": []
    },
    {
      "cell_type": "code",
      "metadata": {
        "id": "lO16PlwCMSYy",
        "colab_type": "code",
        "colab": {},
        "outputId": "540b381a-32b5-4a19-a2f7-677003b2190f"
      },
      "source": [
        "label_map"
      ],
      "execution_count": null,
      "outputs": [
        {
          "output_type": "execute_result",
          "data": {
            "text/plain": [
              "{'aeroplane': 1,\n",
              " 'bicycle': 2,\n",
              " 'bird': 3,\n",
              " 'boat': 4,\n",
              " 'bottle': 5,\n",
              " 'bus': 6,\n",
              " 'car': 7,\n",
              " 'cat': 8,\n",
              " 'chair': 9,\n",
              " 'cow': 10,\n",
              " 'diningtable': 11,\n",
              " 'dog': 12,\n",
              " 'horse': 13,\n",
              " 'motorbike': 14,\n",
              " 'person': 15,\n",
              " 'pottedplant': 16,\n",
              " 'sheep': 17,\n",
              " 'sofa': 18,\n",
              " 'train': 19,\n",
              " 'tvmonitor': 20,\n",
              " 'background': 0}"
            ]
          },
          "metadata": {
            "tags": []
          },
          "execution_count": 4
        }
      ]
    },
    {
      "cell_type": "code",
      "metadata": {
        "id": "smssMy8NMSY6",
        "colab_type": "code",
        "colab": {},
        "outputId": "06896d90-e038-4224-e6c9-d92306f8038d"
      },
      "source": [
        "visualize_objects_stat(trainset)"
      ],
      "execution_count": null,
      "outputs": [
        {
          "output_type": "stream",
          "text": [
            "Total number of annotated objects: 49949\n"
          ],
          "name": "stdout"
        },
        {
          "output_type": "display_data",
          "data": {
            "image/png": "[encoded data removed]",
            "text/plain": [
              "<Figure size 432x288 with 1 Axes>"
            ]
          },
          "metadata": {
            "tags": [],
            "needs_background": "light"
          }
        }
      ]
    },
    {
      "cell_type": "code",
      "metadata": {
        "id": "V6mdg_QuMSZA",
        "colab_type": "code",
        "colab": {},
        "outputId": "dea19af2-41c7-467f-b956-be492c17ab48"
      },
      "source": [
        "visualize_objects_stat(valset)"
      ],
      "execution_count": null,
      "outputs": [
        {
          "output_type": "stream",
          "text": [
            "Total number of annotated objects: 12250\n"
          ],
          "name": "stdout"
        },
        {
          "output_type": "display_data",
          "data": {
            "image/png": "[encoded data removed]",
            "text/plain": [
              "<Figure size 432x288 with 1 Axes>"
            ]
          },
          "metadata": {
            "tags": [],
            "needs_background": "light"
          }
        }
      ]
    },
    {
      "cell_type": "markdown",
      "metadata": {
        "colab_type": "text",
        "id": "8WUVt5FvDxdo"
      },
      "source": [
        "## Train model"
      ]
    },
    {
      "cell_type": "code",
      "metadata": {
        "colab_type": "code",
        "id": "W6wmuEoODxdq",
        "colab": {
          "base_uri": "https://localhost:8080/",
          "height": 336
        },
        "outputId": "e1624253-861c-4211-ede2-bb1a7095981b"
      },
      "source": [
        "device = torch.device(\"cuda\" if cuda.is_available() else \"cpu\") \n",
        "\n",
        "checkpoint_path = gdrive_dir+'models/checkpoint_ssd300.pt'\n",
        "checkpoint = None #torch.load('checkpoint_path')\n",
        "vgg16_dir = 'models/'\n",
        "\n",
        "# Initiate model instance\n",
        "MySSD300 = SSD300(n_classes=21, vgg16_dir=vgg16_dir, checkpoint=checkpoint).to(device)\n",
        "\n",
        "loss_func = MultiBoxLoss(priors_cxcy=MySSD300.get_prior_boxes(), threshold=0.5, neg_pos_ratio=3, alpha=1.)\n",
        "\n",
        "optimizer = torch.optim.Adam(MySSD300.parameters(), lr=1e-3, weight_decay=5e-4)\n",
        "\n",
        "exp_lr_scheduler = torch.optim.lr_scheduler.ExponentialLR(optimizer, gamma=0.975, last_epoch=-1)\n",
        "\n",
        "grad_clip = None\n",
        "\n",
        "# Mixed precision\n",
        "#MySSD300, optimizer = amp.initialize(MySSD300, optimizer, opt_level='O1')\n",
        "\n",
        "if checkpoint:\n",
        "    optimizer.load_state_dict(checkpoint['optimizer'])\n",
        "    exp_lr_scheduler = torch.optim.lr_scheduler.ExponentialLR(optimizer, gamma=0.975, last_epoch=checkpoint['epoch'])\n",
        "    #amp.load_state_dict(checkpoint['amp'])"
      ],
      "execution_count": null,
      "outputs": [
        {
          "output_type": "stream",
          "text": [
            "Selected optimization level O1:  Insert automatic casts around Pytorch functions and Tensor methods.\n",
            "\n",
            "Defaults for this optimization level are:\n",
            "enabled                : True\n",
            "opt_level              : O1\n",
            "cast_model_type        : None\n",
            "patch_torch_functions  : True\n",
            "keep_batchnorm_fp32    : None\n",
            "master_weights         : None\n",
            "loss_scale             : dynamic\n",
            "Processing user overrides (additional kwargs that are not None)...\n",
            "After processing overrides, optimization options are:\n",
            "enabled                : True\n",
            "opt_level              : O1\n",
            "cast_model_type        : None\n",
            "patch_torch_functions  : True\n",
            "keep_batchnorm_fp32    : None\n",
            "master_weights         : None\n",
            "loss_scale             : dynamic\n"
          ],
          "name": "stdout"
        }
      ]
    },
    {
      "cell_type": "code",
      "metadata": {
        "colab_type": "code",
        "id": "3SGP1PteDxdv",
        "colab": {}
      },
      "source": [
        "def train_epoch(model, trainset_loader, loss_func, optimizer, epoch_id):\n",
        "    model.train()\n",
        "    train_loss = 0\n",
        "    for step, (imgs, boxes, labels,_) in enumerate(trainset_loader):\n",
        "        # move input data to GPU\n",
        "        imgs = imgs.to(device)\n",
        "        boxes = [b.to(device) for b in boxes]\n",
        "        labels = [l.to(device) for l in labels]\n",
        "        \n",
        "        # forward\n",
        "        predicted_offsets, predicted_scores = model(imgs)\n",
        "        loss = loss_func(predicted_offsets, predicted_scores, boxes, labels)\n",
        "        \n",
        "        # backward & optimize\n",
        "        optimizer.zero_grad()\n",
        "        loss.backward()\n",
        "        #with amp.scale_loss(loss, optimizer) as scaled_loss:\n",
        "        #    scaled_loss.backward()\n",
        "        optimizer.step()\n",
        "\n",
        "        if epoch_id == 1 and step % 100 == 0:\n",
        "            print(f'Epoch 1 - step {step}: train_loss: {loss.item()/trainset_loader.batch_size:.4f}')\n",
        "        \n",
        "        train_loss += loss.item()\n",
        "        \n",
        "    return train_loss/len(trainset)\n",
        "\n",
        "def eval_epoch(model, valset_loader, loss_func):\n",
        "    '''\n",
        "    '''\n",
        "    model.eval()\n",
        "    val_loss = 0\n",
        "    with torch.no_grad():\n",
        "        for step, (imgs, boxes, labels,_) in enumerate(valset_loader):\n",
        "            # move input data to GPU\n",
        "            imgs = imgs.to(device)\n",
        "            boxes = [b.to(device) for b in boxes]\n",
        "            labels = [l.to(device) for l in labels]\n",
        "            \n",
        "            predicted_offsets, predicted_scores = model(imgs)\n",
        "            loss = loss_func(predicted_offsets, predicted_scores, boxes, labels)\n",
        "            val_loss += loss.item()\n",
        "\n",
        "    return val_loss/len(valset)\n",
        "\n",
        "\n",
        "def train_model(model, dataloaders, optimizer, exp_lr_scheduler, loss_func, epoch=1):\n",
        "    train_loss_hist, val_loss_hist = [], []\n",
        "    for i in range(1,epoch+1):\n",
        "        start_time = time.time()\n",
        "        train_loss = train_epoch(model, dataloaders['train'], loss_func, optimizer, i)\n",
        "        exp_lr_scheduler.step()\n",
        "        training_time = round(time.time() - start_time)\n",
        "        \n",
        "        # save_checkpoint(epoch, model, optimizer) #every 3 epoch\n",
        "        if i % 3 == 0:\n",
        "            start_time = time.time()\n",
        "            torch.save({'epoch': i, \n",
        "                        'model': model.state_dict(), \n",
        "                        'optimizer': optimizer.state_dict(), \n",
        "                        #'amp': amp.state_dict()\n",
        "                       }, checkpoint_path)\n",
        "            print(f'Epoch {i} - Model saved at checkpoint_path | Time consumed: {round(time.time()-start_time)}s')\n",
        "        \n",
        "        start_time = time.time()\n",
        "        val_loss = eval_epoch(model, dataloaders['val'], loss_func)\n",
        "        val_time = round(time.time() - start_time)\n",
        "        \n",
        "        train_loss_hist.append(train_loss)\n",
        "        val_loss_hist.append(val_loss)\n",
        "        \n",
        "        print(f'Epoch {i} - train/val_time: {training_time}s | {val_time}s - train_loss: {train_loss:.4f} - val_loss: {val_loss:.4f}')\n",
        "        \n",
        "    return train_loss_hist, val_loss_hist"
      ],
      "execution_count": null,
      "outputs": []
    },
    {
      "cell_type": "code",
      "metadata": {
        "colab_type": "code",
        "id": "2vY_0FEADxd0",
        "colab": {
          "base_uri": "https://localhost:8080/",
          "height": 1000
        },
        "outputId": "c4c4ec8e-c7a5-43f4-b53c-c4be4c7aab20"
      },
      "source": [
        "train_loss_hist, val_loss_hist = train_model(MySSD300, dataloaders, optimizer, exp_lr_scheduler, loss_func, epoch=30)"
      ],
      "execution_count": null,
      "outputs": [
        {
          "output_type": "stream",
          "text": [
            "Gradient overflow.  Skipping step, loss scaler 0 reducing loss scale to 32768.0\n",
            "Epoch 1 - step 0: train_loss: 2.9408\n",
            "Gradient overflow.  Skipping step, loss scaler 0 reducing loss scale to 16384.0\n",
            "Gradient overflow.  Skipping step, loss scaler 0 reducing loss scale to 8192.0\n",
            "Gradient overflow.  Skipping step, loss scaler 0 reducing loss scale to 4096.0\n",
            "Epoch 1 - step 100: train_loss: 0.3721\n",
            "Epoch 1 - step 200: train_loss: 0.3657\n",
            "Epoch 1 - step 300: train_loss: 0.3943\n",
            "Epoch 1 - step 400: train_loss: 0.3530\n",
            "Epoch 1 - step 500: train_loss: 0.3488\n",
            "Epoch 1 - step 600: train_loss: 0.3269\n",
            "Epoch 1 - step 700: train_loss: 0.3676\n",
            "Epoch 1 - step 800: train_loss: 0.3516\n",
            "Epoch 1 - step 900: train_loss: 0.3488\n",
            "Epoch 1 - step 1000: train_loss: 0.3194\n"
          ],
          "name": "stdout"
        },
        {
          "output_type": "stream",
          "text": [
            "/usr/local/lib/python3.6/dist-packages/torch/optim/lr_scheduler.py:114: UserWarning: Seems like `optimizer.step()` has been overridden after learning rate scheduler initialization. Please, make sure to call `optimizer.step()` before `lr_scheduler.step()`. See more details at https://pytorch.org/docs/stable/optim.html#how-to-adjust-learning-rate\n",
            "  \"https://pytorch.org/docs/stable/optim.html#how-to-adjust-learning-rate\", UserWarning)\n"
          ],
          "name": "stderr"
        },
        {
          "output_type": "stream",
          "text": [
            "Epoch 1 - train/val_time: 620s | 47s - train_loss: 0.3729 - val_loss: 0.0856\n",
            "Epoch 2 - train/val_time: 599s | 46s - train_loss: 0.3356 - val_loss: 0.0841\n",
            "Epoch 3 - Model saved at checkpoint_path | Time consumed: 1s\n",
            "Epoch 3 - train/val_time: 604s | 46s - train_loss: 0.3235 - val_loss: 0.0810\n",
            "Epoch 4 - train/val_time: 597s | 46s - train_loss: 0.3119 - val_loss: 0.0789\n",
            "Epoch 5 - train/val_time: 595s | 45s - train_loss: 0.3020 - val_loss: 0.0740\n",
            "Epoch 6 - Model saved at checkpoint_path | Time consumed: 1s\n",
            "Epoch 6 - train/val_time: 592s | 46s - train_loss: 0.2937 - val_loss: 0.0731\n",
            "Epoch 7 - train/val_time: 621s | 49s - train_loss: 0.2863 - val_loss: 0.0728\n",
            "Gradient overflow.  Skipping step, loss scaler 0 reducing loss scale to 32768.0\n",
            "Gradient overflow.  Skipping step, loss scaler 0 reducing loss scale to 16384.0\n",
            "Epoch 8 - train/val_time: 657s | 49s - train_loss: 0.2809 - val_loss: 0.0723\n",
            "Epoch 9 - Model saved at checkpoint_path | Time consumed: 2s\n",
            "Epoch 9 - train/val_time: 658s | 50s - train_loss: 0.2760 - val_loss: 0.0706\n",
            "Epoch 10 - train/val_time: 654s | 50s - train_loss: 0.2715 - val_loss: 0.0672\n",
            "Epoch 11 - train/val_time: 661s | 49s - train_loss: 0.2697 - val_loss: 0.0675\n",
            "Gradient overflow.  Skipping step, loss scaler 0 reducing loss scale to 32768.0\n",
            "Epoch 12 - Model saved at checkpoint_path | Time consumed: 2s\n",
            "Epoch 12 - train/val_time: 661s | 50s - train_loss: 0.2659 - val_loss: 0.0657\n",
            "Epoch 13 - train/val_time: 659s | 49s - train_loss: 0.2642 - val_loss: 0.0655\n",
            "Gradient overflow.  Skipping step, loss scaler 0 reducing loss scale to 32768.0\n",
            "Epoch 14 - train/val_time: 657s | 49s - train_loss: 0.2607 - val_loss: 0.0651\n",
            "Epoch 15 - Model saved at checkpoint_path | Time consumed: 2s\n",
            "Epoch 15 - train/val_time: 658s | 50s - train_loss: 0.2593 - val_loss: 0.0639\n",
            "Gradient overflow.  Skipping step, loss scaler 0 reducing loss scale to 32768.0\n",
            "Epoch 16 - train/val_time: 674s | 49s - train_loss: 0.2571 - val_loss: 0.0652\n",
            "Epoch 17 - train/val_time: 662s | 49s - train_loss: 0.2547 - val_loss: 0.0643\n",
            "Gradient overflow.  Skipping step, loss scaler 0 reducing loss scale to 32768.0\n",
            "Epoch 18 - Model saved at checkpoint_path | Time consumed: 2s\n",
            "Epoch 18 - train/val_time: 662s | 50s - train_loss: 0.2530 - val_loss: 0.0634\n",
            "Epoch 19 - train/val_time: 634s | 46s - train_loss: 0.2503 - val_loss: 0.0641\n",
            "Gradient overflow.  Skipping step, loss scaler 0 reducing loss scale to 32768.0\n",
            "Gradient overflow.  Skipping step, loss scaler 0 reducing loss scale to 16384.0\n",
            "Epoch 20 - train/val_time: 603s | 46s - train_loss: 0.2487 - val_loss: 0.0644\n",
            "Epoch 21 - Model saved at checkpoint_path | Time consumed: 1s\n",
            "Epoch 21 - train/val_time: 607s | 46s - train_loss: 0.2476 - val_loss: 0.0634\n",
            "Gradient overflow.  Skipping step, loss scaler 0 reducing loss scale to 16384.0\n",
            "Epoch 22 - train/val_time: 598s | 45s - train_loss: 0.2462 - val_loss: 0.0621\n",
            "Epoch 23 - train/val_time: 600s | 46s - train_loss: 0.2449 - val_loss: 0.0613\n",
            "Gradient overflow.  Skipping step, loss scaler 0 reducing loss scale to 16384.0\n",
            "Epoch 24 - Model saved at checkpoint_path | Time consumed: 1s\n",
            "Epoch 24 - train/val_time: 618s | 47s - train_loss: 0.2434 - val_loss: 0.0609\n",
            "Epoch 25 - train/val_time: 623s | 47s - train_loss: 0.2428 - val_loss: 0.0609\n",
            "Epoch 26 - train/val_time: 632s | 47s - train_loss: 0.2402 - val_loss: 0.0607\n",
            "Epoch 27 - Model saved at checkpoint_path | Time consumed: 1s\n",
            "Epoch 27 - train/val_time: 639s | 48s - train_loss: 0.2394 - val_loss: 0.0629\n",
            "Gradient overflow.  Skipping step, loss scaler 0 reducing loss scale to 32768.0\n",
            "Epoch 28 - train/val_time: 647s | 49s - train_loss: 0.2384 - val_loss: 0.0610\n",
            "Epoch 29 - train/val_time: 646s | 49s - train_loss: 0.2375 - val_loss: 0.0594\n",
            "Gradient overflow.  Skipping step, loss scaler 0 reducing loss scale to 32768.0\n",
            "Gradient overflow.  Skipping step, loss scaler 0 reducing loss scale to 16384.0\n",
            "Epoch 30 - Model saved at checkpoint_path | Time consumed: 2s\n",
            "Epoch 30 - train/val_time: 641s | 48s - train_loss: 0.2365 - val_loss: 0.0597\n"
          ],
          "name": "stdout"
        }
      ]
    },
    {
      "cell_type": "code",
      "metadata": {
        "id": "OYUFDZmKMSZc",
        "colab_type": "code",
        "colab": {}
      },
      "source": [
        ""
      ],
      "execution_count": null,
      "outputs": []
    },
    {
      "cell_type": "code",
      "metadata": {
        "id": "yLahWE9nMSZg",
        "colab_type": "code",
        "colab": {}
      },
      "source": [
        ""
      ],
      "execution_count": null,
      "outputs": []
    },
    {
      "cell_type": "code",
      "metadata": {
        "id": "cSMYFtHaMSZl",
        "colab_type": "code",
        "colab": {}
      },
      "source": [
        ""
      ],
      "execution_count": null,
      "outputs": []
    },
    {
      "cell_type": "markdown",
      "metadata": {
        "id": "rDrJxbWwMSZo",
        "colab_type": "text"
      },
      "source": [
        "## Evaluate"
      ]
    },
    {
      "cell_type": "code",
      "metadata": {
        "id": "4VF5t9KrMSZp",
        "colab_type": "code",
        "colab": {}
      },
      "source": [
        "def eval_epoch(model, valset_loader, loss_func):\n",
        "    '''\n",
        "    '''\n",
        "    model.eval()\n",
        "    val_loss = 0\n",
        "    \n",
        "    detected_boxes = list()\n",
        "    detected_labels = list()\n",
        "    detected_scores = list()\n",
        "    true_boxes = list()\n",
        "    true_labels = list()\n",
        "    true_diffs = list()\n",
        "    \n",
        "    with torch.no_grad():\n",
        "        for step, (imgs, boxes, labels, diffs) in enumerate(valset_loader):\n",
        "            # move input data to GPU\n",
        "            imgs = imgs.to(device)\n",
        "            boxes = [b.to(device) for b in boxes]\n",
        "            labels = [l.to(device) for l in labels]\n",
        "            diffs = [d.to(device) for d in diffs]\n",
        "\n",
        "            # detect objects\n",
        "            predicted_offsets, predicted_scores = model(imgs)\n",
        "            batch_det_boxes, batch_det_labels, batch_det_scores = model.detect_objects(predicted_offsets, predicted_scores,\n",
        "                                                                                       score_threshold=0.01, iou_threshold=0.5)\n",
        "            # calculate val loss\n",
        "            loss = loss_func(predicted_offsets, predicted_scores, boxes, labels)\n",
        "            val_loss += loss.item()\n",
        "\n",
        "            detected_boxes.extend(batch_det_boxes)\n",
        "            detected_labels.extend(batch_det_labels)\n",
        "            detected_scores.extend(batch_det_scores)\n",
        "            true_boxes.extend(boxes)\n",
        "            true_labels.extend(labels)\n",
        "            true_diffs.extend(diffs)\n",
        "\n",
        "        # calculate metrics value\n",
        "        APs, mAP = calculate_mAP(detected_boxes, detected_labels, detected_scores, true_boxes, true_labels, true_diffs)\n",
        "        val_loss = val_loss/len(valset)\n",
        "    \n",
        "    return val_loss, APs, mAP"
      ],
      "execution_count": null,
      "outputs": []
    },
    {
      "cell_type": "code",
      "metadata": {
        "id": "4TTeqqgQMSZt",
        "colab_type": "code",
        "colab": {}
      },
      "source": [
        "def eval_model_performance(model, valset_loader):\n",
        "    ''' This take into account all objects, including difficult ones\n",
        "    '''\n",
        "    model.eval()\n",
        "    detected_boxes = list()\n",
        "    detected_labels = list()\n",
        "    detected_scores = list()\n",
        "    true_boxes = list()\n",
        "    true_labels = list()\n",
        "    #true_diffs = list()\n",
        "    \n",
        "    start_time = time.time()\n",
        "    with torch.no_grad():\n",
        "        for step, (imgs, boxes, labels, diffs) in enumerate(valset_loader):\n",
        "            # move input data to GPU\n",
        "            imgs = imgs.to(device)\n",
        "            boxes = [b.to(device) for b in boxes]\n",
        "            labels = [l.to(device) for l in labels]\n",
        "            #diffs = [d.to(device) for d in diffs]\n",
        "\n",
        "            # detect objects\n",
        "            predicted_offsets, predicted_scores = model(imgs)\n",
        "            batch_det_boxes, batch_det_labels, batch_det_scores = model.detect_objects(predicted_offsets, predicted_scores,\n",
        "                                                                                       score_threshold=0.01, iou_threshold=0.5)\n",
        "            detected_boxes.extend(batch_det_boxes)\n",
        "            detected_labels.extend(batch_det_labels)\n",
        "            detected_scores.extend(batch_det_scores)\n",
        "            true_boxes.extend(boxes)\n",
        "            true_labels.extend(labels)\n",
        "            #true_diffs.extend(diffs)\n",
        "\n",
        "        # calculate metrics value\n",
        "        APs, mAP = calculate_mAP(detected_boxes, detected_labels, detected_scores, true_boxes, true_labels)\n",
        "    \n",
        "    return APs, mAP"
      ],
      "execution_count": null,
      "outputs": []
    },
    {
      "cell_type": "code",
      "metadata": {
        "id": "KpgOds2dMSZx",
        "colab_type": "code",
        "colab": {}
      },
      "source": [
        "APs, mAP = eval_model_performance(MySSD300, dataloaders['val'])"
      ],
      "execution_count": null,
      "outputs": []
    },
    {
      "cell_type": "code",
      "metadata": {
        "id": "Oh50QZKc7lLE",
        "colab_type": "code",
        "colab": {
          "base_uri": "https://localhost:8080/",
          "height": 353
        },
        "outputId": "dd53d551-03cc-4bc9-fbb4-9ae48f6fd544"
      },
      "source": [
        "APs"
      ],
      "execution_count": null,
      "outputs": [
        {
          "output_type": "execute_result",
          "data": {
            "text/plain": [
              "{'aeroplane': 0.3414236009120941,\n",
              " 'bicycle': 0.09090909361839294,\n",
              " 'bird': 0.09090909361839294,\n",
              " 'boat': 0.09090909361839294,\n",
              " 'bottle': 0.0,\n",
              " 'bus': 0.3882625997066498,\n",
              " 'car': 0.32834258675575256,\n",
              " 'cat': 0.29180702567100525,\n",
              " 'chair': 0.04545454680919647,\n",
              " 'cow': 0.04545454680919647,\n",
              " 'diningtable': 0.07070707529783249,\n",
              " 'dog': 0.24327227473258972,\n",
              " 'horse': 0.234884575009346,\n",
              " 'motorbike': 0.30315008759498596,\n",
              " 'person': 0.24644705653190613,\n",
              " 'pottedplant': 0.0,\n",
              " 'sheep': 0.09090909361839294,\n",
              " 'sofa': 0.09090909361839294,\n",
              " 'train': 0.14462809264659882,\n",
              " 'tvmonitor': 0.09090909361839294}"
            ]
          },
          "metadata": {
            "tags": []
          },
          "execution_count": 33
        }
      ]
    },
    {
      "cell_type": "code",
      "metadata": {
        "id": "IxWh2o1J7mR2",
        "colab_type": "code",
        "colab": {
          "base_uri": "https://localhost:8080/",
          "height": 34
        },
        "outputId": "6de518af-6254-4239-b64e-238715ab5e81"
      },
      "source": [
        "mAP"
      ],
      "execution_count": null,
      "outputs": [
        {
          "output_type": "execute_result",
          "data": {
            "text/plain": [
              "0.16146442294120789"
            ]
          },
          "metadata": {
            "tags": []
          },
          "execution_count": 34
        }
      ]
    },
    {
      "cell_type": "code",
      "metadata": {
        "id": "-CKH1BA5A_JP",
        "colab_type": "code",
        "colab": {}
      },
      "source": [
        ""
      ],
      "execution_count": null,
      "outputs": []
    }
  ]
}