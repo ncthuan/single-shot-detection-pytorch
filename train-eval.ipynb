{
  "nbformat": 4,
  "nbformat_minor": 0,
  "metadata": {
    "accelerator": "GPU",
    "colab": {
      "name": "train-eval.ipynb",
      "provenance": [],
      "toc_visible": true
    },
    "kernelspec": {
      "display_name": "Python 3",
      "language": "python",
      "name": "python3"
    },
    "language_info": {
      "codemirror_mode": {
        "name": "ipython",
        "version": 3
      },
      "file_extension": ".py",
      "mimetype": "text/x-python",
      "name": "python",
      "nbconvert_exporter": "python",
      "pygments_lexer": "ipython3",
      "version": "3.7.6"
    }
  },
  "cells": [
    {
      "cell_type": "code",
      "metadata": {
        "colab_type": "code",
        "id": "CdAAl4Q3g_Ab",
        "colab": {
          "base_uri": "https://localhost:8080/",
          "height": 353
        },
        "outputId": "5d5ed46f-de1c-41ce-dfe2-aa581907d98f"
      },
      "source": [
        "!nvidia-smi"
      ],
      "execution_count": null,
      "outputs": [
        {
          "output_type": "stream",
          "text": [
            "Tue Aug 11 04:02:27 2020       \n",
            "+-----------------------------------------------------------------------------+\n",
            "| NVIDIA-SMI 450.57       Driver Version: 418.67       CUDA Version: 10.1     |\n",
            "|-------------------------------+----------------------+----------------------+\n",
            "| GPU  Name        Persistence-M| Bus-Id        Disp.A | Volatile Uncorr. ECC |\n",
            "| Fan  Temp  Perf  Pwr:Usage/Cap|         Memory-Usage | GPU-Util  Compute M. |\n",
            "|                               |                      |               MIG M. |\n",
            "|===============================+======================+======================|\n",
            "|   0  Tesla T4            Off  | 00000000:00:04.0 Off |                    0 |\n",
            "| N/A   45C    P8    10W /  70W |      0MiB / 15079MiB |      0%      Default |\n",
            "|                               |                      |                 ERR! |\n",
            "+-------------------------------+----------------------+----------------------+\n",
            "                                                                               \n",
            "+-----------------------------------------------------------------------------+\n",
            "| Processes:                                                                  |\n",
            "|  GPU   GI   CI        PID   Type   Process name                  GPU Memory |\n",
            "|        ID   ID                                                   Usage      |\n",
            "|=============================================================================|\n",
            "|  No running processes found                                                 |\n",
            "+-----------------------------------------------------------------------------+\n"
          ],
          "name": "stdout"
        }
      ]
    },
    {
      "cell_type": "code",
      "metadata": {
        "colab_type": "code",
        "id": "PRWNJyRtDxc9",
        "colab": {}
      },
      "source": [
        "#!git clone https://github.com/NVIDIA/apex /apex\n",
        "#!pip install -v --no-cache-dir --global-option=\"--cpp_ext\" --global-option=\"--cuda_ext\" /apex/."
      ],
      "execution_count": null,
      "outputs": []
    },
    {
      "cell_type": "code",
      "metadata": {
        "colab_type": "code",
        "id": "AbYDWNHqDxdD",
        "colab": {
          "base_uri": "https://localhost:8080/",
          "height": 138
        },
        "outputId": "00198501-4c40-4e3a-ce37-b556b8403b78"
      },
      "source": [
        "from google.colab import drive\n",
        "drive.mount('/content/gdrive')\n",
        "!ls \"/content/gdrive/My Drive/lab/SSD/\"\n",
        "gdrive_dir = \"/content/gdrive/My Drive/lab/SSD/\""
      ],
      "execution_count": 2,
      "outputs": [
        {
          "output_type": "stream",
          "text": [
            "Go to this URL in a browser: https://accounts.google.com/o/oauth2/auth?client_id=947318989803-6bn6qk8qdgf4n4g3pfee6491hc0brc4i.apps.googleusercontent.com&redirect_uri=urn%3aietf%3awg%3aoauth%3a2.0%3aoob&scope=email%20https%3a%2f%2fwww.googleapis.com%2fauth%2fdocs.test%20https%3a%2f%2fwww.googleapis.com%2fauth%2fdrive%20https%3a%2f%2fwww.googleapis.com%2fauth%2fdrive.photos.readonly%20https%3a%2f%2fwww.googleapis.com%2fauth%2fpeopleapi.readonly&response_type=code\n",
            "\n",
            "Enter your authorization code:\n",
            "··········\n",
            "Mounted at /content/gdrive\n",
            "datasets  models  test.zip  train-eval.ipynb  trainval.zip\n"
          ],
          "name": "stdout"
        }
      ]
    },
    {
      "cell_type": "code",
      "metadata": {
        "colab_type": "code",
        "id": "I0_DA3T4DxdK",
        "colab": {
          "base_uri": "https://localhost:8080/",
          "height": 185
        },
        "outputId": "444a4eb1-c8c5-4cdd-a501-b29759f1c833"
      },
      "source": [
        "!unzip -q \"/content/gdrive/My Drive/lab/SSD/trainval.zip\" -d \"/content\"\n",
        "!git clone https://github.com/ncthuan/single-shot-detection-pytorch\n",
        "!cp single-shot-detection-pytorch/*.py .\n",
        "!pip install albumentations==0.4.6 -q"
      ],
      "execution_count": 3,
      "outputs": [
        {
          "output_type": "stream",
          "text": [
            "Cloning into 'single-shot-detection-pytorch'...\n",
            "remote: Enumerating objects: 122, done.\u001b[K\n",
            "remote: Counting objects: 100% (122/122), done.\u001b[K\n",
            "remote: Compressing objects: 100% (87/87), done.\u001b[K\n",
            "remote: Total 122 (delta 71), reused 80 (delta 33), pack-reused 0\u001b[K\n",
            "Receiving objects: 100% (122/122), 81.42 KiB | 473.00 KiB/s, done.\n",
            "Resolving deltas: 100% (71/71), done.\n",
            "\u001b[K     |████████████████████████████████| 122kB 2.8MB/s \n",
            "\u001b[K     |████████████████████████████████| 952kB 8.2MB/s \n",
            "\u001b[?25h  Building wheel for albumentations (setup.py) ... \u001b[?25l\u001b[?25hdone\n"
          ],
          "name": "stdout"
        }
      ]
    },
    {
      "cell_type": "code",
      "metadata": {
        "colab_type": "code",
        "id": "FM286mawDxdQ",
        "colab": {
          "base_uri": "https://localhost:8080/",
          "height": 70
        },
        "outputId": "a0df9b04-5d19-4ef9-c58b-745425b76237"
      },
      "source": [
        "import os\n",
        "import time\n",
        "import torch\n",
        "import torch.cuda as cuda\n",
        "import seaborn as sns\n",
        "import numpy as np\n",
        "from torch.utils.data import DataLoader, random_split\n",
        "from dataset import VOCDataset, collate_fn\n",
        "from model import SSD300\n",
        "from loss import MultiBoxLoss\n",
        "from utils import create_data_lists, clip_gradient, save_checkpoint\n",
        "from eval_detection_voc import eval_detection_voc"
      ],
      "execution_count": 4,
      "outputs": [
        {
          "output_type": "stream",
          "text": [
            "/usr/local/lib/python3.6/dist-packages/statsmodels/tools/_testing.py:19: FutureWarning: pandas.util.testing is deprecated. Use the functions in the public API at pandas.testing instead.\n",
            "  import pandas.util.testing as tm\n"
          ],
          "name": "stderr"
        }
      ]
    },
    {
      "cell_type": "code",
      "metadata": {
        "colab_type": "code",
        "id": "q-ZAhMWoDxdV",
        "colab": {}
      },
      "source": [
        "#from apex import amp"
      ],
      "execution_count": null,
      "outputs": []
    },
    {
      "cell_type": "markdown",
      "metadata": {
        "colab_type": "text",
        "id": "KqWYYcDRDxdb"
      },
      "source": [
        "## Load dataset"
      ]
    },
    {
      "cell_type": "code",
      "metadata": {
        "colab_type": "code",
        "id": "IvpCjiaTSB-b",
        "colab": {},
        "outputId": "c0f89da7-5326-43a9-a2d9-d274888e4b81"
      },
      "source": [
        "from utils import create_data_lists\n",
        "voc07_path = os.path.join('datasets/', 'VOC2007/')\n",
        "voc12_path = os.path.join('datasets/', 'VOC2012/')\n",
        "create_data_lists(voc07_path, voc12_path, output_folder='datasets/')"
      ],
      "execution_count": null,
      "outputs": [
        {
          "output_type": "stream",
          "text": [
            "\n",
            "There are 17202 training images. Files have been saved to output_folder: datasets/.\n",
            "\n",
            "There are 4301 validation images. Files have been saved to output_folder: datasets/.\n"
          ],
          "name": "stdout"
        }
      ]
    },
    {
      "cell_type": "code",
      "metadata": {
        "colab_type": "code",
        "id": "TrfITEcmSB-h",
        "colab": {
          "base_uri": "https://localhost:8080/",
          "height": 50
        },
        "outputId": "2647cb4e-8132-469c-e0d4-5e20f9cf7ffd"
      },
      "source": [
        "!ls datasets/"
      ],
      "execution_count": null,
      "outputs": [
        {
          "output_type": "stream",
          "text": [
            "label_map.json\t   TRAIN_objects.json  VAL_objects.json  VOC2012\n",
            "TRAIN_images.json  VAL_images.json     VOC2007\n"
          ],
          "name": "stdout"
        }
      ]
    },
    {
      "cell_type": "code",
      "metadata": {
        "colab_type": "code",
        "id": "LMId7L0MSB-n",
        "colab": {}
      },
      "source": [
        "torch.manual_seed(42)\n",
        "trainset = VOCDataset(data_folder='datasets/', json_files=('TRAIN_images.json', 'TRAIN_objects.json'), augment=True)\n",
        "valset = VOCDataset(data_folder='datasets/', json_files=('VAL_images.json', 'VAL_objects.json'))\n",
        "\n",
        "dataloaders = dict(\n",
        "    train = DataLoader(trainset, batch_size=32, collate_fn=collate_fn, shuffle=True, num_workers=4),\n",
        "    val = DataLoader(valset, batch_size=64, collate_fn=collate_fn, shuffle=False, num_workers=4),\n",
        ")"
      ],
      "execution_count": 5,
      "outputs": []
    },
    {
      "cell_type": "markdown",
      "metadata": {
        "colab_type": "text",
        "id": "Dy-WByyqSB-t"
      },
      "source": [
        "## EDA"
      ]
    },
    {
      "cell_type": "code",
      "metadata": {
        "colab_type": "code",
        "id": "wzIXbWBoSB-u",
        "colab": {}
      },
      "source": [
        "def visualize_objects_stat(dataset):\n",
        "    targets = dataset.targets\n",
        "    objects = list()\n",
        "    for target in targets:\n",
        "        objects.extend(target['labels'])\n",
        "    print('Total number of annotated objects:', len(objects))\n",
        "    sns.countplot(objects)"
      ],
      "execution_count": null,
      "outputs": []
    },
    {
      "cell_type": "code",
      "metadata": {
        "colab_type": "code",
        "id": "r-Fy3-_hSB-z",
        "colab": {},
        "outputId": "d3779fd0-3ff8-4030-b8d9-e8fd951e9a89"
      },
      "source": [
        "label_map"
      ],
      "execution_count": null,
      "outputs": [
        {
          "output_type": "execute_result",
          "data": {
            "text/plain": [
              "{'aeroplane': 1,\n",
              " 'bicycle': 2,\n",
              " 'bird': 3,\n",
              " 'boat': 4,\n",
              " 'bottle': 5,\n",
              " 'bus': 6,\n",
              " 'car': 7,\n",
              " 'cat': 8,\n",
              " 'chair': 9,\n",
              " 'cow': 10,\n",
              " 'diningtable': 11,\n",
              " 'dog': 12,\n",
              " 'horse': 13,\n",
              " 'motorbike': 14,\n",
              " 'person': 15,\n",
              " 'pottedplant': 16,\n",
              " 'sheep': 17,\n",
              " 'sofa': 18,\n",
              " 'train': 19,\n",
              " 'tvmonitor': 20,\n",
              " 'background': 0}"
            ]
          },
          "metadata": {
            "tags": []
          },
          "execution_count": 4
        }
      ]
    },
    {
      "cell_type": "code",
      "metadata": {
        "colab_type": "code",
        "id": "57SLJUUaSB-6",
        "colab": {},
        "outputId": "d9945b82-8190-4798-b637-cfd9f862e302"
      },
      "source": [
        "visualize_objects_stat(trainset)"
      ],
      "execution_count": null,
      "outputs": [
        {
          "output_type": "stream",
          "text": [
            "Total number of annotated objects: 49949\n"
          ],
          "name": "stdout"
        },
        {
          "output_type": "display_data",
          "data": {
            "image/png": "[encoded data removed]",
            "text/plain": [
              "<Figure size 432x288 with 1 Axes>"
            ]
          },
          "metadata": {
            "tags": [],
            "needs_background": "light"
          }
        }
      ]
    },
    {
      "cell_type": "code",
      "metadata": {
        "colab_type": "code",
        "id": "_Y4pAM55SB-_",
        "colab": {},
        "outputId": "5851fdaa-4da6-48af-a9bc-20ed444d2dd2"
      },
      "source": [
        "visualize_objects_stat(valset)"
      ],
      "execution_count": null,
      "outputs": [
        {
          "output_type": "stream",
          "text": [
            "Total number of annotated objects: 12250\n"
          ],
          "name": "stdout"
        },
        {
          "output_type": "display_data",
          "data": {
            "image/png": "[encoded data removed]",
            "text/plain": [
              "<Figure size 432x288 with 1 Axes>"
            ]
          },
          "metadata": {
            "tags": [],
            "needs_background": "light"
          }
        }
      ]
    },
    {
      "cell_type": "markdown",
      "metadata": {
        "colab_type": "text",
        "id": "8WUVt5FvDxdo"
      },
      "source": [
        "## Train model"
      ]
    },
    {
      "cell_type": "code",
      "metadata": {
        "colab_type": "code",
        "id": "W6wmuEoODxdq",
        "colab": {}
      },
      "source": [
        "device = torch.device(\"cuda\" if cuda.is_available() else \"cpu\") \n",
        "\n",
        "checkpoint_path = gdrive_dir+'models/checkpoint_ssd300.pt'\n",
        "checkpoint = torch.load(checkpoint_path)\n",
        "vgg16_dir = 'models/'\n",
        "\n",
        "MySSD300 = SSD300(n_classes=21, vgg16_dir=vgg16_dir, checkpoint=checkpoint).to(device)\n",
        "\n",
        "loss_func = MultiBoxLoss(priors_cxcy=MySSD300.get_prior_boxes(), threshold=0.5, neg_pos_ratio=3, alpha=1.)\n",
        "\n",
        "optimizer = torch.optim.Adam(MySSD300.parameters(), lr=1e-3, weight_decay=5e-4)\n",
        "\n",
        "exp_lr_scheduler = torch.optim.lr_scheduler.ExponentialLR(optimizer, gamma=0.99, last_epoch=-1)\n",
        "\n",
        "grad_clip = None\n",
        "\n",
        "# Mixed precision\n",
        "#MySSD300, optimizer = amp.initialize(MySSD300, optimizer, opt_level='O1')\n",
        "#if checkpoint: amp.load_state_dict(checkpoint['amp'])"
      ],
      "execution_count": 6,
      "outputs": []
    },
    {
      "cell_type": "code",
      "metadata": {
        "colab_type": "code",
        "id": "3SGP1PteDxdv",
        "colab": {}
      },
      "source": [
        "def train_epoch(model, trainset_loader, loss_func, optimizer, epoch_id):\n",
        "    model.train()\n",
        "    train_loss = 0\n",
        "    for step, (imgs, boxes, labels,_) in enumerate(trainset_loader):\n",
        "        # move input data to GPU\n",
        "        imgs = imgs.to(device)\n",
        "        boxes = [b.to(device) for b in boxes]\n",
        "        labels = [l.to(device) for l in labels]\n",
        "        \n",
        "        # forward\n",
        "        predicted_offsets, predicted_scores = model(imgs)\n",
        "        loss = loss_func(predicted_offsets, predicted_scores, boxes, labels)\n",
        "        \n",
        "        # backward & optimize\n",
        "        optimizer.zero_grad()\n",
        "        loss.backward()\n",
        "        #with amp.scale_loss(loss, optimizer) as scaled_loss:\n",
        "        #    scaled_loss.backward()\n",
        "        optimizer.step()\n",
        "\n",
        "        if epoch_id == 1 and step % 100 == 0:\n",
        "            print(f'Epoch 1 - step {step}: train_loss: {loss.item()/trainset_loader.batch_size:.4f}')\n",
        "        \n",
        "        train_loss += loss.item()\n",
        "        \n",
        "    return train_loss/len(trainset_loader)\n",
        "\n",
        "def eval_epoch(model, valset_loader, loss_func):\n",
        "    model.eval()\n",
        "    val_loss = 0\n",
        "    with torch.no_grad():\n",
        "        for step, (imgs, boxes, labels,_) in enumerate(valset_loader):\n",
        "            imgs = imgs.to(device)\n",
        "            boxes = [b.to(device) for b in boxes]\n",
        "            labels = [l.to(device) for l in labels]\n",
        "            \n",
        "            predicted_offsets, predicted_scores = model(imgs)\n",
        "            loss = loss_func(predicted_offsets, predicted_scores, boxes, labels)\n",
        "            val_loss += loss.item()\n",
        "\n",
        "    return val_loss/len(valset_loader)\n",
        "\n",
        "\n",
        "def train_model(model, dataloaders, optimizer, exp_lr_scheduler, loss_func, n_epoch=1, checkpoint=None):\n",
        "    last_epoch = 0\n",
        "    if checkpoint:\n",
        "        last_epoch = checkpoint['epoch']\n",
        "        optimizer.load_state_dict(checkpoint['optimizer'].state_dict())\n",
        "        exp_lr_scheduler = torch.optim.lr_scheduler.ExponentialLR(optimizer, gamma=0.99, last_epoch=last_epoch)\n",
        "\n",
        "    train_loss_hist, val_loss_hist = [], []\n",
        "    for i in range(last_epoch+1, last_epoch+n_epoch+1):\n",
        "        start_time = time.time()\n",
        "        train_loss = train_epoch(model, dataloaders['train'], loss_func, optimizer, i)\n",
        "        exp_lr_scheduler.step()\n",
        "        training_time = round(time.time() - start_time)\n",
        "        \n",
        "        save_checkpoint(i, model, optimizer, checkpoint_path)\n",
        "        \n",
        "        start_time = time.time()\n",
        "        val_loss = eval_epoch(model, dataloaders['val'], loss_func)\n",
        "        val_time = round(time.time() - start_time)\n",
        "        \n",
        "        train_loss_hist.append(train_loss)\n",
        "        val_loss_hist.append(val_loss)\n",
        "        \n",
        "        print(f'Epoch {i} - train/val_time: {training_time}s | {val_time}s - train_loss: {train_loss:.4f} - val_loss: {val_loss:.4f}')\n",
        "        \n",
        "    return train_loss_hist, val_loss_hist"
      ],
      "execution_count": 7,
      "outputs": []
    },
    {
      "cell_type": "code",
      "metadata": {
        "colab_type": "code",
        "id": "2vY_0FEADxd0",
        "colab": {
          "base_uri": "https://localhost:8080/",
          "height": 706
        },
        "outputId": "6ef383d5-d330-483a-bd1b-adfcd7bbe513"
      },
      "source": [
        "train_hist, val_hist = train_model(MySSD300, dataloaders, optimizer, exp_lr_scheduler, loss_func, n_epoch=30)"
      ],
      "execution_count": null,
      "outputs": [
        {
          "output_type": "stream",
          "text": [
            "Epoch 1 - step 0: train_loss: 2.8963\n",
            "Epoch 1 - step 100: train_loss: 0.3581\n",
            "Epoch 1 - step 200: train_loss: 0.3429\n",
            "Epoch 1 - step 300: train_loss: 0.3395\n",
            "Epoch 1 - step 400: train_loss: 0.3645\n",
            "Epoch 1 - step 500: train_loss: 0.3173\n",
            "Epoch 1 - step 600: train_loss: 0.3783\n",
            "Epoch 1 - step 700: train_loss: 0.3241\n",
            "Epoch 1 - step 800: train_loss: 0.3415\n",
            "Epoch 1 - step 900: train_loss: 0.3448\n",
            "Epoch 1 - step 1000: train_loss: 0.3452\n",
            "Epoch 1 - train/val_time: 661s | 60s - train_loss: 0.3622 - val_loss: 0.3497\n",
            "Epoch 2 - train/val_time: 662s | 61s - train_loss: 0.3346 - val_loss: 0.3275\n",
            "Epoch 3 - train/val_time: 661s | 61s - train_loss: 0.3203 - val_loss: 0.3136\n",
            "Epoch 4 - train/val_time: 666s | 61s - train_loss: 0.3089 - val_loss: 0.3073\n",
            "Epoch 5 - train/val_time: 660s | 61s - train_loss: 0.2981 - val_loss: 0.3018\n",
            "Epoch 6 - train/val_time: 662s | 60s - train_loss: 0.2891 - val_loss: 0.2827\n",
            "Epoch 7 - train/val_time: 660s | 61s - train_loss: 0.2819 - val_loss: 0.2740\n",
            "Epoch 8 - train/val_time: 658s | 61s - train_loss: 0.2765 - val_loss: 0.2776\n",
            "Epoch 9 - train/val_time: 663s | 60s - train_loss: 0.2717 - val_loss: 0.2681\n",
            "Epoch 10 - train/val_time: 678s | 63s - train_loss: 0.2672 - val_loss: 0.2598\n",
            "Epoch 11 - train/val_time: 712s | 62s - train_loss: 0.2633 - val_loss: 0.2610\n",
            "Epoch 12 - train/val_time: 699s | 61s - train_loss: 0.2599 - val_loss: 0.2574\n",
            "Epoch 13 - train/val_time: 690s | 62s - train_loss: 0.2572 - val_loss: 0.2558\n",
            "Epoch 14 - train/val_time: 692s | 61s - train_loss: 0.2542 - val_loss: 0.2491\n",
            "Epoch 15 - train/val_time: 692s | 62s - train_loss: 0.2524 - val_loss: 0.2459\n",
            "Epoch 16 - train/val_time: 685s | 61s - train_loss: 0.2499 - val_loss: 0.2487\n",
            "Epoch 17 - train/val_time: 680s | 61s - train_loss: 0.2490 - val_loss: 0.2946\n",
            "Epoch 18 - train/val_time: 698s | 61s - train_loss: 0.2490 - val_loss: 0.2475\n",
            "Epoch 19 - train/val_time: 685s | 62s - train_loss: 0.2451 - val_loss: 0.2447\n",
            "Epoch 20 - train/val_time: 693s | 61s - train_loss: 0.2435 - val_loss: 0.2483\n",
            "Epoch 21 - train/val_time: 692s | 61s - train_loss: 0.2424 - val_loss: 0.2427\n",
            "Epoch 22 - train/val_time: 698s | 62s - train_loss: 0.2418 - val_loss: 0.2344\n",
            "Epoch 23 - train/val_time: 690s | 61s - train_loss: 0.2395 - val_loss: 0.2416\n",
            "Epoch 24 - train/val_time: 689s | 61s - train_loss: 0.2385 - val_loss: 0.2348\n",
            "Epoch 25 - train/val_time: 691s | 61s - train_loss: 0.2373 - val_loss: 0.2340\n",
            "Epoch 26 - train/val_time: 690s | 61s - train_loss: 0.2359 - val_loss: 0.2352\n",
            "Epoch 27 - train/val_time: 682s | 60s - train_loss: 0.2346 - val_loss: 0.2388\n",
            "Epoch 28 - train/val_time: 689s | 61s - train_loss: 0.2341 - val_loss: 0.2332\n",
            "Epoch 29 - train/val_time: 687s | 61s - train_loss: 0.2326 - val_loss: 0.2317\n",
            "Epoch 30 - train/val_time: 687s | 62s - train_loss: 0.2316 - val_loss: 0.2309\n"
          ],
          "name": "stdout"
        }
      ]
    },
    {
      "cell_type": "code",
      "metadata": {
        "colab_type": "code",
        "id": "T6_OV2liYjEw",
        "colab": {
          "base_uri": "https://localhost:8080/",
          "height": 1000
        },
        "outputId": "516786f1-ced8-4a2e-eaeb-926cf64f2ae6"
      },
      "source": [
        "train_hist, val_hist = train_model(MySSD300, dataloaders, optimizer, exp_lr_scheduler, loss_func, n_epoch=30, checkpoint=checkpoint)"
      ],
      "execution_count": null,
      "outputs": [
        {
          "output_type": "stream",
          "text": [
            "Epoch 31 - train/val_time: 661s | 59s - train_loss: 0.2304 - val_loss: 0.2289\n",
            "Epoch 32 - train/val_time: 663s | 58s - train_loss: 0.2294 - val_loss: 0.2313\n",
            "Epoch 33 - train/val_time: 657s | 58s - train_loss: 0.2287 - val_loss: 0.2241\n",
            "Epoch 34 - train/val_time: 650s | 58s - train_loss: 0.2278 - val_loss: 0.2265\n",
            "Epoch 35 - train/val_time: 652s | 58s - train_loss: 0.2266 - val_loss: 0.2325\n",
            "Epoch 36 - train/val_time: 654s | 58s - train_loss: 0.2258 - val_loss: 0.2336\n",
            "Epoch 37 - train/val_time: 659s | 58s - train_loss: 0.2256 - val_loss: 0.2265\n",
            "Epoch 38 - train/val_time: 650s | 58s - train_loss: 0.2244 - val_loss: 0.2305\n",
            "Epoch 39 - train/val_time: 653s | 58s - train_loss: 0.2240 - val_loss: 0.2214\n",
            "Epoch 40 - train/val_time: 658s | 58s - train_loss: 0.2228 - val_loss: 0.2245\n",
            "Epoch 41 - train/val_time: 661s | 58s - train_loss: 0.2221 - val_loss: 0.2325\n",
            "Epoch 42 - train/val_time: 670s | 59s - train_loss: 0.2210 - val_loss: 0.2269\n",
            "Epoch 43 - train/val_time: 686s | 60s - train_loss: 0.2211 - val_loss: 0.2198\n",
            "Epoch 44 - train/val_time: 687s | 60s - train_loss: 0.2202 - val_loss: 0.2202\n",
            "Epoch 45 - train/val_time: 695s | 61s - train_loss: 0.2195 - val_loss: 0.2186\n",
            "Epoch 46 - train/val_time: 690s | 61s - train_loss: 0.2188 - val_loss: 0.2202\n",
            "Epoch 47 - train/val_time: 706s | 60s - train_loss: 0.2183 - val_loss: 0.2182\n",
            "Epoch 48 - train/val_time: 700s | 60s - train_loss: 0.2172 - val_loss: 0.2190\n",
            "Epoch 49 - train/val_time: 701s | 61s - train_loss: 0.2167 - val_loss: 0.2170\n",
            "Epoch 50 - train/val_time: 705s | 61s - train_loss: 0.2156 - val_loss: 0.2174\n",
            "Epoch 51 - train/val_time: 704s | 60s - train_loss: 0.2150 - val_loss: 0.2210\n",
            "Epoch 52 - train/val_time: 702s | 61s - train_loss: 0.2151 - val_loss: 0.2190\n",
            "Epoch 53 - train/val_time: 703s | 61s - train_loss: 0.2141 - val_loss: 0.2174\n",
            "Epoch 54 - train/val_time: 702s | 61s - train_loss: 0.2141 - val_loss: 0.2150\n",
            "Epoch 55 - train/val_time: 705s | 60s - train_loss: 0.2121 - val_loss: 0.2146\n",
            "Epoch 56 - train/val_time: 669s | 58s - train_loss: 0.2130 - val_loss: 0.2130\n",
            "Epoch 57 - train/val_time: 663s | 59s - train_loss: 0.2118 - val_loss: 0.2158\n",
            "Epoch 58 - train/val_time: 671s | 58s - train_loss: 0.2121 - val_loss: 0.2107\n",
            "Epoch 59 - train/val_time: 667s | 59s - train_loss: 0.2113 - val_loss: 0.2119\n",
            "Epoch 60 - train/val_time: 671s | 59s - train_loss: 0.2107 - val_loss: 0.2190\n"
          ],
          "name": "stdout"
        }
      ]
    },
    {
      "cell_type": "markdown",
      "metadata": {
        "colab_type": "text",
        "id": "gIwto-TsL9Im"
      },
      "source": [
        "**The scale of x16 in loss from epoch 61 is due to the change in the train and eval function that return loss values.**<br>\n",
        "The loss is now not divided by the number of data points but instead, divided by the number of batches"
      ]
    },
    {
      "cell_type": "code",
      "metadata": {
        "colab_type": "code",
        "id": "9Tr5Ep4uo1nT",
        "colab": {
          "base_uri": "https://localhost:8080/",
          "height": 471
        },
        "outputId": "b80ef75b-1d5a-456b-8de9-afdd7a8bca6f"
      },
      "source": [
        "train_hist, val_hist = train_model(MySSD300, dataloaders, optimizer, exp_lr_scheduler, loss_func, n_epoch=10, checkpoint=checkpoint)"
      ],
      "execution_count": null,
      "outputs": [
        {
          "output_type": "stream",
          "text": [
            "Epoch 61 - train/val_time: 681s | 61s - train_loss: 3.3478 - val_loss: 3.3572\n",
            "Epoch 62 - train/val_time: 673s | 60s - train_loss: 3.3390 - val_loss: 3.3421\n",
            "Epoch 63 - train/val_time: 666s | 61s - train_loss: 3.3367 - val_loss: 3.3296\n",
            "Epoch 64 - train/val_time: 661s | 60s - train_loss: 3.3233 - val_loss: 3.3309\n",
            "Epoch 65 - train/val_time: 662s | 60s - train_loss: 3.3108 - val_loss: 3.4230\n",
            "Epoch 66 - train/val_time: 661s | 60s - train_loss: 3.3005 - val_loss: 3.4096\n",
            "Epoch 67 - train/val_time: 666s | 60s - train_loss: 3.3068 - val_loss: 3.3156\n",
            "Epoch 68 - train/val_time: 660s | 60s - train_loss: 3.2905 - val_loss: 3.4187\n",
            "Epoch 69 - train/val_time: 662s | 60s - train_loss: 3.2836 - val_loss: 3.2860\n",
            "Epoch 70 - train/val_time: 671s | 60s - train_loss: 3.2768 - val_loss: 3.4145\n"
          ],
          "name": "stdout"
        }
      ]
    },
    {
      "cell_type": "code",
      "metadata": {
        "colab_type": "code",
        "id": "9bCpjqlASB_r",
        "colab": {
          "base_uri": "https://localhost:8080/",
          "height": 504
        },
        "outputId": "b0e45c30-14c7-4d62-daeb-e9ec3840cb90"
      },
      "source": [
        "train_hist, val_hist = train_model(MySSD300, dataloaders, optimizer, exp_lr_scheduler, loss_func, n_epoch=29, checkpoint=checkpoint)"
      ],
      "execution_count": null,
      "outputs": [
        {
          "output_type": "stream",
          "text": [
            "Epoch 71 - train/val_time: 655s | 61s - train_loss: 3.2639 - val_loss: 3.3308\n",
            "Epoch 72 - train/val_time: 660s | 60s - train_loss: 3.2714 - val_loss: 3.2807\n",
            "Epoch 73 - train/val_time: 661s | 60s - train_loss: 3.2602 - val_loss: 3.2868\n",
            "Epoch 74 - train/val_time: 658s | 60s - train_loss: 3.2541 - val_loss: 3.2680\n",
            "Epoch 75 - train/val_time: 660s | 60s - train_loss: 3.2462 - val_loss: 3.3774\n",
            "Epoch 76 - train/val_time: 660s | 60s - train_loss: 3.2442 - val_loss: 3.2544\n",
            "Epoch 77 - train/val_time: 656s | 60s - train_loss: 3.2295 - val_loss: 3.2807\n",
            "Epoch 78 - train/val_time: 661s | 61s - train_loss: 3.2357 - val_loss: 3.2819\n",
            "Epoch 79 - train/val_time: 661s | 61s - train_loss: 3.2210 - val_loss: 3.2583\n",
            "Epoch 80 - train/val_time: 660s | 61s - train_loss: 3.2121 - val_loss: 3.3763\n",
            "Epoch 81 - train/val_time: 661s | 60s - train_loss: 3.2071 - val_loss: 3.2671\n",
            "Epoch 82 - train/val_time: 657s | 61s - train_loss: 3.2054 - val_loss: 3.2223\n",
            "Epoch 83 - train/val_time: 660s | 60s - train_loss: 3.1959 - val_loss: 3.2534\n",
            "Epoch 84 - train/val_time: 663s | 61s - train_loss: 3.1944 - val_loss: 3.2193\n",
            "Epoch 85 - train/val_time: 655s | 61s - train_loss: 3.1805 - val_loss: 3.2307\n",
            "Epoch 86 - train/val_time: 658s | 61s - train_loss: 3.1856 - val_loss: 3.2438\n",
            "Epoch 87 - train/val_time: 660s | 61s - train_loss: 3.1818 - val_loss: 3.1776\n",
            "Epoch 88 - train/val_time: 659s | 60s - train_loss: 3.1676 - val_loss: 3.2786\n",
            "Epoch 89 - train/val_time: 659s | 60s - train_loss: 3.1618 - val_loss: 3.2090\n",
            "Epoch 90 - train/val_time: 658s | 60s - train_loss: 3.1463 - val_loss: 3.2412\n",
            "Epoch 91 - train/val_time: 656s | 60s - train_loss: 3.1499 - val_loss: 3.1932\n",
            "Epoch 92 - train/val_time: 656s | 60s - train_loss: 3.1442 - val_loss: 3.2173\n",
            "Epoch 93 - train/val_time: 659s | 61s - train_loss: 3.1387 - val_loss: 3.2186\n",
            "Epoch 94 - train/val_time: 669s | 61s - train_loss: 3.1339 - val_loss: 3.2042\n",
            "Epoch 95 - train/val_time: 669s | 61s - train_loss: 3.1348 - val_loss: 3.1631\n",
            "Epoch 96 - train/val_time: 665s | 61s - train_loss: 3.1185 - val_loss: 3.2374\n",
            "Epoch 97 - train/val_time: 668s | 61s - train_loss: 3.1222 - val_loss: 3.1900\n",
            "Epoch 98 - train/val_time: 658s | 59s - train_loss: 3.1219 - val_loss: 3.1930\n",
            "Epoch 99 - train/val_time: 653s | 60s - train_loss: 3.1095 - val_loss: 3.1537\n"
          ],
          "name": "stdout"
        }
      ]
    },
    {
      "cell_type": "code",
      "metadata": {
        "colab_type": "code",
        "id": "y7MqPE88fDex",
        "colab": {
          "base_uri": "https://localhost:8080/",
          "height": 202
        },
        "outputId": "3fd5758b-f168-477d-c896-903694a225a5"
      },
      "source": [
        "train_hist, val_hist = train_model(MySSD300, dataloaders, optimizer, exp_lr_scheduler, loss_func, n_epoch=11, checkpoint=checkpoint)"
      ],
      "execution_count": null,
      "outputs": [
        {
          "output_type": "stream",
          "text": [
            "Epoch 100 - train/val_time: 656s | 61s - train_loss: 3.1058 - val_loss: 3.1998\n",
            "Epoch 101 - train/val_time: 658s | 61s - train_loss: 3.1130 - val_loss: 3.1577\n",
            "Epoch 102 - train/val_time: 659s | 61s - train_loss: 3.1042 - val_loss: 3.1478\n",
            "Epoch 103 - train/val_time: 656s | 60s - train_loss: 3.1030 - val_loss: 3.1830\n",
            "Epoch 104 - train/val_time: 653s | 60s - train_loss: 3.1003 - val_loss: 3.2375\n",
            "Epoch 105 - train/val_time: 655s | 60s - train_loss: 3.0988 - val_loss: 3.1615\n",
            "Epoch 106 - train/val_time: 653s | 60s - train_loss: 3.0864 - val_loss: 3.1634\n",
            "Epoch 107 - train/val_time: 655s | 60s - train_loss: 3.0938 - val_loss: 3.1906\n",
            "Epoch 108 - train/val_time: 657s | 61s - train_loss: 3.0815 - val_loss: 3.1547\n",
            "Epoch 109 - train/val_time: 653s | 60s - train_loss: 3.0803 - val_loss: 3.2839\n",
            "Epoch 110 - train/val_time: 650s | 60s - train_loss: 3.0732 - val_loss: 3.1861\n"
          ],
          "name": "stdout"
        }
      ]
    },
    {
      "cell_type": "code",
      "metadata": {
        "colab_type": "code",
        "id": "XigrOX8EVQK7",
        "colab": {
          "base_uri": "https://localhost:8080/",
          "height": 471
        },
        "outputId": "f2d7254d-9a1d-446e-ab2f-7ca551587b9f"
      },
      "source": [
        "train_hist, val_hist = train_model(MySSD300, dataloaders, optimizer, exp_lr_scheduler, loss_func, n_epoch=30, checkpoint=checkpoint)"
      ],
      "execution_count": null,
      "outputs": [
        {
          "output_type": "stream",
          "text": [
            "Epoch 111 - train/val_time: 648s | 61s - train_loss: 3.0454 - val_loss: 3.1802\n",
            "Epoch 112 - train/val_time: 676s | 61s - train_loss: 3.0454 - val_loss: 3.1268\n",
            "Epoch 113 - train/val_time: 684s | 61s - train_loss: 3.0396 - val_loss: 3.1296\n",
            "Epoch 114 - train/val_time: 680s | 61s - train_loss: 3.0331 - val_loss: 3.1685\n",
            "Epoch 115 - train/val_time: 681s | 62s - train_loss: 3.0289 - val_loss: 3.2425\n",
            "Epoch 116 - train/val_time: 687s | 61s - train_loss: 3.0277 - val_loss: 3.1221\n",
            "Epoch 117 - train/val_time: 687s | 62s - train_loss: 3.0140 - val_loss: 3.1395\n",
            "Epoch 118 - train/val_time: 685s | 62s - train_loss: 3.0225 - val_loss: 3.1742\n",
            "Epoch 119 - train/val_time: 666s | 60s - train_loss: 3.0141 - val_loss: 3.1225\n",
            "Epoch 120 - train/val_time: 650s | 59s - train_loss: 3.0126 - val_loss: 3.2475\n",
            "Epoch 121 - train/val_time: 666s | 59s - train_loss: 2.9949 - val_loss: 3.1244\n",
            "Epoch 122 - train/val_time: 637s | 58s - train_loss: 2.9932 - val_loss: 3.1044\n",
            "Epoch 123 - train/val_time: 635s | 58s - train_loss: 2.9875 - val_loss: 3.0988\n",
            "Epoch 124 - train/val_time: 634s | 58s - train_loss: 2.9794 - val_loss: 3.1473\n",
            "Epoch 125 - train/val_time: 635s | 58s - train_loss: 2.9731 - val_loss: 3.2310\n",
            "Epoch 126 - train/val_time: 636s | 58s - train_loss: 2.9774 - val_loss: 3.0981\n",
            "Epoch 127 - train/val_time: 647s | 60s - train_loss: 2.9613 - val_loss: 3.1294\n",
            "Epoch 128 - train/val_time: 663s | 59s - train_loss: 2.9730 - val_loss: 3.1360\n",
            "Epoch 129 - train/val_time: 667s | 61s - train_loss: 2.9644 - val_loss: 3.0979\n",
            "Epoch 130 - train/val_time: 672s | 61s - train_loss: 2.9609 - val_loss: 3.2536\n",
            "Epoch 131 - train/val_time: 674s | 60s - train_loss: 2.9914 - val_loss: 3.1159\n",
            "Epoch 132 - train/val_time: 647s | 58s - train_loss: 3.0112 - val_loss: 3.0659\n",
            "Epoch 133 - train/val_time: 633s | 58s - train_loss: 3.0017 - val_loss: 3.1207\n",
            "Epoch 134 - train/val_time: 642s | 60s - train_loss: 2.9972 - val_loss: 3.0870\n",
            "Epoch 135 - train/val_time: 638s | 58s - train_loss: 2.9859 - val_loss: 3.0840\n",
            "Epoch 136 - train/val_time: 641s | 60s - train_loss: 2.9934 - val_loss: 3.0988\n",
            "Epoch 137 - train/val_time: 653s | 59s - train_loss: 2.9961 - val_loss: 3.0623\n",
            "Epoch 138 - train/val_time: 646s | 59s - train_loss: 2.9836 - val_loss: 3.1698\n",
            "Epoch 139 - train/val_time: 642s | 59s - train_loss: 2.9833 - val_loss: 3.0770\n",
            "Epoch 140 - train/val_time: 640s | 59s - train_loss: 2.9764 - val_loss: 3.1198\n"
          ],
          "name": "stdout"
        }
      ]
    },
    {
      "cell_type": "code",
      "metadata": {
        "colab_type": "code",
        "id": "PPZZRnsHdXD2",
        "colab": {
          "base_uri": "https://localhost:8080/",
          "height": 353
        },
        "outputId": "7a794843-d654-49c4-8e60-4fdcca0ad255"
      },
      "source": [
        "train_hist, val_hist = train_model(MySSD300, dataloaders, optimizer, exp_lr_scheduler, loss_func, n_epoch=20, checkpoint=checkpoint)"
      ],
      "execution_count": null,
      "outputs": [
        {
          "output_type": "stream",
          "text": [
            "Epoch 141 - train/val_time: 1148s | 108s - train_loss: 2.9346 - val_loss: 3.1198\n",
            "Epoch 142 - train/val_time: 1153s | 107s - train_loss: 2.9353 - val_loss: 3.0567\n",
            "Epoch 143 - train/val_time: 1154s | 107s - train_loss: 2.9283 - val_loss: 3.0711\n",
            "Epoch 144 - train/val_time: 1155s | 107s - train_loss: 2.9222 - val_loss: 3.1083\n",
            "Epoch 145 - train/val_time: 1151s | 107s - train_loss: 2.9151 - val_loss: 3.1842\n",
            "Epoch 146 - train/val_time: 1152s | 107s - train_loss: 2.9194 - val_loss: 3.0365\n",
            "Epoch 147 - train/val_time: 1151s | 108s - train_loss: 2.9037 - val_loss: 3.1012\n",
            "Epoch 148 - train/val_time: 1152s | 107s - train_loss: 2.9156 - val_loss: 3.0758\n",
            "Epoch 149 - train/val_time: 1152s | 108s - train_loss: 2.9079 - val_loss: 3.0451\n",
            "Epoch 150 - train/val_time: 1152s | 108s - train_loss: 2.9040 - val_loss: 3.1439\n",
            "Epoch 151 - train/val_time: 1151s | 107s - train_loss: 2.9173 - val_loss: 3.0429\n",
            "Epoch 152 - train/val_time: 1151s | 108s - train_loss: 2.9300 - val_loss: 3.0285\n",
            "Epoch 153 - train/val_time: 1149s | 107s - train_loss: 2.9215 - val_loss: 3.0719\n",
            "Epoch 154 - train/val_time: 1151s | 108s - train_loss: 2.9185 - val_loss: 3.0558\n",
            "Epoch 155 - train/val_time: 1150s | 108s - train_loss: 2.9092 - val_loss: 3.0272\n",
            "Epoch 156 - train/val_time: 1152s | 108s - train_loss: 2.9145 - val_loss: 3.0539\n",
            "Epoch 157 - train/val_time: 1151s | 108s - train_loss: 2.9193 - val_loss: 3.0209\n",
            "Epoch 158 - train/val_time: 1151s | 108s - train_loss: 2.9091 - val_loss: 3.1093\n",
            "Epoch 159 - train/val_time: 1153s | 108s - train_loss: 2.9098 - val_loss: 3.0417\n",
            "Epoch 160 - train/val_time: 1153s | 108s - train_loss: 2.9025 - val_loss: 3.0624\n"
          ],
          "name": "stdout"
        }
      ]
    },
    {
      "cell_type": "code",
      "metadata": {
        "colab_type": "code",
        "id": "grUQk5rIl-1u",
        "colab": {
          "base_uri": "https://localhost:8080/",
          "height": 353
        },
        "outputId": "8faa2e9e-e142-4262-c9a0-b2c8c572c1dc"
      },
      "source": [
        "train_hist, val_hist = train_model(MySSD300, dataloaders, optimizer, exp_lr_scheduler, loss_func, n_epoch=20, checkpoint=checkpoint)"
      ],
      "execution_count": null,
      "outputs": [
        {
          "output_type": "stream",
          "text": [
            "Epoch 161 - train/val_time: 1246s | 114s - train_loss: 2.8696 - val_loss: 3.0054\n",
            "Epoch 162 - train/val_time: 1246s | 114s - train_loss: 2.8633 - val_loss: 2.9953\n",
            "Epoch 163 - train/val_time: 1249s | 115s - train_loss: 2.8709 - val_loss: 2.9706\n",
            "Epoch 164 - train/val_time: 1244s | 112s - train_loss: 2.8681 - val_loss: 2.9961\n",
            "Epoch 165 - train/val_time: 1229s | 110s - train_loss: 2.8601 - val_loss: 2.9789\n",
            "Epoch 166 - train/val_time: 1226s | 111s - train_loss: 2.8768 - val_loss: 2.9793\n",
            "Epoch 167 - train/val_time: 1226s | 111s - train_loss: 2.8663 - val_loss: 2.9870\n",
            "Epoch 168 - train/val_time: 1228s | 112s - train_loss: 2.8695 - val_loss: 2.9662\n",
            "Epoch 169 - train/val_time: 1238s | 113s - train_loss: 2.8594 - val_loss: 3.0226\n",
            "Epoch 170 - train/val_time: 1238s | 111s - train_loss: 2.8644 - val_loss: 2.9739\n",
            "Epoch 171 - train/val_time: 1223s | 110s - train_loss: 2.8585 - val_loss: 2.9879\n",
            "Epoch 172 - train/val_time: 1237s | 113s - train_loss: 2.8514 - val_loss: 2.9888\n",
            "Epoch 173 - train/val_time: 1232s | 110s - train_loss: 2.8558 - val_loss: 2.9749\n",
            "Epoch 174 - train/val_time: 1226s | 111s - train_loss: 2.8618 - val_loss: 2.9751\n",
            "Epoch 175 - train/val_time: 1226s | 111s - train_loss: 2.8509 - val_loss: 2.9774\n",
            "Epoch 176 - train/val_time: 1228s | 113s - train_loss: 2.8457 - val_loss: 2.9547\n",
            "Epoch 177 - train/val_time: 1241s | 113s - train_loss: 2.8490 - val_loss: 2.9591\n",
            "Epoch 178 - train/val_time: 1242s | 114s - train_loss: 2.8346 - val_loss: 2.9564\n",
            "Epoch 179 - train/val_time: 1240s | 112s - train_loss: 2.8462 - val_loss: 2.9887\n",
            "Epoch 180 - train/val_time: 1239s | 113s - train_loss: 2.8390 - val_loss: 2.9811\n"
          ],
          "name": "stdout"
        }
      ]
    },
    {
      "cell_type": "code",
      "metadata": {
        "colab_type": "code",
        "id": "-NwO9wMxV0_O",
        "colab": {}
      },
      "source": [
        ""
      ],
      "execution_count": null,
      "outputs": []
    },
    {
      "cell_type": "code",
      "metadata": {
        "id": "MxNRBWfzWycm",
        "colab_type": "code",
        "colab": {},
        "outputId": "08b04a7e-5038-490f-f73a-b9b33a097b25"
      },
      "source": [
        "import pandas as pd\n",
        "hist = pd.read_csv('models/hist.csv')\n",
        "import matplotlib.pyplot as plt\n",
        "plt.style.use(\"ggplot\")\n",
        "plt.figure()\n",
        "plt.plot(hist['epoch'], hist[\"train_loss\"], label=\"train_loss\")\n",
        "plt.plot(hist['epoch'], hist[\"val_loss\"], label=\"val_loss\")\n",
        "plt.title(\"Training Loss\")\n",
        "plt.xlabel(\"Epoch #\")\n",
        "plt.ylabel(\"Loss\")\n",
        "plt.legend()\n",
        "plt.show()"
      ],
      "execution_count": null,
      "outputs": [
        {
          "output_type": "display_data",
          "data": {
            "image/png": "[encoded data removed]",
            "text/plain": [
              "<Figure size 432x288 with 1 Axes>"
            ]
          },
          "metadata": {
            "tags": []
          }
        }
      ]
    },
    {
      "cell_type": "code",
      "metadata": {
        "colab_type": "code",
        "id": "eSsl3sPPCDV3",
        "colab": {}
      },
      "source": [
        ""
      ],
      "execution_count": null,
      "outputs": []
    },
    {
      "cell_type": "markdown",
      "metadata": {
        "colab_type": "text",
        "id": "dlM-PjMJSB_v"
      },
      "source": [
        "## Evaluate"
      ]
    },
    {
      "cell_type": "code",
      "metadata": {
        "colab_type": "code",
        "id": "ONP-WEc6SB_w",
        "colab": {}
      },
      "source": [
        "def eval_APs_mAP(model, valset_loader):\n",
        "    '''\n",
        "    '''\n",
        "    model.eval()\n",
        "    detected_boxes = list()\n",
        "    detected_labels = list()\n",
        "    detected_scores = list()\n",
        "    true_boxes = list()\n",
        "    true_labels = list()\n",
        "    #true_diffs = list()\n",
        "    \n",
        "    with torch.no_grad():\n",
        "        for step, (imgs, boxes, labels, diffs) in enumerate(valset_loader):\n",
        "            # move input data to GPU\n",
        "            imgs = imgs.to(device)\n",
        "            boxes = [b.to(device) for b in boxes]\n",
        "            labels = [l.to(device) for l in labels]\n",
        "            #diffs = [d.to(device) for d in diffs]\n",
        "\n",
        "            # detect objects\n",
        "            predicted_offsets, predicted_scores = model(imgs)\n",
        "            batch_det_boxes, batch_det_labels, batch_det_scores = model.post_process_top_k(predicted_offsets, predicted_scores,\n",
        "                                                                                      score_threshold=0.02, iou_threshold=0.45, top_k=200)\n",
        "            detected_boxes.extend(batch_det_boxes)\n",
        "            detected_labels.extend(batch_det_labels)\n",
        "            detected_scores.extend(batch_det_scores)\n",
        "            true_boxes.extend(boxes)\n",
        "            true_labels.extend(labels)\n",
        "            #true_diffs.extend(diffs)\n",
        "\n",
        "        # calculate metrics value\n",
        "        detected_boxes_np = [i.cpu().numpy() for i in detected_boxes]\n",
        "        detected_labels_np = [i.cpu().numpy() for i in detected_labels]\n",
        "        detected_scores_np = [i.cpu().numpy() for i in detected_scores]\n",
        "        true_boxes_np = [i.cpu().numpy() for i in true_boxes]\n",
        "        true_labels_np = [i.cpu().numpy() for i in true_labels]\n",
        "        result = eval_detection_voc(detected_boxes_np, detected_labels_np, detected_scores_np, true_boxes_np, true_labels_np)\n",
        "    \n",
        "    return result['ap'], result['map']"
      ],
      "execution_count": 10,
      "outputs": []
    },
    {
      "cell_type": "code",
      "metadata": {
        "colab_type": "code",
        "id": "QnyQYLm9SB_0",
        "colab": {}
      },
      "source": [
        "APs, mAP = eval_APs_mAP(MySSD300, dataloaders['val'])"
      ],
      "execution_count": 11,
      "outputs": []
    },
    {
      "cell_type": "code",
      "metadata": {
        "id": "g1qq76QpWyc8",
        "colab_type": "code",
        "colab": {
          "base_uri": "https://localhost:8080/",
          "height": 101
        },
        "outputId": "bcbdaf9d-74ed-40fe-c59a-4c01b2237d68"
      },
      "source": [
        "print(APs)\n",
        "print(mAP)"
      ],
      "execution_count": 12,
      "outputs": [
        {
          "output_type": "stream",
          "text": [
            "[       nan 0.81479036 0.73364865 0.5306327  0.53027352 0.21496273\n",
            " 0.76149855 0.75267531 0.70828376 0.39961025 0.4568629  0.56387578\n",
            " 0.6202117  0.70312984 0.76439393 0.79807236 0.30911132 0.56542905\n",
            " 0.59467395 0.75979598 0.59232853]\n",
            "0.6087130582935387\n"
          ],
          "name": "stdout"
        }
      ]
    },
    {
      "cell_type": "code",
      "metadata": {
        "colab_type": "code",
        "id": "55RQq7wATmth",
        "colab": {}
      },
      "source": [
        ""
      ],
      "execution_count": null,
      "outputs": []
    },
    {
      "cell_type": "code",
      "metadata": {
        "colab_type": "code",
        "id": "5gHV8QFiYGQ5",
        "colab": {}
      },
      "source": [
        ""
      ],
      "execution_count": null,
      "outputs": []
    },
    {
      "cell_type": "markdown",
      "metadata": {
        "id": "SAS9OKvyWydJ",
        "colab_type": "text"
      },
      "source": [
        "## Compare post_process_top_k() and my_post_process() with precision/recall curve"
      ]
    },
    {
      "cell_type": "code",
      "metadata": {
        "colab_type": "code",
        "id": "-40lxSbgIcU_",
        "colab": {}
      },
      "source": [
        "import matplotlib.pyplot as plt\n",
        "from eval_detection_voc import calc_detection_voc_prec_rec\n",
        "\n",
        "def cal_prec_rec(det_boxes, det_labels, det_scores, true_boxes, true_labels):\n",
        "    det_boxes_np = [i.cpu().numpy() for i in det_boxes]\n",
        "    det_labels_np = [i.cpu().numpy() for i in det_labels]\n",
        "    det_scores_np = [i.cpu().numpy() for i in det_scores]\n",
        "    true_boxes_np = [i.cpu().numpy() for i in true_boxes]\n",
        "    true_labels_np = [i.cpu().numpy() for i in true_labels]\n",
        "    \n",
        "    precision, recall = calc_detection_voc_prec_rec(det_boxes_np, det_labels_np, det_scores_np, true_boxes_np, true_labels_np)\n",
        "    precision = np.array([precision[i][-1] for i in range(1,21)])\n",
        "    recall = np.array([recall[i][-1] for i in range(1,21)])\n",
        "    return precision, recall\n",
        "\n",
        "def plot_prec_rec(my_pp_prec, my_pp_rec, other_pp_prec, other_pp_rec):\n",
        "    #prec and rec are measured in all 20 classes and I just gonna plot the mean\n",
        "    my_prec_mean = [i.mean() for i in my_pp_prec]\n",
        "    my_rec_mean = [i.mean() for i in my_pp_rec]\n",
        "    other_prec_mean = [i.mean() for i in other_pp_prec]\n",
        "    other_rec_mean = [i.mean() for i in other_pp_rec]\n",
        "    plt.style.use(\"ggplot\")\n",
        "    plt.figure()\n",
        "    plt.plot(my_rec_mean, my_prec_mean, label=\"my_post_process()\")\n",
        "    plt.plot(other_rec_mean, other_prec_mean, label=\"post_process_top_k()\")\n",
        "    plt.title(\"Precision/Recall curve\")\n",
        "    plt.xlabel(\"Recall\")\n",
        "    plt.ylabel(\"Precision\")\n",
        "    plt.legend()\n",
        "    plt.show()"
      ],
      "execution_count": 13,
      "outputs": []
    },
    {
      "cell_type": "code",
      "metadata": {
        "id": "6oXULJQpWydR",
        "colab_type": "code",
        "colab": {}
      },
      "source": [
        "all_predicted_offsets = list()\n",
        "all_predicted_scores = list()\n",
        "true_boxes = list()\n",
        "true_labels = list()\n",
        "\n",
        "MySSD300.eval()\n",
        "with torch.no_grad():\n",
        "    for step, (imgs, boxes, labels, diffs) in enumerate(dataloaders['val']):\n",
        "        imgs = imgs.to(device)\n",
        "        boxes = [b.to(device) for b in boxes]\n",
        "        labels = [l.to(device) for l in labels]\n",
        "        predicted_offsets, predicted_scores = MySSD300(imgs)\n",
        "        all_predicted_offsets.append(predicted_offsets)\n",
        "        all_predicted_scores.append(predicted_scores)\n",
        "        true_boxes.extend(boxes)\n",
        "        true_labels.extend(labels)\n",
        "        if step == 31: break #only evaluate on 2048 images in the valset\n",
        "        \n",
        "    all_predicted_offsets = torch.cat(all_predicted_offsets, dim=0)\n",
        "    all_predicted_scores = torch.cat(all_predicted_scores, dim=0)"
      ],
      "execution_count": 14,
      "outputs": []
    },
    {
      "cell_type": "code",
      "metadata": {
        "id": "MYI4Vpr1aP2E",
        "colab_type": "code",
        "colab": {
          "base_uri": "https://localhost:8080/",
          "height": 34
        },
        "outputId": "c6c69c39-b846-4a21-b5f3-da55583a3498"
      },
      "source": [
        "all_predicted_offsets.shape"
      ],
      "execution_count": 15,
      "outputs": [
        {
          "output_type": "execute_result",
          "data": {
            "text/plain": [
              "torch.Size([2048, 8732, 4])"
            ]
          },
          "metadata": {
            "tags": []
          },
          "execution_count": 15
        }
      ]
    },
    {
      "cell_type": "code",
      "metadata": {
        "colab_type": "code",
        "id": "nSTbGPhnvfj3",
        "colab": {
          "base_uri": "https://localhost:8080/",
          "height": 50
        },
        "outputId": "6de3d640-b132-4fbb-aabd-42e6d12799b4"
      },
      "source": [
        "# my post processing result\n",
        "my_pp_prec, my_pp_rec, my_pp_run_time = [], [], []\n",
        "\n",
        "with torch.no_grad():\n",
        "    for score_threshold in np.arange(0.3, 0.95, 0.03):\n",
        "        start_time = time.time()\n",
        "        det_boxes, det_labels, det_scores = MySSD300.my_post_process(all_predicted_offsets, all_predicted_scores,\n",
        "                                                                    score_threshold, iou_threshold=0.45, top_k=200)\n",
        "        end_time = time.time()-start_time\n",
        "        my_pp_run_time.append(round(end_time,2))\n",
        "        prec, rec = cal_prec_rec(det_boxes, det_labels, det_scores, true_boxes, true_labels)\n",
        "        my_pp_prec.append(prec)\n",
        "        my_pp_rec.append(rec)\n",
        "    print(my_pp_run_time)\n",
        "    print('my_post_process() average running time:', sum(my_pp_run_time)/len(my_pp_run_time))"
      ],
      "execution_count": 18,
      "outputs": [
        {
          "output_type": "stream",
          "text": [
            "[3.85, 4.04, 3.97, 4.15, 4.17, 4.26, 4.53, 4.6, 4.72, 4.59, 4.72, 5.12, 4.94, 5.21, 5.25, 5.44, 5.77, 6.87, 7.52, 10.17, 17.27, 26.54]\n",
            "my_post_process() average running time: 6.713636363636363\n"
          ],
          "name": "stdout"
        }
      ]
    },
    {
      "cell_type": "code",
      "metadata": {
        "id": "pzEOkxTHWyda",
        "colab_type": "code",
        "colab": {
          "base_uri": "https://localhost:8080/",
          "height": 50
        },
        "outputId": "3423b03e-1691-4015-8bb5-d51b277138c8"
      },
      "source": [
        "# post processing result as in the paper\n",
        "other_pp_prec, other_pp_rec, other_pp_run_time = [], [], []\n",
        "\n",
        "with torch.no_grad():\n",
        "    for score_threshold in np.arange(0.05, 0.50, 0.02):\n",
        "        start_time = time.time()\n",
        "        det_boxes, det_labels, det_scores = MySSD300.post_process_top_k(all_predicted_offsets, all_predicted_scores,\n",
        "                                                                        score_threshold, iou_threshold=0.45, top_k=200)\n",
        "        end_time = time.time()-start_time\n",
        "        other_pp_run_time.append(round(end_time,2))\n",
        "        prec, rec = cal_prec_rec(det_boxes, det_labels, det_scores, true_boxes, true_labels)\n",
        "        other_pp_prec.append(prec)\n",
        "        other_pp_rec.append(rec)\n",
        "    print(other_pp_run_time)\n",
        "    print('post_process_top_k() average running time:', sum(other_pp_run_time)/len(other_pp_run_time))"
      ],
      "execution_count": 20,
      "outputs": [
        {
          "output_type": "stream",
          "text": [
            "[17.21, 14.17, 12.35, 11.52, 10.71, 10.28, 9.97, 9.47, 9.56, 9.33, 9.14, 9.04, 9.1, 9.2, 8.73, 8.78, 8.8, 8.69, 8.69, 8.58, 8.53, 8.44, 8.35]\n",
            "post_process_top_k() average running time: 9.94086956521739\n"
          ],
          "name": "stdout"
        }
      ]
    },
    {
      "cell_type": "code",
      "metadata": {
        "id": "bhszu-sGWydg",
        "colab_type": "code",
        "colab": {
          "base_uri": "https://localhost:8080/",
          "height": 299
        },
        "outputId": "5e317036-5894-464b-bbe2-9feb1fc8e7a7"
      },
      "source": [
        "plot_prec_rec(my_pp_prec, my_pp_rec, other_pp_prec, other_pp_rec)"
      ],
      "execution_count": 21,
      "outputs": [
        {
          "output_type": "display_data",
          "data": {
            "image/png": "[encoded data removed]",
            "text/plain": [
              "<Figure size 432x288 with 1 Axes>"
            ]
          },
          "metadata": {
            "tags": []
          }
        }
      ]
    },
    {
      "cell_type": "markdown",
      "metadata": {
        "id": "7s0Qu8bldqOf",
        "colab_type": "text"
      },
      "source": [
        "So as it turns out, my approach for post processing wasn't really precise. However, it did got a little faster running time. <br>\n",
        "I'll use the threshold that results in >0.7 precision and >0.5 recall"
      ]
    },
    {
      "cell_type": "code",
      "metadata": {
        "id": "nLCRn0QIbwwG",
        "colab_type": "code",
        "colab": {
          "base_uri": "https://localhost:8080/",
          "height": 50
        },
        "outputId": "d6e5c1ea-9922-4868-e7e6-d124a301038b"
      },
      "source": [
        "threshold_id = 16\n",
        "print(other_pp_prec[threshold_id].mean(), other_pp_rec[threshold_id].mean())\n",
        "print('thresholdvalue:', np.arange(0.05, 0.50, 0.02)[threshold_id])"
      ],
      "execution_count": 27,
      "outputs": [
        {
          "output_type": "stream",
          "text": [
            "0.7219624554230952 0.49839080026698435\n",
            "thresholdvalue: 0.37000000000000005\n"
          ],
          "name": "stdout"
        }
      ]
    },
    {
      "cell_type": "code",
      "metadata": {
        "id": "A4q1cwQkeue5",
        "colab_type": "code",
        "colab": {}
      },
      "source": [
        ""
      ],
      "execution_count": null,
      "outputs": []
    }
  ]
}