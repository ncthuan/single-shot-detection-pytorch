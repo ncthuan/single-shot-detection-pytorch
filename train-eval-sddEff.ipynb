{
 "cells": [
  {
   "cell_type": "code",
   "execution_count": null,
   "metadata": {
    "colab": {
     "base_uri": "https://localhost:8080/",
     "height": 353
    },
    "colab_type": "code",
    "id": "x4X-aiMDxtFP",
    "outputId": "32970dee-b4e0-4598-f82c-ae4938ebe2af"
   },
   "outputs": [
    {
     "name": "stdout",
     "output_type": "stream",
     "text": [
      "Tue Aug 25 05:49:32 2020       \n",
      "+-----------------------------------------------------------------------------+\n",
      "| NVIDIA-SMI 450.57       Driver Version: 418.67       CUDA Version: 10.1     |\n",
      "|-------------------------------+----------------------+----------------------+\n",
      "| GPU  Name        Persistence-M| Bus-Id        Disp.A | Volatile Uncorr. ECC |\n",
      "| Fan  Temp  Perf  Pwr:Usage/Cap|         Memory-Usage | GPU-Util  Compute M. |\n",
      "|                               |                      |               MIG M. |\n",
      "|===============================+======================+======================|\n",
      "|   0  Tesla K80           Off  | 00000000:00:04.0 Off |                    0 |\n",
      "| N/A   39C    P8    27W / 149W |      0MiB / 11441MiB |      0%      Default |\n",
      "|                               |                      |                 ERR! |\n",
      "+-------------------------------+----------------------+----------------------+\n",
      "                                                                               \n",
      "+-----------------------------------------------------------------------------+\n",
      "| Processes:                                                                  |\n",
      "|  GPU   GI   CI        PID   Type   Process name                  GPU Memory |\n",
      "|        ID   ID                                                   Usage      |\n",
      "|=============================================================================|\n",
      "|  No running processes found                                                 |\n",
      "+-----------------------------------------------------------------------------+\n"
     ]
    }
   ],
   "source": [
    "!nvidia-smi"
   ]
  },
  {
   "cell_type": "code",
   "execution_count": null,
   "metadata": {
    "colab": {},
    "colab_type": "code",
    "id": "U6jgOOIcxvlX"
   },
   "outputs": [],
   "source": [
    "#!git clone https://github.com/NVIDIA/apex /apex\n",
    "#!pip install -v --no-cache-dir --global-option=\"--cpp_ext\" --global-option=\"--cuda_ext\" /apex/."
   ]
  },
  {
   "cell_type": "code",
   "execution_count": 1,
   "metadata": {
    "colab": {
     "base_uri": "https://localhost:8080/",
     "height": 67
    },
    "colab_type": "code",
    "id": "g7BbW21dxw32",
    "outputId": "54b93677-2c26-49c3-c6bf-d87432dcccb1"
   },
   "outputs": [
    {
     "name": "stdout",
     "output_type": "stream",
     "text": [
      "Drive already mounted at /content/gdrive; to attempt to forcibly remount, call drive.mount(\"/content/gdrive\", force_remount=True).\n",
      "models\t\t\t train-eval-sddLite.ipynb    trainval.zip\n",
      "train-eval-sddEff.ipynb  train_eval_sddLiteV2.ipynb\n"
     ]
    }
   ],
   "source": [
    "from google.colab import drive\n",
    "drive.mount('/content/gdrive')\n",
    "!ls \"/content/gdrive/My Drive/lab/SSD/\"\n",
    "gdrive_dir = \"/content/gdrive/My Drive/lab/SSD/\""
   ]
  },
  {
   "cell_type": "code",
   "execution_count": 3,
   "metadata": {
    "colab": {
     "base_uri": "https://localhost:8080/",
     "height": 185
    },
    "colab_type": "code",
    "id": "I0_DA3T4DxdK",
    "outputId": "b227ae59-bd08-4fa2-e412-f72fb89de16f"
   },
   "outputs": [
    {
     "name": "stdout",
     "output_type": "stream",
     "text": [
      "Cloning into 'single-shot-detection-pytorch'...\n",
      "remote: Enumerating objects: 197, done.\u001b[K\n",
      "remote: Counting objects: 100% (197/197), done.\u001b[K\n",
      "remote: Compressing objects: 100% (143/143), done.\u001b[K\n",
      "remote: Total 197 (delta 115), reused 130 (delta 52), pack-reused 0\u001b[K\n",
      "Receiving objects: 100% (197/197), 203.78 KiB | 517.00 KiB/s, done.\n",
      "Resolving deltas: 100% (115/115), done.\n",
      "\u001b[K     |████████████████████████████████| 122kB 2.9MB/s \n",
      "\u001b[K     |████████████████████████████████| 952kB 8.8MB/s \n",
      "\u001b[?25h  Building wheel for albumentations (setup.py) ... \u001b[?25l\u001b[?25hdone\n"
     ]
    }
   ],
   "source": [
    "!unzip -q \"/content/gdrive/My Drive/lab/SSD/trainval.zip\" -d /content\n",
    "!git clone https://github.com/ncthuan/single-shot-detection-pytorch\n",
    "!cp -r single-shot-detection-pytorch/. .\n",
    "!pip install albumentations==0.4.6 -q"
   ]
  },
  {
   "cell_type": "code",
   "execution_count": 2,
   "metadata": {
    "colab": {
     "base_uri": "https://localhost:8080/",
     "height": 70
    },
    "colab_type": "code",
    "id": "FM286mawDxdQ",
    "outputId": "07b81b9b-44d9-404c-929a-abc36cc2988c"
   },
   "outputs": [
    {
     "name": "stderr",
     "output_type": "stream",
     "text": [
      "/usr/local/lib/python3.6/dist-packages/statsmodels/tools/_testing.py:19: FutureWarning: pandas.util.testing is deprecated. Use the functions in the public API at pandas.testing instead.\n",
      "  import pandas.util.testing as tm\n"
     ]
    }
   ],
   "source": [
    "import os\n",
    "import time\n",
    "import torch\n",
    "import torch.cuda as cuda\n",
    "import seaborn as sns\n",
    "import numpy as np\n",
    "from torch.utils.data import DataLoader\n",
    "from dataset import VOCDataset, collate_fn\n",
    "from ssdEff import SSDEff\n",
    "from loss import MultiBoxLoss\n",
    "from utils import create_data_lists, clip_gradient, save_checkpoint\n",
    "from eval_detection_voc import eval_detection_voc\n",
    "device = torch.device(\"cuda\" if cuda.is_available() else \"cpu\") "
   ]
  },
  {
   "cell_type": "markdown",
   "metadata": {
    "colab_type": "text",
    "id": "KqWYYcDRDxdb"
   },
   "source": [
    "## Load dataset"
   ]
  },
  {
   "cell_type": "code",
   "execution_count": null,
   "metadata": {
    "colab": {},
    "colab_type": "code",
    "id": "IvpCjiaTSB-b"
   },
   "outputs": [],
   "source": [
    "from utils import create_data_lists\n",
    "voc07_path = os.path.join('datasets/', 'VOC2007/')\n",
    "voc12_path = os.path.join('datasets/', 'VOC2012/')\n",
    "create_data_lists(voc07_path, voc12_path, output_folder='datasets/')"
   ]
  },
  {
   "cell_type": "code",
   "execution_count": null,
   "metadata": {
    "colab": {},
    "colab_type": "code",
    "id": "wY_HZZgux3IE"
   },
   "outputs": [],
   "source": [
    "!ls datasets/"
   ]
  },
  {
   "cell_type": "code",
   "execution_count": 3,
   "metadata": {
    "colab": {},
    "colab_type": "code",
    "id": "LMId7L0MSB-n"
   },
   "outputs": [],
   "source": [
    "torch.manual_seed(42)\n",
    "trainset = VOCDataset(data_folder='datasets/', json_files=('TRAIN_images.json', 'TRAIN_objects.json'), augment=True, img_size=300)\n",
    "valset = VOCDataset(data_folder='datasets/', json_files=('VAL_images.json', 'VAL_objects.json'), img_size=300)\n",
    "\n",
    "dataloaders = dict(\n",
    "    train = DataLoader(trainset, batch_size=32, collate_fn=collate_fn, shuffle=True, num_workers=2),\n",
    "    val = DataLoader(valset, batch_size=32, collate_fn=collate_fn, shuffle=False, num_workers=2),\n",
    ")"
   ]
  },
  {
   "cell_type": "markdown",
   "metadata": {
    "colab_type": "text",
    "id": "8WUVt5FvDxdo"
   },
   "source": [
    "## Train model"
   ]
  },
  {
   "cell_type": "code",
   "execution_count": null,
   "metadata": {
    "colab": {},
    "colab_type": "code",
    "id": "KN3NMw9zxmKk"
   },
   "outputs": [],
   "source": [
    "checkpoint = torch.load('../input/voc0712/pretrained_ssdeff.pt')\n",
    "ssd_eff = checkpoint['model'].to(device)\n",
    "\n",
    "ssd_eff.requires_grad_(False)\n",
    "ssd_eff.lat_fm10.requires_grad_(True)\n",
    "ssd_eff.lat_fm19.requires_grad_(True)\n",
    "ssd_eff.final_fm19.requires_grad_(True)\n",
    "ssd_eff.final_fm38.requires_grad_(True)\n",
    "ssd_eff.det_fm38.requires_grad_(True)\n",
    "ssd_eff.det_fm19.requires_grad_(True)\n",
    "ssd_eff.det_fm10.requires_grad_(True)\n",
    "ssd_eff.det_fm5.requires_grad_(True)\n",
    "ssd_eff.det_fm3.requires_grad_(True)"
   ]
  },
  {
   "cell_type": "code",
   "execution_count": 22,
   "metadata": {
    "colab": {},
    "colab_type": "code",
    "id": "W6wmuEoODxdq"
   },
   "outputs": [],
   "source": [
    "checkpoint_path = gdrive_dir+'models/checkpoint_ssd_eff.pt'\n",
    "checkpoint = torch.load(checkpoint_path) # None\n",
    "\n",
    "if checkpoint:\n",
    "    ssd_eff = checkpoint['model']\n",
    "    optimizer = checkpoint['optimizer']\n",
    "    #exp_lr_scheduler = torch.optim.lr_scheduler.ExponentialLR(optimizer, gamma=0.96, last_epoch=checkpoint['epoch']-1)\n",
    "else:\n",
    "    ssd_eff = SSDEff(n_classes=21).to(device)\n",
    "    optimizer = torch.optim.Adam(ssd_eff.parameters(), lr=2e-3, weight_decay=5e-4)\n",
    "    #exp_lr_scheduler = torch.optim.lr_scheduler.ExponentialLR(optimizer, gamma=0.96)\n",
    "\n",
    "loss_func = MultiBoxLoss(priors_cxcy=ssd_eff.get_prior_boxes(), threshold=0.5, alpha=1., neg_pos_ratio=3, focal_loss=False)\n",
    "\n",
    "grad_clip = None"
   ]
  },
  {
   "cell_type": "code",
   "execution_count": 5,
   "metadata": {
    "colab": {},
    "colab_type": "code",
    "id": "3SGP1PteDxdv"
   },
   "outputs": [],
   "source": [
    "def train_epoch(model, trainset_loader, loss_func, optimizer, epoch_id):\n",
    "    model.train()\n",
    "    train_loss = 0\n",
    "    for step, (imgs, boxes, labels) in enumerate(trainset_loader):\n",
    "        # move input data to GPU\n",
    "        imgs = imgs.to(device)\n",
    "        boxes = [b.to(device) for b in boxes]\n",
    "        labels = [l.to(device) for l in labels]\n",
    "        \n",
    "        # forward\n",
    "        predicted_offsets, predicted_scores = model(imgs)\n",
    "        loss = loss_func(predicted_offsets, predicted_scores, boxes, labels)\n",
    "        \n",
    "        # backward & optimize\n",
    "        optimizer.zero_grad()\n",
    "        loss.backward()\n",
    "        optimizer.step()\n",
    "\n",
    "        if epoch_id == 1 and step % 50 == 0:\n",
    "            print(f'Epoch 1 - step {step}: train_loss: {loss.item():.4f}')\n",
    "        \n",
    "        train_loss += loss.item()\n",
    "        \n",
    "    return round(train_loss/len(trainset_loader), 4)\n",
    "\n",
    "def eval_epoch(model, valset_loader, loss_func):\n",
    "    model.eval()\n",
    "    val_loss = 0\n",
    "    with torch.no_grad():\n",
    "        for step, (imgs, boxes, labels) in enumerate(valset_loader):\n",
    "            imgs = imgs.to(device)\n",
    "            boxes = [b.to(device) for b in boxes]\n",
    "            labels = [l.to(device) for l in labels]\n",
    "            \n",
    "            predicted_offsets, predicted_scores = model(imgs)\n",
    "            loss = loss_func(predicted_offsets, predicted_scores, boxes, labels)\n",
    "            val_loss += loss.item()\n",
    "\n",
    "    return round(val_loss/len(valset_loader), 4)\n",
    "\n",
    "\n",
    "def train_model(model, dataloaders, optimizer, loss_func, lr_scheduler=None, n_epoch=1, checkpoint=None):\n",
    "    last_epoch = 0\n",
    "    if checkpoint:\n",
    "        last_epoch = checkpoint['epoch']\n",
    "\n",
    "    train_loss_hist, val_loss_hist = [], []\n",
    "    for epoch_id in range(last_epoch+1, last_epoch+n_epoch+1):\n",
    "        start_time = time.time()\n",
    "        train_loss = train_epoch(model, dataloaders['train'], loss_func, optimizer, epoch_id)\n",
    "        training_time = round(time.time() - start_time)\n",
    "        if lr_scheduler: lr_scheduler.step()\n",
    "        \n",
    "        save_checkpoint(epoch_id, model, optimizer, checkpoint_path)\n",
    "        \n",
    "        # eval val_loss every epoch\n",
    "        start_time = time.time()\n",
    "        val_loss = eval_epoch(model, dataloaders['val'], loss_func) # if epoch_id % 5 == 0 else 'N/A'\n",
    "        val_time = round(time.time() - start_time)\n",
    "        \n",
    "        train_loss_hist.append(train_loss)\n",
    "        val_loss_hist.append(val_loss)\n",
    "        \n",
    "        print(f'Epoch {epoch_id} - train/val_time: {training_time}s | {val_time}s - train_loss: {train_loss} - val_loss: {val_loss}')\n",
    "        \n",
    "    return train_loss_hist, val_loss_hist\n",
    "\n",
    "def adjust_learning_rate(optimizer, lr):\n",
    "    for param_group in optimizer.param_groups:\n",
    "        param_group['lr'] = lr"
   ]
  },
  {
   "cell_type": "code",
   "execution_count": null,
   "metadata": {
    "colab": {},
    "colab_type": "code",
    "id": "2vY_0FEADxd0",
    "outputId": "5f46c1a3-95af-4efc-ad2d-ee24aa597185"
   },
   "outputs": [
    {
     "name": "stdout",
     "output_type": "stream",
     "text": [
      "Epoch 1 - step 0: train_loss: 4.1410\n",
      "Epoch 1 - step 50: train_loss: 3.7223\n",
      "Epoch 1 - step 100: train_loss: 3.2568\n",
      "Epoch 1 - step 150: train_loss: 3.6013\n",
      "Epoch 1 - step 200: train_loss: 3.4549\n",
      "Epoch 1 - step 250: train_loss: 3.9920\n",
      "Epoch 1 - step 300: train_loss: 4.2330\n",
      "Epoch 1 - step 350: train_loss: 4.0177\n",
      "Epoch 1 - step 400: train_loss: 3.6065\n",
      "Epoch 1 - step 450: train_loss: 3.7743\n",
      "Epoch 1 - step 500: train_loss: 3.7813\n",
      "Epoch 1 - train/val_time: 355s | 53s - train_loss: 3.6877 - val_loss: 3.9226\n",
      "Epoch 2 - train/val_time: 356s | 54s - train_loss: 3.6524 - val_loss: 3.856\n",
      "Epoch 3 - train/val_time: 369s | 56s - train_loss: 3.6276 - val_loss: 3.9384\n",
      "Epoch 4 - train/val_time: 390s | 59s - train_loss: 3.6472 - val_loss: 3.9306\n"
     ]
    }
   ],
   "source": [
    "train_hist, val_hist = train_model(ssd_eff, dataloaders, optimizer, loss_func, n_epoch=5)"
   ]
  },
  {
   "cell_type": "code",
   "execution_count": null,
   "metadata": {
    "colab": {},
    "colab_type": "code",
    "id": "eSsl3sPPCDV3",
    "outputId": "0986559d-d6b5-4651-f931-d783e2c02e1e"
   },
   "outputs": [
    {
     "name": "stdout",
     "output_type": "stream",
     "text": [
      "Epoch 5 - train/val_time: 366s | 54s - train_loss: 3.2953 - val_loss: 3.5163\n",
      "Epoch 6 - train/val_time: 359s | 54s - train_loss: 3.2467 - val_loss: 3.5558\n",
      "Epoch 7 - train/val_time: 358s | 54s - train_loss: 3.2435 - val_loss: 3.5787\n"
     ]
    }
   ],
   "source": [
    "adjust_learning_rate(optimizer, lr=1.5e-3)\n",
    "train_hist, val_hist = train_model(ssd_eff, dataloaders, optimizer, loss_func, n_epoch=3, checkpoint=checkpoint)"
   ]
  },
  {
   "cell_type": "code",
   "execution_count": null,
   "metadata": {
    "colab": {},
    "colab_type": "code",
    "id": "kMQLjAEfxmK7",
    "outputId": "3ea28563-73e7-49b2-bd24-75322863781f"
   },
   "outputs": [
    {
     "name": "stdout",
     "output_type": "stream",
     "text": [
      "Epoch 8 - train/val_time: 364s | 54s - train_loss: 3.2603 - val_loss: 3.5154\n",
      "Epoch 9 - train/val_time: 358s | 53s - train_loss: 3.2467 - val_loss: 3.6053\n",
      "Epoch 10 - train/val_time: 359s | 54s - train_loss: 3.2605 - val_loss: 3.5952\n",
      "Epoch 11 - train/val_time: 369s | 54s - train_loss: 3.274 - val_loss: 3.5628\n",
      "Epoch 12 - train/val_time: 366s | 55s - train_loss: 3.2744 - val_loss: 3.5739\n",
      "Epoch 13 - train/val_time: 372s | 56s - train_loss: 3.2553 - val_loss: 3.5515\n",
      "Epoch 14 - train/val_time: 373s | 56s - train_loss: 3.2626 - val_loss: 3.5325\n",
      "Epoch 15 - train/val_time: 373s | 56s - train_loss: 3.2638 - val_loss: 3.5201\n"
     ]
    }
   ],
   "source": [
    "train_hist, val_hist = train_model(ssd_eff, dataloaders, optimizer, loss_func, n_epoch=8, checkpoint=checkpoint)"
   ]
  },
  {
   "cell_type": "code",
   "execution_count": null,
   "metadata": {
    "colab": {},
    "colab_type": "code",
    "id": "ECk5IeUixmK_",
    "outputId": "7167bc09-7a48-4029-a2b9-db3e1eb8a497"
   },
   "outputs": [
    {
     "name": "stdout",
     "output_type": "stream",
     "text": [
      "Epoch 16 - train/val_time: 372s | 56s - train_loss: 3.0642 - val_loss: 3.3829\n",
      "Epoch 17 - train/val_time: 373s | 55s - train_loss: 3.0831 - val_loss: 3.3407\n",
      "Epoch 18 - train/val_time: 366s | 55s - train_loss: 3.0781 - val_loss: 3.4388\n",
      "Epoch 19 - train/val_time: 368s | 55s - train_loss: 3.0713 - val_loss: 3.3526\n",
      "Epoch 20 - train/val_time: 368s | 55s - train_loss: 3.0709 - val_loss: 3.3205\n",
      "Epoch 21 - train/val_time: 369s | 56s - train_loss: 3.0699 - val_loss: 3.3687\n",
      "Epoch 22 - train/val_time: 370s | 54s - train_loss: 3.059 - val_loss: 3.4097\n",
      "Epoch 23 - train/val_time: 359s | 54s - train_loss: 3.0608 - val_loss: 3.3244\n",
      "Epoch 24 - train/val_time: 357s | 54s - train_loss: 3.0596 - val_loss: 3.3343\n",
      "Epoch 25 - train/val_time: 359s | 54s - train_loss: 3.0564 - val_loss: 3.3893\n"
     ]
    }
   ],
   "source": [
    "checkpoint = torch.load(checkpoint_path)\n",
    "adjust_learning_rate(optimizer, lr=1.25e-3)\n",
    "train_hist, val_hist = train_model(ssd_eff, dataloaders, optimizer, loss_func, n_epoch=10, checkpoint=checkpoint)"
   ]
  },
  {
   "cell_type": "code",
   "execution_count": null,
   "metadata": {
    "colab": {},
    "colab_type": "code",
    "id": "OKfigwNSxmLH",
    "outputId": "11e25ef2-5a09-45b1-9277-31911dd31fdb"
   },
   "outputs": [
    {
     "name": "stdout",
     "output_type": "stream",
     "text": [
      "Epoch 26 - train/val_time: 357s | 54s - train_loss: 2.8855 - val_loss: 3.098\n",
      "Epoch 27 - train/val_time: 357s | 54s - train_loss: 2.8777 - val_loss: 3.1258\n",
      "Epoch 28 - train/val_time: 356s | 54s - train_loss: 2.8766 - val_loss: 3.0978\n",
      "Epoch 29 - train/val_time: 357s | 54s - train_loss: 2.8739 - val_loss: 3.1212\n",
      "Epoch 30 - train/val_time: 365s | 55s - train_loss: 2.87 - val_loss: 3.1155\n",
      "Epoch 31 - train/val_time: 380s | 58s - train_loss: 2.8798 - val_loss: 3.187\n",
      "Epoch 32 - train/val_time: 386s | 58s - train_loss: 2.8565 - val_loss: 3.1398\n",
      "Epoch 33 - train/val_time: 379s | 55s - train_loss: 2.8664 - val_loss: 3.1344\n",
      "Epoch 34 - train/val_time: 361s | 54s - train_loss: 2.8655 - val_loss: 3.1665\n",
      "Epoch 35 - train/val_time: 360s | 54s - train_loss: 2.8537 - val_loss: 3.1421\n"
     ]
    }
   ],
   "source": [
    "adjust_learning_rate(optimizer, lr=1e-3)\n",
    "train_hist, val_hist = train_model(ssd_eff, dataloaders, optimizer, loss_func, n_epoch=10, checkpoint=checkpoint)"
   ]
  },
  {
   "cell_type": "code",
   "execution_count": null,
   "metadata": {
    "colab": {},
    "colab_type": "code",
    "id": "u5SKS81IxmLM",
    "outputId": "813af529-a2a0-4e85-daa8-66f2a87795b9"
   },
   "outputs": [
    {
     "name": "stdout",
     "output_type": "stream",
     "text": [
      "Epoch 36 - train/val_time: 371s | 54s - train_loss: 2.7071 - val_loss: 2.9239\n",
      "Epoch 37 - train/val_time: 360s | 54s - train_loss: 2.6906 - val_loss: 2.9965\n",
      "Epoch 38 - train/val_time: 359s | 54s - train_loss: 2.6965 - val_loss: 2.977\n",
      "Epoch 39 - train/val_time: 361s | 53s - train_loss: 2.6752 - val_loss: 2.909\n",
      "Epoch 40 - train/val_time: 358s | 56s - train_loss: 2.6883 - val_loss: 2.9226\n"
     ]
    }
   ],
   "source": [
    "adjust_learning_rate(optimizer, lr=0.75e-3)\n",
    "train_hist, val_hist = train_model(ssd_eff, dataloaders, optimizer, loss_func, n_epoch=5, checkpoint=checkpoint)"
   ]
  },
  {
   "cell_type": "code",
   "execution_count": null,
   "metadata": {
    "colab": {},
    "colab_type": "code",
    "id": "0oBQu1dExmLR",
    "outputId": "4af62bd5-3335-4123-de79-8eacc9e03b6f"
   },
   "outputs": [
    {
     "name": "stdout",
     "output_type": "stream",
     "text": [
      "Epoch 41 - train/val_time: 365s | 55s - train_loss: 2.5952 - val_loss: 2.8109\n",
      "Epoch 42 - train/val_time: 363s | 54s - train_loss: 2.5902 - val_loss: 2.809\n",
      "Epoch 43 - train/val_time: 362s | 54s - train_loss: 2.5947 - val_loss: 2.8243\n",
      "Epoch 44 - train/val_time: 363s | 54s - train_loss: 2.5918 - val_loss: 2.8242\n",
      "Epoch 45 - train/val_time: 361s | 54s - train_loss: 2.5926 - val_loss: 2.7926\n"
     ]
    }
   ],
   "source": [
    "adjust_learning_rate(optimizer, lr=0.6e-3)\n",
    "train_hist, val_hist = train_model(ssd_eff, dataloaders, optimizer, loss_func, n_epoch=5, checkpoint=checkpoint)"
   ]
  },
  {
   "cell_type": "code",
   "execution_count": null,
   "metadata": {
    "colab": {
     "base_uri": "https://localhost:8080/",
     "height": 185
    },
    "colab_type": "code",
    "id": "EcFaDq2FxmLX",
    "outputId": "51250a4c-e2ae-467f-dc25-08f7e7ed6b09"
   },
   "outputs": [
    {
     "name": "stdout",
     "output_type": "stream",
     "text": [
      "Epoch 36 - train/val_time: 469s | 98s - train_loss: 2.5346 - val_loss: 2.7454\n",
      "Epoch 37 - train/val_time: 452s | 97s - train_loss: 2.4831 - val_loss: 2.6882\n",
      "Epoch 38 - train/val_time: 467s | 98s - train_loss: 2.4732 - val_loss: 2.6865\n",
      "Epoch 39 - train/val_time: 460s | 97s - train_loss: 2.4698 - val_loss: 2.6824\n",
      "Epoch 40 - train/val_time: 457s | 97s - train_loss: 2.467 - val_loss: 2.682\n",
      "Epoch 41 - train/val_time: 454s | 98s - train_loss: 2.4702 - val_loss: 2.6971\n",
      "Epoch 42 - train/val_time: 457s | 97s - train_loss: 2.4612 - val_loss: 2.6692\n",
      "Epoch 43 - train/val_time: 455s | 97s - train_loss: 2.4533 - val_loss: 2.6677\n",
      "Epoch 44 - train/val_time: 467s | 98s - train_loss: 2.455 - val_loss: 2.6513\n",
      "Epoch 45 - train/val_time: 467s | 98s - train_loss: 2.4616 - val_loss: 2.657\n"
     ]
    }
   ],
   "source": [
    "adjust_learning_rate(optimizer, lr=0.4e-3)\n",
    "train_hist, val_hist = train_model(ssd_eff, dataloaders, optimizer, loss_func, n_epoch=10, checkpoint=checkpoint)"
   ]
  },
  {
   "cell_type": "code",
   "execution_count": null,
   "metadata": {
    "colab": {
     "base_uri": "https://localhost:8080/",
     "height": 185
    },
    "colab_type": "code",
    "id": "rtDqdhp4iTVs",
    "outputId": "9dac8f8a-604b-458b-d423-8c9aa838e21f"
   },
   "outputs": [
    {
     "name": "stdout",
     "output_type": "stream",
     "text": [
      "Epoch 46 - train/val_time: 467s | 98s - train_loss: 2.3803 - val_loss: 2.5672\n",
      "Epoch 47 - train/val_time: 465s | 97s - train_loss: 2.3523 - val_loss: 2.5452\n",
      "Epoch 48 - train/val_time: 461s | 98s - train_loss: 2.3486 - val_loss: 2.543\n",
      "Epoch 49 - train/val_time: 466s | 97s - train_loss: 2.3565 - val_loss: 2.5365\n",
      "Epoch 50 - train/val_time: 461s | 97s - train_loss: 2.3355 - val_loss: 2.5295\n",
      "Epoch 51 - train/val_time: 458s | 96s - train_loss: 2.3356 - val_loss: 2.5285\n",
      "Epoch 52 - train/val_time: 452s | 97s - train_loss: 2.3349 - val_loss: 2.546\n",
      "Epoch 53 - train/val_time: 464s | 98s - train_loss: 2.3332 - val_loss: 2.5295\n",
      "Epoch 54 - train/val_time: 459s | 97s - train_loss: 2.3262 - val_loss: 2.5356\n",
      "Epoch 55 - train/val_time: 467s | 97s - train_loss: 2.3283 - val_loss: 2.5148\n"
     ]
    }
   ],
   "source": [
    "# Unfreeze extra conv blocks\n",
    "ssd_eff.extras.requires_grad_(True)\n",
    "adjust_learning_rate(optimizer, lr=0.2e-3)\n",
    "train_hist, val_hist = train_model(ssd_eff, dataloaders, optimizer, loss_func, n_epoch=10, checkpoint=checkpoint)"
   ]
  },
  {
   "cell_type": "code",
   "execution_count": null,
   "metadata": {
    "colab": {
     "base_uri": "https://localhost:8080/",
     "height": 101
    },
    "colab_type": "code",
    "id": "j6MtX7oixmLh",
    "outputId": "a7fb5999-2b87-4f71-c971-c4902a22b9f1"
   },
   "outputs": [
    {
     "name": "stdout",
     "output_type": "stream",
     "text": [
      "Epoch 56 - train/val_time: 500s | 98s - train_loss: 2.349 - val_loss: 2.5406\n",
      "Epoch 57 - train/val_time: 502s | 97s - train_loss: 2.3336 - val_loss: 2.5325\n",
      "Epoch 58 - train/val_time: 502s | 97s - train_loss: 2.3167 - val_loss: 2.5058\n",
      "Epoch 59 - train/val_time: 499s | 97s - train_loss: 2.3064 - val_loss: 2.4951\n",
      "Epoch 60 - train/val_time: 495s | 97s - train_loss: 2.3036 - val_loss: 2.497\n"
     ]
    }
   ],
   "source": [
    "# There are a total of 26 blocks in the backbone\n",
    "# Unfreeze block 20-25\n",
    "for i in range(20,26):\n",
    "    ssd_eff.backbone._blocks[i].requires_grad_(True)\n",
    "\n",
    "adjust_learning_rate(optimizer, lr=0.1e-3)\n",
    "train_hist, val_hist = train_model(ssd_eff, dataloaders, optimizer, loss_func, n_epoch=5, checkpoint=checkpoint)"
   ]
  },
  {
   "cell_type": "code",
   "execution_count": null,
   "metadata": {
    "colab": {
     "base_uri": "https://localhost:8080/",
     "height": 101
    },
    "colab_type": "code",
    "id": "ezWZyN0EZ4W9",
    "outputId": "b1f1bbf6-37ed-48d1-b8ea-0d70ec4f8cca"
   },
   "outputs": [
    {
     "name": "stdout",
     "output_type": "stream",
     "text": [
      "Epoch 61 - train/val_time: 526s | 101s - train_loss: 2.2787 - val_loss: 2.5052\n",
      "Epoch 62 - train/val_time: 523s | 100s - train_loss: 2.2849 - val_loss: 2.4842\n",
      "Epoch 63 - train/val_time: 522s | 101s - train_loss: 2.2726 - val_loss: 2.4857\n",
      "Epoch 64 - train/val_time: 523s | 100s - train_loss: 2.2743 - val_loss: 2.4928\n",
      "Epoch 65 - train/val_time: 517s | 101s - train_loss: 2.2673 - val_loss: 2.5125\n"
     ]
    }
   ],
   "source": [
    "train_hist, val_hist = train_model(ssd_eff, dataloaders, optimizer, loss_func, n_epoch=5, checkpoint=checkpoint)"
   ]
  },
  {
   "cell_type": "code",
   "execution_count": 6,
   "metadata": {
    "colab": {
     "base_uri": "https://localhost:8080/",
     "height": 101
    },
    "colab_type": "code",
    "id": "L3sKGfG7MYtV",
    "outputId": "22eee7d1-a7d5-40ba-c7d2-87435a8a20eb"
   },
   "outputs": [
    {
     "name": "stdout",
     "output_type": "stream",
     "text": [
      "Epoch 66 - train/val_time: 406s | 53s - train_loss: 2.1655 - val_loss: 2.497\n",
      "Epoch 67 - train/val_time: 398s | 52s - train_loss: 2.151 - val_loss: 2.4788\n",
      "Epoch 68 - train/val_time: 399s | 53s - train_loss: 2.1309 - val_loss: 2.4859\n",
      "Epoch 69 - train/val_time: 399s | 53s - train_loss: 2.122 - val_loss: 2.5139\n",
      "Epoch 70 - train/val_time: 397s | 53s - train_loss: 2.1094 - val_loss: 2.5144\n"
     ]
    }
   ],
   "source": [
    "# Unfreeze block 13-19\n",
    "for i in range(13,20):\n",
    "    ssd_eff.backbone._blocks[i].requires_grad_(True)\n",
    "\n",
    "adjust_learning_rate(optimizer, lr=0.06e-3)\n",
    "train_hist, val_hist = train_model(ssd_eff, dataloaders, optimizer, loss_func, n_epoch=5, checkpoint=checkpoint)"
   ]
  },
  {
   "cell_type": "code",
   "execution_count": 11,
   "metadata": {
    "colab": {
     "base_uri": "https://localhost:8080/",
     "height": 101
    },
    "colab_type": "code",
    "id": "axiKnTXrSDym",
    "outputId": "d8dd6d5e-c391-4943-b2a4-2e8c4e541d32"
   },
   "outputs": [
    {
     "name": "stdout",
     "output_type": "stream",
     "text": [
      "Epoch 71 - train/val_time: 410s | 52s - train_loss: 2.2186 - val_loss: 2.4569\n",
      "Epoch 72 - train/val_time: 406s | 52s - train_loss: 2.2136 - val_loss: 2.445\n",
      "Epoch 73 - train/val_time: 407s | 53s - train_loss: 2.1834 - val_loss: 2.4325\n",
      "Epoch 74 - train/val_time: 406s | 52s - train_loss: 2.183 - val_loss: 2.4431\n",
      "Epoch 75 - train/val_time: 403s | 52s - train_loss: 2.1717 - val_loss: 2.4394\n"
     ]
    }
   ],
   "source": [
    "train_hist, val_hist = train_model(ssd_eff, dataloaders, optimizer, loss_func, n_epoch=5, checkpoint=checkpoint)"
   ]
  },
  {
   "cell_type": "code",
   "execution_count": 14,
   "metadata": {
    "colab": {
     "base_uri": "https://localhost:8080/",
     "height": 101
    },
    "colab_type": "code",
    "id": "f7BwKfA4vs8x",
    "outputId": "b1985e76-dc76-4b63-98df-456295a3d5d2"
   },
   "outputs": [
    {
     "name": "stdout",
     "output_type": "stream",
     "text": [
      "Epoch 76 - train/val_time: 407s | 52s - train_loss: 2.1647 - val_loss: 2.4428\n",
      "Epoch 77 - train/val_time: 404s | 53s - train_loss: 2.1652 - val_loss: 2.462\n",
      "Epoch 78 - train/val_time: 402s | 52s - train_loss: 2.154 - val_loss: 2.4463\n",
      "Epoch 79 - train/val_time: 402s | 53s - train_loss: 2.1305 - val_loss: 2.4341\n",
      "Epoch 80 - train/val_time: 399s | 52s - train_loss: 2.1286 - val_loss: 2.4473\n"
     ]
    }
   ],
   "source": [
    "train_hist, val_hist = train_model(ssd_eff, dataloaders, optimizer, loss_func, n_epoch=5, checkpoint=checkpoint)"
   ]
  },
  {
   "cell_type": "code",
   "execution_count": 17,
   "metadata": {
    "colab": {
     "base_uri": "https://localhost:8080/",
     "height": 185
    },
    "colab_type": "code",
    "id": "pQgMwwzwMYw-",
    "outputId": "71b599f0-9581-4a45-927a-04f6b7502db5"
   },
   "outputs": [
    {
     "name": "stdout",
     "output_type": "stream",
     "text": [
      "Epoch 81 - train/val_time: 427s | 53s - train_loss: 2.1001 - val_loss: 2.4161\n",
      "Epoch 82 - train/val_time: 425s | 53s - train_loss: 2.0801 - val_loss: 2.407\n",
      "Epoch 83 - train/val_time: 425s | 52s - train_loss: 2.0722 - val_loss: 2.4128\n",
      "Epoch 84 - train/val_time: 419s | 52s - train_loss: 2.0614 - val_loss: 2.4084\n",
      "Epoch 85 - train/val_time: 421s | 52s - train_loss: 2.0591 - val_loss: 2.4122\n",
      "Epoch 86 - train/val_time: 419s | 52s - train_loss: 2.03 - val_loss: 2.4269\n",
      "Epoch 87 - train/val_time: 424s | 52s - train_loss: 2.0195 - val_loss: 2.4214\n",
      "Epoch 88 - train/val_time: 423s | 52s - train_loss: 2.006 - val_loss: 2.4289\n",
      "Epoch 89 - train/val_time: 423s | 52s - train_loss: 2.0027 - val_loss: 2.4138\n",
      "Epoch 90 - train/val_time: 424s | 53s - train_loss: 1.9991 - val_loss: 2.4254\n"
     ]
    }
   ],
   "source": [
    "# Unfreeze block 5-12\n",
    "for i in range(5,13):\n",
    "    ssd_eff.backbone._blocks[i].requires_grad_(True)\n",
    "\n",
    "adjust_learning_rate(optimizer, lr=0.04e-3)\n",
    "train_hist, val_hist = train_model(ssd_eff, dataloaders, optimizer, loss_func, n_epoch=10, checkpoint=checkpoint)"
   ]
  },
  {
   "cell_type": "code",
   "execution_count": null,
   "metadata": {
    "colab": {},
    "colab_type": "code",
    "id": "Ptzr0JJ9l2ah"
   },
   "outputs": [],
   "source": []
  },
  {
   "cell_type": "code",
   "execution_count": 20,
   "metadata": {
    "colab": {
     "base_uri": "https://localhost:8080/",
     "height": 185
    },
    "colab_type": "code",
    "id": "2NUY7IOImJXe",
    "outputId": "507cbe0a-806e-46a3-a8e1-d076a72734cf"
   },
   "outputs": [
    {
     "name": "stdout",
     "output_type": "stream",
     "text": [
      "Epoch 91 - train/val_time: 458s | 52s - train_loss: 1.9999 - val_loss: 2.4074\n",
      "Epoch 92 - train/val_time: 455s | 52s - train_loss: 1.994 - val_loss: 2.3813\n",
      "Epoch 93 - train/val_time: 449s | 51s - train_loss: 1.9789 - val_loss: 2.392\n",
      "Epoch 94 - train/val_time: 453s | 52s - train_loss: 1.9826 - val_loss: 2.4054\n",
      "Epoch 95 - train/val_time: 451s | 52s - train_loss: 1.9677 - val_loss: 2.3937\n",
      "Epoch 96 - train/val_time: 455s | 52s - train_loss: 1.9623 - val_loss: 2.3902\n",
      "Epoch 97 - train/val_time: 457s | 52s - train_loss: 1.9589 - val_loss: 2.3899\n",
      "Epoch 98 - train/val_time: 454s | 52s - train_loss: 1.9617 - val_loss: 2.3903\n",
      "Epoch 99 - train/val_time: 454s | 52s - train_loss: 1.9487 - val_loss: 2.4147\n",
      "Epoch 100 - train/val_time: 455s | 52s - train_loss: 1.9442 - val_loss: 2.3973\n"
     ]
    }
   ],
   "source": [
    "# Unfreeze the whole net for final fine-tuning\n",
    "ssd_eff.backbone.requires_grad_(True)\n",
    "\n",
    "adjust_learning_rate(optimizer, lr=0.03e-3)\n",
    "train_hist, val_hist = train_model(ssd_eff, dataloaders, optimizer, loss_func, n_epoch=10, checkpoint=checkpoint)"
   ]
  },
  {
   "cell_type": "code",
   "execution_count": 23,
   "metadata": {
    "colab": {
     "base_uri": "https://localhost:8080/",
     "height": 101
    },
    "colab_type": "code",
    "id": "_66-2LW4mJdy",
    "outputId": "77c87555-2b7a-41d7-82de-7164673b6a23"
   },
   "outputs": [
    {
     "name": "stdout",
     "output_type": "stream",
     "text": [
      "Epoch 101 - train/val_time: 461s | 53s - train_loss: 1.9213 - val_loss: 2.3855\n",
      "Epoch 102 - train/val_time: 458s | 52s - train_loss: 1.9137 - val_loss: 2.3867\n",
      "Epoch 103 - train/val_time: 458s | 53s - train_loss: 1.9055 - val_loss: 2.3882\n",
      "Epoch 104 - train/val_time: 459s | 53s - train_loss: 1.9052 - val_loss: 2.3787\n",
      "Epoch 105 - train/val_time: 460s | 52s - train_loss: 1.9112 - val_loss: 2.3713\n"
     ]
    }
   ],
   "source": [
    "adjust_learning_rate(optimizer, lr=0.02e-3)\n",
    "train_hist, val_hist = train_model(ssd_eff, dataloaders, optimizer, loss_func, n_epoch=5, checkpoint=checkpoint)"
   ]
  },
  {
   "cell_type": "code",
   "execution_count": null,
   "metadata": {
    "colab": {},
    "colab_type": "code",
    "id": "JtQGccSzl2lt"
   },
   "outputs": [],
   "source": []
  },
  {
   "cell_type": "markdown",
   "metadata": {
    "colab_type": "text",
    "id": "dlM-PjMJSB_v"
   },
   "source": [
    "## Evaluate"
   ]
  },
  {
   "cell_type": "code",
   "execution_count": 29,
   "metadata": {
    "colab": {},
    "colab_type": "code",
    "id": "ONP-WEc6SB_w"
   },
   "outputs": [],
   "source": [
    "def eval_APs_mAP(model, valset_loader):\n",
    "    '''\n",
    "    '''\n",
    "    model.eval()\n",
    "    detected_boxes = list()\n",
    "    detected_labels = list()\n",
    "    detected_scores = list()\n",
    "    true_boxes = list()\n",
    "    true_labels = list()\n",
    "    \n",
    "    with torch.no_grad():\n",
    "        for step, (imgs, boxes, labels) in enumerate(valset_loader):\n",
    "            # move input data to GPU\n",
    "            imgs = imgs.to(device)\n",
    "            boxes = [b.to(device) for b in boxes]\n",
    "            labels = [l.to(device) for l in labels]\n",
    "\n",
    "            # detect objects\n",
    "            predicted_offsets, predicted_scores = model(imgs)\n",
    "            batch_det_boxes, batch_det_labels, batch_det_scores = model.post_process_top_k(predicted_offsets, predicted_scores,\n",
    "                                                                                      score_threshold=0.02, iou_threshold=0.45, top_k=200)\n",
    "            detected_boxes.extend(batch_det_boxes)\n",
    "            detected_labels.extend(batch_det_labels)\n",
    "            detected_scores.extend(batch_det_scores)\n",
    "            true_boxes.extend(boxes)\n",
    "            true_labels.extend(labels)\n",
    "\n",
    "        # calculate metrics value\n",
    "        detected_boxes_np = [i.cpu().numpy() for i in detected_boxes]\n",
    "        detected_labels_np = [i.cpu().numpy() for i in detected_labels]\n",
    "        detected_scores_np = [i.cpu().numpy() for i in detected_scores]\n",
    "        true_boxes_np = [i.cpu().numpy() for i in true_boxes]\n",
    "        true_labels_np = [i.cpu().numpy() for i in true_labels]\n",
    "        result = eval_detection_voc(detected_boxes_np, detected_labels_np, detected_scores_np, true_boxes_np, true_labels_np)\n",
    "    \n",
    "    return result['ap'], result['map']"
   ]
  },
  {
   "cell_type": "code",
   "execution_count": 28,
   "metadata": {
    "colab": {
     "base_uri": "https://localhost:8080/",
     "height": 67
    },
    "colab_type": "code",
    "id": "maCEB4G5sX40",
    "outputId": "6fd40106-1637-4e08-c128-736cc3d54ffd"
   },
   "outputs": [
    {
     "name": "stdout",
     "output_type": "stream",
     "text": [
      "[  nan 0.857 0.869 0.755 0.702 0.452 0.777 0.841 0.912 0.62  0.805 0.734\n",
      " 0.87  0.874 0.867 0.853 0.599 0.756 0.794 0.941 0.777]\n",
      "0.7828\n"
     ]
    }
   ],
   "source": [
    "APs, mAP = eval_APs_mAP(ssd_eff, dataloaders['val'])\n",
    "print(np.around(APs, decimals=3))\n",
    "print(np.around(mAP, decimals=4))"
   ]
  },
  {
   "cell_type": "code",
   "execution_count": null,
   "metadata": {
    "colab": {},
    "colab_type": "code",
    "id": "hQJcoVp0JRpO"
   },
   "outputs": [],
   "source": []
  },
  {
   "cell_type": "code",
   "execution_count": null,
   "metadata": {
    "colab": {},
    "colab_type": "code",
    "id": "8nu1_CNdlIHr"
   },
   "outputs": [],
   "source": []
  },
  {
   "cell_type": "markdown",
   "metadata": {
    "colab_type": "text",
    "id": "lMjwpF47q6VW"
   },
   "source": [
    "## Explore precision recall, choosing threshold value"
   ]
  },
  {
   "cell_type": "code",
   "execution_count": 30,
   "metadata": {
    "colab": {},
    "colab_type": "code",
    "id": "SRStTpNAlIMZ"
   },
   "outputs": [],
   "source": [
    "import matplotlib.pyplot as plt\n",
    "from eval_detection_voc import calc_detection_voc_prec_rec\n",
    "\n",
    "def cal_prec_rec(det_boxes, det_labels, det_scores, true_boxes, true_labels):\n",
    "    det_boxes_np = [i.cpu().numpy() for i in det_boxes]\n",
    "    det_labels_np = [i.cpu().numpy() for i in det_labels]\n",
    "    det_scores_np = [i.cpu().numpy() for i in det_scores]\n",
    "    true_boxes_np = [i.cpu().numpy() for i in true_boxes]\n",
    "    true_labels_np = [i.cpu().numpy() for i in true_labels]\n",
    "    \n",
    "    precision, recall = calc_detection_voc_prec_rec(det_boxes_np, det_labels_np, det_scores_np, true_boxes_np, true_labels_np)\n",
    "    precision = np.array([precision[i][-1] for i in range(1,21)])\n",
    "    recall = np.array([recall[i][-1] for i in range(1,21)])\n",
    "    return precision, recall"
   ]
  },
  {
   "cell_type": "code",
   "execution_count": 31,
   "metadata": {
    "colab": {},
    "colab_type": "code",
    "id": "mDfqoYGJlZoP"
   },
   "outputs": [],
   "source": [
    "all_predicted_offsets = list()\n",
    "all_predicted_scores = list()\n",
    "true_boxes = list()\n",
    "true_labels = list()\n",
    "\n",
    "ssd_eff.eval()\n",
    "with torch.no_grad():\n",
    "    for step, (imgs, boxes, labels) in enumerate(dataloaders['val']):\n",
    "        imgs = imgs.to(device)\n",
    "        boxes = [b.to(device) for b in boxes]\n",
    "        labels = [l.to(device) for l in labels]\n",
    "        \n",
    "        predicted_offsets, predicted_scores = ssd_eff(imgs)\n",
    "        all_predicted_offsets.append(predicted_offsets)\n",
    "        all_predicted_scores.append(predicted_scores)\n",
    "        true_boxes.extend(boxes)\n",
    "        true_labels.extend(labels)\n",
    "        if step == 80: break\n",
    "        \n",
    "    all_predicted_offsets = torch.cat(all_predicted_offsets, dim=0)\n",
    "    all_predicted_scores = torch.cat(all_predicted_scores, dim=0)"
   ]
  },
  {
   "cell_type": "code",
   "execution_count": 32,
   "metadata": {
    "colab": {},
    "colab_type": "code",
    "id": "8-eNiuDxlhbC"
   },
   "outputs": [],
   "source": [
    "precs, recs = [], []\n",
    "\n",
    "with torch.no_grad():\n",
    "    for score_threshold in np.arange(0.02, 0.70, 0.02):\n",
    "        det_boxes, det_labels, det_scores = ssd_eff.post_process_top_k(all_predicted_offsets, all_predicted_scores,\n",
    "                                                                       score_threshold, iou_threshold=0.45, top_k=200)\n",
    "        prec, rec = cal_prec_rec(det_boxes, det_labels, det_scores, true_boxes, true_labels)\n",
    "        precs.append(prec)\n",
    "        recs.append(rec)"
   ]
  },
  {
   "cell_type": "code",
   "execution_count": 33,
   "metadata": {
    "colab": {
     "base_uri": "https://localhost:8080/",
     "height": 299
    },
    "colab_type": "code",
    "id": "zdF9LSRnlopX",
    "outputId": "3f489be9-9e2c-45e7-eb84-f5088b5accb9"
   },
   "outputs": [
    {
     "data": {
      "image/png": "[encoded data removed]",
      "text/plain": [
       "<Figure size 432x288 with 1 Axes>"
      ]
     },
     "metadata": {
      "tags": []
     },
     "output_type": "display_data"
    }
   ],
   "source": [
    "precs_mean = [i.mean() for i in precs]\n",
    "recs_mean = [i.mean() for i in recs]\n",
    "plt.style.use(\"ggplot\")\n",
    "plt.figure()\n",
    "plt.plot(recs_mean, precs_mean)\n",
    "plt.title(\"Precision/Recall curve\")\n",
    "plt.xlabel(\"Recall\")\n",
    "plt.ylabel(\"Precision\")\n",
    "plt.show()"
   ]
  },
  {
   "cell_type": "code",
   "execution_count": 39,
   "metadata": {
    "colab": {
     "base_uri": "https://localhost:8080/",
     "height": 605
    },
    "colab_type": "code",
    "id": "7D-9MQgflsO6",
    "outputId": "2151ec65-31ef-4b7a-a535-4c9d56add3c1"
   },
   "outputs": [
    {
     "name": "stdout",
     "output_type": "stream",
     "text": [
      "threshold_value: precision  &  recall\n",
      "0.02:  0.09   0.96\n",
      "0.04:  0.17   0.93\n",
      "0.06:  0.25   0.91\n",
      "0.08:  0.34   0.88\n",
      "0.10:  0.42   0.86\n",
      "0.12:  0.48   0.84\n",
      "0.14:  0.53   0.82\n",
      "0.16:  0.58   0.80\n",
      "0.18:  0.62   0.78\n",
      "0.20:  0.65   0.77\n",
      "0.22:  0.68   0.76\n",
      "0.24:  0.71   0.75\n",
      "0.26:  0.73   0.74\n",
      "0.28:  0.75   0.73\n",
      "0.30:  0.77   0.72\n",
      "0.32:  0.78   0.71\n",
      "0.34:  0.79   0.70\n",
      "0.36:  0.81   0.69\n",
      "0.38:  0.82   0.68\n",
      "0.40:  0.83   0.68\n",
      "0.42:  0.84   0.67\n",
      "0.44:  0.84   0.66\n",
      "0.46:  0.85   0.65\n",
      "0.48:  0.86   0.64\n",
      "0.50:  0.87   0.64\n",
      "0.52:  0.88   0.63\n",
      "0.54:  0.88   0.62\n",
      "0.56:  0.89   0.61\n",
      "0.58:  0.90   0.60\n",
      "0.60:  0.90   0.59\n",
      "0.62:  0.91   0.58\n",
      "0.64:  0.91   0.58\n",
      "0.66:  0.92   0.57\n",
      "0.68:  0.92   0.56\n"
     ]
    }
   ],
   "source": [
    "print('threshold_value: precision  &  recall')\n",
    "for threshold_id, threshold_value in enumerate(np.arange(0.02, 0.70, 0.02)):\n",
    "    print(f'{threshold_value:.2f}:  {precs[threshold_id].mean():.2f}   {recs[threshold_id].mean():.2f}')"
   ]
  },
  {
   "cell_type": "code",
   "execution_count": null,
   "metadata": {
    "colab": {},
    "colab_type": "code",
    "id": "L1OKc5JptTR-"
   },
   "outputs": [],
   "source": []
  }
 ],
 "metadata": {
  "accelerator": "GPU",
  "colab": {
   "name": "train-eval-sddEff.ipynb",
   "provenance": [],
   "toc_visible": true
  },
  "kernelspec": {
   "display_name": "Python 3",
   "language": "python",
   "name": "python3"
  },
  "language_info": {
   "codemirror_mode": {
    "name": "ipython",
    "version": 3
   },
   "file_extension": ".py",
   "mimetype": "text/x-python",
   "name": "python",
   "nbconvert_exporter": "python",
   "pygments_lexer": "ipython3",
   "version": "3.7.6"
  }
 },
 "nbformat": 4,
 "nbformat_minor": 4
}
